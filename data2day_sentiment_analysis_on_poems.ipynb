{
  "nbformat": 4,
  "nbformat_minor": 0,
  "metadata": {
    "colab": {
      "provenance": [],
      "collapsed_sections": [
        "4qzW8J1g3yAO"
      ],
      "authorship_tag": "ABX9TyNDpTu4UgPOiRPDTm0FCaom",
      "include_colab_link": true
    },
    "kernelspec": {
      "name": "python3",
      "display_name": "Python 3"
    },
    "language_info": {
      "name": "python"
    },
    "accelerator": "GPU",
    "gpuClass": "standard",
    "widgets": {
      "application/vnd.jupyter.widget-state+json": {
        "e6c02b6d657d48ada25f690393b4b3ff": {
          "model_module": "@jupyter-widgets/controls",
          "model_name": "HBoxModel",
          "model_module_version": "1.5.0",
          "state": {
            "_dom_classes": [],
            "_model_module": "@jupyter-widgets/controls",
            "_model_module_version": "1.5.0",
            "_model_name": "HBoxModel",
            "_view_count": null,
            "_view_module": "@jupyter-widgets/controls",
            "_view_module_version": "1.5.0",
            "_view_name": "HBoxView",
            "box_style": "",
            "children": [
              "IPY_MODEL_8e131d1c686e4b52864286ef4085c5c5",
              "IPY_MODEL_70f4fc483e164d938d5a009fa2464c4f",
              "IPY_MODEL_34a9a891198c489d97f40283523bfba3"
            ],
            "layout": "IPY_MODEL_6e409aa655a845f5a38aef36207bc933"
          }
        },
        "8e131d1c686e4b52864286ef4085c5c5": {
          "model_module": "@jupyter-widgets/controls",
          "model_name": "HTMLModel",
          "model_module_version": "1.5.0",
          "state": {
            "_dom_classes": [],
            "_model_module": "@jupyter-widgets/controls",
            "_model_module_version": "1.5.0",
            "_model_name": "HTMLModel",
            "_view_count": null,
            "_view_module": "@jupyter-widgets/controls",
            "_view_module_version": "1.5.0",
            "_view_name": "HTMLView",
            "description": "",
            "description_tooltip": null,
            "layout": "IPY_MODEL_21c316ab6b71421faa108f35e28de35a",
            "placeholder": "​",
            "style": "IPY_MODEL_fe1e2b4be87841d7a0147456ddff7b38",
            "value": "100%"
          }
        },
        "70f4fc483e164d938d5a009fa2464c4f": {
          "model_module": "@jupyter-widgets/controls",
          "model_name": "FloatProgressModel",
          "model_module_version": "1.5.0",
          "state": {
            "_dom_classes": [],
            "_model_module": "@jupyter-widgets/controls",
            "_model_module_version": "1.5.0",
            "_model_name": "FloatProgressModel",
            "_view_count": null,
            "_view_module": "@jupyter-widgets/controls",
            "_view_module_version": "1.5.0",
            "_view_name": "ProgressView",
            "bar_style": "success",
            "description": "",
            "description_tooltip": null,
            "layout": "IPY_MODEL_4bf6426abe034c8db74c719c9c7afd4c",
            "max": 3,
            "min": 0,
            "orientation": "horizontal",
            "style": "IPY_MODEL_3ebbeb0fa48a461fa65b31874cb1b6d5",
            "value": 3
          }
        },
        "34a9a891198c489d97f40283523bfba3": {
          "model_module": "@jupyter-widgets/controls",
          "model_name": "HTMLModel",
          "model_module_version": "1.5.0",
          "state": {
            "_dom_classes": [],
            "_model_module": "@jupyter-widgets/controls",
            "_model_module_version": "1.5.0",
            "_model_name": "HTMLModel",
            "_view_count": null,
            "_view_module": "@jupyter-widgets/controls",
            "_view_module_version": "1.5.0",
            "_view_name": "HTMLView",
            "description": "",
            "description_tooltip": null,
            "layout": "IPY_MODEL_a83f8c6b7c184e99a2bd5a6b2729667d",
            "placeholder": "​",
            "style": "IPY_MODEL_125bc805e6ba4f02ab63f42578733e91",
            "value": " 3/3 [00:00&lt;00:00, 83.12it/s]"
          }
        },
        "6e409aa655a845f5a38aef36207bc933": {
          "model_module": "@jupyter-widgets/base",
          "model_name": "LayoutModel",
          "model_module_version": "1.2.0",
          "state": {
            "_model_module": "@jupyter-widgets/base",
            "_model_module_version": "1.2.0",
            "_model_name": "LayoutModel",
            "_view_count": null,
            "_view_module": "@jupyter-widgets/base",
            "_view_module_version": "1.2.0",
            "_view_name": "LayoutView",
            "align_content": null,
            "align_items": null,
            "align_self": null,
            "border": null,
            "bottom": null,
            "display": null,
            "flex": null,
            "flex_flow": null,
            "grid_area": null,
            "grid_auto_columns": null,
            "grid_auto_flow": null,
            "grid_auto_rows": null,
            "grid_column": null,
            "grid_gap": null,
            "grid_row": null,
            "grid_template_areas": null,
            "grid_template_columns": null,
            "grid_template_rows": null,
            "height": null,
            "justify_content": null,
            "justify_items": null,
            "left": null,
            "margin": null,
            "max_height": null,
            "max_width": null,
            "min_height": null,
            "min_width": null,
            "object_fit": null,
            "object_position": null,
            "order": null,
            "overflow": null,
            "overflow_x": null,
            "overflow_y": null,
            "padding": null,
            "right": null,
            "top": null,
            "visibility": null,
            "width": null
          }
        },
        "21c316ab6b71421faa108f35e28de35a": {
          "model_module": "@jupyter-widgets/base",
          "model_name": "LayoutModel",
          "model_module_version": "1.2.0",
          "state": {
            "_model_module": "@jupyter-widgets/base",
            "_model_module_version": "1.2.0",
            "_model_name": "LayoutModel",
            "_view_count": null,
            "_view_module": "@jupyter-widgets/base",
            "_view_module_version": "1.2.0",
            "_view_name": "LayoutView",
            "align_content": null,
            "align_items": null,
            "align_self": null,
            "border": null,
            "bottom": null,
            "display": null,
            "flex": null,
            "flex_flow": null,
            "grid_area": null,
            "grid_auto_columns": null,
            "grid_auto_flow": null,
            "grid_auto_rows": null,
            "grid_column": null,
            "grid_gap": null,
            "grid_row": null,
            "grid_template_areas": null,
            "grid_template_columns": null,
            "grid_template_rows": null,
            "height": null,
            "justify_content": null,
            "justify_items": null,
            "left": null,
            "margin": null,
            "max_height": null,
            "max_width": null,
            "min_height": null,
            "min_width": null,
            "object_fit": null,
            "object_position": null,
            "order": null,
            "overflow": null,
            "overflow_x": null,
            "overflow_y": null,
            "padding": null,
            "right": null,
            "top": null,
            "visibility": null,
            "width": null
          }
        },
        "fe1e2b4be87841d7a0147456ddff7b38": {
          "model_module": "@jupyter-widgets/controls",
          "model_name": "DescriptionStyleModel",
          "model_module_version": "1.5.0",
          "state": {
            "_model_module": "@jupyter-widgets/controls",
            "_model_module_version": "1.5.0",
            "_model_name": "DescriptionStyleModel",
            "_view_count": null,
            "_view_module": "@jupyter-widgets/base",
            "_view_module_version": "1.2.0",
            "_view_name": "StyleView",
            "description_width": ""
          }
        },
        "4bf6426abe034c8db74c719c9c7afd4c": {
          "model_module": "@jupyter-widgets/base",
          "model_name": "LayoutModel",
          "model_module_version": "1.2.0",
          "state": {
            "_model_module": "@jupyter-widgets/base",
            "_model_module_version": "1.2.0",
            "_model_name": "LayoutModel",
            "_view_count": null,
            "_view_module": "@jupyter-widgets/base",
            "_view_module_version": "1.2.0",
            "_view_name": "LayoutView",
            "align_content": null,
            "align_items": null,
            "align_self": null,
            "border": null,
            "bottom": null,
            "display": null,
            "flex": null,
            "flex_flow": null,
            "grid_area": null,
            "grid_auto_columns": null,
            "grid_auto_flow": null,
            "grid_auto_rows": null,
            "grid_column": null,
            "grid_gap": null,
            "grid_row": null,
            "grid_template_areas": null,
            "grid_template_columns": null,
            "grid_template_rows": null,
            "height": null,
            "justify_content": null,
            "justify_items": null,
            "left": null,
            "margin": null,
            "max_height": null,
            "max_width": null,
            "min_height": null,
            "min_width": null,
            "object_fit": null,
            "object_position": null,
            "order": null,
            "overflow": null,
            "overflow_x": null,
            "overflow_y": null,
            "padding": null,
            "right": null,
            "top": null,
            "visibility": null,
            "width": null
          }
        },
        "3ebbeb0fa48a461fa65b31874cb1b6d5": {
          "model_module": "@jupyter-widgets/controls",
          "model_name": "ProgressStyleModel",
          "model_module_version": "1.5.0",
          "state": {
            "_model_module": "@jupyter-widgets/controls",
            "_model_module_version": "1.5.0",
            "_model_name": "ProgressStyleModel",
            "_view_count": null,
            "_view_module": "@jupyter-widgets/base",
            "_view_module_version": "1.2.0",
            "_view_name": "StyleView",
            "bar_color": null,
            "description_width": ""
          }
        },
        "a83f8c6b7c184e99a2bd5a6b2729667d": {
          "model_module": "@jupyter-widgets/base",
          "model_name": "LayoutModel",
          "model_module_version": "1.2.0",
          "state": {
            "_model_module": "@jupyter-widgets/base",
            "_model_module_version": "1.2.0",
            "_model_name": "LayoutModel",
            "_view_count": null,
            "_view_module": "@jupyter-widgets/base",
            "_view_module_version": "1.2.0",
            "_view_name": "LayoutView",
            "align_content": null,
            "align_items": null,
            "align_self": null,
            "border": null,
            "bottom": null,
            "display": null,
            "flex": null,
            "flex_flow": null,
            "grid_area": null,
            "grid_auto_columns": null,
            "grid_auto_flow": null,
            "grid_auto_rows": null,
            "grid_column": null,
            "grid_gap": null,
            "grid_row": null,
            "grid_template_areas": null,
            "grid_template_columns": null,
            "grid_template_rows": null,
            "height": null,
            "justify_content": null,
            "justify_items": null,
            "left": null,
            "margin": null,
            "max_height": null,
            "max_width": null,
            "min_height": null,
            "min_width": null,
            "object_fit": null,
            "object_position": null,
            "order": null,
            "overflow": null,
            "overflow_x": null,
            "overflow_y": null,
            "padding": null,
            "right": null,
            "top": null,
            "visibility": null,
            "width": null
          }
        },
        "125bc805e6ba4f02ab63f42578733e91": {
          "model_module": "@jupyter-widgets/controls",
          "model_name": "DescriptionStyleModel",
          "model_module_version": "1.5.0",
          "state": {
            "_model_module": "@jupyter-widgets/controls",
            "_model_module_version": "1.5.0",
            "_model_name": "DescriptionStyleModel",
            "_view_count": null,
            "_view_module": "@jupyter-widgets/base",
            "_view_module_version": "1.2.0",
            "_view_name": "StyleView",
            "description_width": ""
          }
        },
        "ed6d77ab1f664943b6818555717c7165": {
          "model_module": "@jupyter-widgets/controls",
          "model_name": "HBoxModel",
          "model_module_version": "1.5.0",
          "state": {
            "_dom_classes": [],
            "_model_module": "@jupyter-widgets/controls",
            "_model_module_version": "1.5.0",
            "_model_name": "HBoxModel",
            "_view_count": null,
            "_view_module": "@jupyter-widgets/controls",
            "_view_module_version": "1.5.0",
            "_view_name": "HBoxView",
            "box_style": "",
            "children": [
              "IPY_MODEL_ab1fe2bdd60048ec82af0d1d0d35e66e",
              "IPY_MODEL_8ba83317a37145a3b948d4ebbb3898aa",
              "IPY_MODEL_0afcaae2165c417cac11d1bb95ba3834"
            ],
            "layout": "IPY_MODEL_29f8aeba30f24d21b9740c8bb298ff25"
          }
        },
        "ab1fe2bdd60048ec82af0d1d0d35e66e": {
          "model_module": "@jupyter-widgets/controls",
          "model_name": "HTMLModel",
          "model_module_version": "1.5.0",
          "state": {
            "_dom_classes": [],
            "_model_module": "@jupyter-widgets/controls",
            "_model_module_version": "1.5.0",
            "_model_name": "HTMLModel",
            "_view_count": null,
            "_view_module": "@jupyter-widgets/controls",
            "_view_module_version": "1.5.0",
            "_view_name": "HTMLView",
            "description": "",
            "description_tooltip": null,
            "layout": "IPY_MODEL_ff446f734dd0428782c3997d3cff9afc",
            "placeholder": "​",
            "style": "IPY_MODEL_8d840f47d32442e8b62e3662ba95e21e",
            "value": "100%"
          }
        },
        "8ba83317a37145a3b948d4ebbb3898aa": {
          "model_module": "@jupyter-widgets/controls",
          "model_name": "FloatProgressModel",
          "model_module_version": "1.5.0",
          "state": {
            "_dom_classes": [],
            "_model_module": "@jupyter-widgets/controls",
            "_model_module_version": "1.5.0",
            "_model_name": "FloatProgressModel",
            "_view_count": null,
            "_view_module": "@jupyter-widgets/controls",
            "_view_module_version": "1.5.0",
            "_view_name": "ProgressView",
            "bar_style": "success",
            "description": "",
            "description_tooltip": null,
            "layout": "IPY_MODEL_7ba25162b5694cfa88058f902480a199",
            "max": 1,
            "min": 0,
            "orientation": "horizontal",
            "style": "IPY_MODEL_c5ecaeef2ab44de697181356ac15b72f",
            "value": 1
          }
        },
        "0afcaae2165c417cac11d1bb95ba3834": {
          "model_module": "@jupyter-widgets/controls",
          "model_name": "HTMLModel",
          "model_module_version": "1.5.0",
          "state": {
            "_dom_classes": [],
            "_model_module": "@jupyter-widgets/controls",
            "_model_module_version": "1.5.0",
            "_model_name": "HTMLModel",
            "_view_count": null,
            "_view_module": "@jupyter-widgets/controls",
            "_view_module_version": "1.5.0",
            "_view_name": "HTMLView",
            "description": "",
            "description_tooltip": null,
            "layout": "IPY_MODEL_a88e2da0f9754969adab99e3d340f44e",
            "placeholder": "​",
            "style": "IPY_MODEL_ae07c116a5c548b5b0b0657058fe0273",
            "value": " 1/1 [00:00&lt;00:00,  6.17ba/s]"
          }
        },
        "29f8aeba30f24d21b9740c8bb298ff25": {
          "model_module": "@jupyter-widgets/base",
          "model_name": "LayoutModel",
          "model_module_version": "1.2.0",
          "state": {
            "_model_module": "@jupyter-widgets/base",
            "_model_module_version": "1.2.0",
            "_model_name": "LayoutModel",
            "_view_count": null,
            "_view_module": "@jupyter-widgets/base",
            "_view_module_version": "1.2.0",
            "_view_name": "LayoutView",
            "align_content": null,
            "align_items": null,
            "align_self": null,
            "border": null,
            "bottom": null,
            "display": null,
            "flex": null,
            "flex_flow": null,
            "grid_area": null,
            "grid_auto_columns": null,
            "grid_auto_flow": null,
            "grid_auto_rows": null,
            "grid_column": null,
            "grid_gap": null,
            "grid_row": null,
            "grid_template_areas": null,
            "grid_template_columns": null,
            "grid_template_rows": null,
            "height": null,
            "justify_content": null,
            "justify_items": null,
            "left": null,
            "margin": null,
            "max_height": null,
            "max_width": null,
            "min_height": null,
            "min_width": null,
            "object_fit": null,
            "object_position": null,
            "order": null,
            "overflow": null,
            "overflow_x": null,
            "overflow_y": null,
            "padding": null,
            "right": null,
            "top": null,
            "visibility": null,
            "width": null
          }
        },
        "ff446f734dd0428782c3997d3cff9afc": {
          "model_module": "@jupyter-widgets/base",
          "model_name": "LayoutModel",
          "model_module_version": "1.2.0",
          "state": {
            "_model_module": "@jupyter-widgets/base",
            "_model_module_version": "1.2.0",
            "_model_name": "LayoutModel",
            "_view_count": null,
            "_view_module": "@jupyter-widgets/base",
            "_view_module_version": "1.2.0",
            "_view_name": "LayoutView",
            "align_content": null,
            "align_items": null,
            "align_self": null,
            "border": null,
            "bottom": null,
            "display": null,
            "flex": null,
            "flex_flow": null,
            "grid_area": null,
            "grid_auto_columns": null,
            "grid_auto_flow": null,
            "grid_auto_rows": null,
            "grid_column": null,
            "grid_gap": null,
            "grid_row": null,
            "grid_template_areas": null,
            "grid_template_columns": null,
            "grid_template_rows": null,
            "height": null,
            "justify_content": null,
            "justify_items": null,
            "left": null,
            "margin": null,
            "max_height": null,
            "max_width": null,
            "min_height": null,
            "min_width": null,
            "object_fit": null,
            "object_position": null,
            "order": null,
            "overflow": null,
            "overflow_x": null,
            "overflow_y": null,
            "padding": null,
            "right": null,
            "top": null,
            "visibility": null,
            "width": null
          }
        },
        "8d840f47d32442e8b62e3662ba95e21e": {
          "model_module": "@jupyter-widgets/controls",
          "model_name": "DescriptionStyleModel",
          "model_module_version": "1.5.0",
          "state": {
            "_model_module": "@jupyter-widgets/controls",
            "_model_module_version": "1.5.0",
            "_model_name": "DescriptionStyleModel",
            "_view_count": null,
            "_view_module": "@jupyter-widgets/base",
            "_view_module_version": "1.2.0",
            "_view_name": "StyleView",
            "description_width": ""
          }
        },
        "7ba25162b5694cfa88058f902480a199": {
          "model_module": "@jupyter-widgets/base",
          "model_name": "LayoutModel",
          "model_module_version": "1.2.0",
          "state": {
            "_model_module": "@jupyter-widgets/base",
            "_model_module_version": "1.2.0",
            "_model_name": "LayoutModel",
            "_view_count": null,
            "_view_module": "@jupyter-widgets/base",
            "_view_module_version": "1.2.0",
            "_view_name": "LayoutView",
            "align_content": null,
            "align_items": null,
            "align_self": null,
            "border": null,
            "bottom": null,
            "display": null,
            "flex": null,
            "flex_flow": null,
            "grid_area": null,
            "grid_auto_columns": null,
            "grid_auto_flow": null,
            "grid_auto_rows": null,
            "grid_column": null,
            "grid_gap": null,
            "grid_row": null,
            "grid_template_areas": null,
            "grid_template_columns": null,
            "grid_template_rows": null,
            "height": null,
            "justify_content": null,
            "justify_items": null,
            "left": null,
            "margin": null,
            "max_height": null,
            "max_width": null,
            "min_height": null,
            "min_width": null,
            "object_fit": null,
            "object_position": null,
            "order": null,
            "overflow": null,
            "overflow_x": null,
            "overflow_y": null,
            "padding": null,
            "right": null,
            "top": null,
            "visibility": null,
            "width": null
          }
        },
        "c5ecaeef2ab44de697181356ac15b72f": {
          "model_module": "@jupyter-widgets/controls",
          "model_name": "ProgressStyleModel",
          "model_module_version": "1.5.0",
          "state": {
            "_model_module": "@jupyter-widgets/controls",
            "_model_module_version": "1.5.0",
            "_model_name": "ProgressStyleModel",
            "_view_count": null,
            "_view_module": "@jupyter-widgets/base",
            "_view_module_version": "1.2.0",
            "_view_name": "StyleView",
            "bar_color": null,
            "description_width": ""
          }
        },
        "a88e2da0f9754969adab99e3d340f44e": {
          "model_module": "@jupyter-widgets/base",
          "model_name": "LayoutModel",
          "model_module_version": "1.2.0",
          "state": {
            "_model_module": "@jupyter-widgets/base",
            "_model_module_version": "1.2.0",
            "_model_name": "LayoutModel",
            "_view_count": null,
            "_view_module": "@jupyter-widgets/base",
            "_view_module_version": "1.2.0",
            "_view_name": "LayoutView",
            "align_content": null,
            "align_items": null,
            "align_self": null,
            "border": null,
            "bottom": null,
            "display": null,
            "flex": null,
            "flex_flow": null,
            "grid_area": null,
            "grid_auto_columns": null,
            "grid_auto_flow": null,
            "grid_auto_rows": null,
            "grid_column": null,
            "grid_gap": null,
            "grid_row": null,
            "grid_template_areas": null,
            "grid_template_columns": null,
            "grid_template_rows": null,
            "height": null,
            "justify_content": null,
            "justify_items": null,
            "left": null,
            "margin": null,
            "max_height": null,
            "max_width": null,
            "min_height": null,
            "min_width": null,
            "object_fit": null,
            "object_position": null,
            "order": null,
            "overflow": null,
            "overflow_x": null,
            "overflow_y": null,
            "padding": null,
            "right": null,
            "top": null,
            "visibility": null,
            "width": null
          }
        },
        "ae07c116a5c548b5b0b0657058fe0273": {
          "model_module": "@jupyter-widgets/controls",
          "model_name": "DescriptionStyleModel",
          "model_module_version": "1.5.0",
          "state": {
            "_model_module": "@jupyter-widgets/controls",
            "_model_module_version": "1.5.0",
            "_model_name": "DescriptionStyleModel",
            "_view_count": null,
            "_view_module": "@jupyter-widgets/base",
            "_view_module_version": "1.2.0",
            "_view_name": "StyleView",
            "description_width": ""
          }
        },
        "5f9c5e8d440b485684d8616bd45d85e8": {
          "model_module": "@jupyter-widgets/controls",
          "model_name": "HBoxModel",
          "model_module_version": "1.5.0",
          "state": {
            "_dom_classes": [],
            "_model_module": "@jupyter-widgets/controls",
            "_model_module_version": "1.5.0",
            "_model_name": "HBoxModel",
            "_view_count": null,
            "_view_module": "@jupyter-widgets/controls",
            "_view_module_version": "1.5.0",
            "_view_name": "HBoxView",
            "box_style": "",
            "children": [
              "IPY_MODEL_d90450bfaf2d487f9be20edeec7f4da2",
              "IPY_MODEL_928429cde775476094202a20661dd3b5",
              "IPY_MODEL_6ceedd084f0d4baaa74c256fd7725411"
            ],
            "layout": "IPY_MODEL_c85d0f9303ba452891b4197d51b6517a"
          }
        },
        "d90450bfaf2d487f9be20edeec7f4da2": {
          "model_module": "@jupyter-widgets/controls",
          "model_name": "HTMLModel",
          "model_module_version": "1.5.0",
          "state": {
            "_dom_classes": [],
            "_model_module": "@jupyter-widgets/controls",
            "_model_module_version": "1.5.0",
            "_model_name": "HTMLModel",
            "_view_count": null,
            "_view_module": "@jupyter-widgets/controls",
            "_view_module_version": "1.5.0",
            "_view_name": "HTMLView",
            "description": "",
            "description_tooltip": null,
            "layout": "IPY_MODEL_140a2537e48c4529b2355f9dc931a50f",
            "placeholder": "​",
            "style": "IPY_MODEL_e9f893ac063f4e86a67ec808b4607b47",
            "value": "Downloading: 100%"
          }
        },
        "928429cde775476094202a20661dd3b5": {
          "model_module": "@jupyter-widgets/controls",
          "model_name": "FloatProgressModel",
          "model_module_version": "1.5.0",
          "state": {
            "_dom_classes": [],
            "_model_module": "@jupyter-widgets/controls",
            "_model_module_version": "1.5.0",
            "_model_name": "FloatProgressModel",
            "_view_count": null,
            "_view_module": "@jupyter-widgets/controls",
            "_view_module_version": "1.5.0",
            "_view_name": "ProgressView",
            "bar_style": "success",
            "description": "",
            "description_tooltip": null,
            "layout": "IPY_MODEL_66dc91e8915541f192475e9c6d727e30",
            "max": 440473133,
            "min": 0,
            "orientation": "horizontal",
            "style": "IPY_MODEL_b144ff66a5d24bc2adcc077fec28ba28",
            "value": 440473133
          }
        },
        "6ceedd084f0d4baaa74c256fd7725411": {
          "model_module": "@jupyter-widgets/controls",
          "model_name": "HTMLModel",
          "model_module_version": "1.5.0",
          "state": {
            "_dom_classes": [],
            "_model_module": "@jupyter-widgets/controls",
            "_model_module_version": "1.5.0",
            "_model_name": "HTMLModel",
            "_view_count": null,
            "_view_module": "@jupyter-widgets/controls",
            "_view_module_version": "1.5.0",
            "_view_name": "HTMLView",
            "description": "",
            "description_tooltip": null,
            "layout": "IPY_MODEL_8f83b4fb67ff4234ae9375f1e2ee3a4b",
            "placeholder": "​",
            "style": "IPY_MODEL_e8121fef8bf344ec9c4f4c476fbe66c9",
            "value": " 440M/440M [00:07&lt;00:00, 60.5MB/s]"
          }
        },
        "c85d0f9303ba452891b4197d51b6517a": {
          "model_module": "@jupyter-widgets/base",
          "model_name": "LayoutModel",
          "model_module_version": "1.2.0",
          "state": {
            "_model_module": "@jupyter-widgets/base",
            "_model_module_version": "1.2.0",
            "_model_name": "LayoutModel",
            "_view_count": null,
            "_view_module": "@jupyter-widgets/base",
            "_view_module_version": "1.2.0",
            "_view_name": "LayoutView",
            "align_content": null,
            "align_items": null,
            "align_self": null,
            "border": null,
            "bottom": null,
            "display": null,
            "flex": null,
            "flex_flow": null,
            "grid_area": null,
            "grid_auto_columns": null,
            "grid_auto_flow": null,
            "grid_auto_rows": null,
            "grid_column": null,
            "grid_gap": null,
            "grid_row": null,
            "grid_template_areas": null,
            "grid_template_columns": null,
            "grid_template_rows": null,
            "height": null,
            "justify_content": null,
            "justify_items": null,
            "left": null,
            "margin": null,
            "max_height": null,
            "max_width": null,
            "min_height": null,
            "min_width": null,
            "object_fit": null,
            "object_position": null,
            "order": null,
            "overflow": null,
            "overflow_x": null,
            "overflow_y": null,
            "padding": null,
            "right": null,
            "top": null,
            "visibility": null,
            "width": null
          }
        },
        "140a2537e48c4529b2355f9dc931a50f": {
          "model_module": "@jupyter-widgets/base",
          "model_name": "LayoutModel",
          "model_module_version": "1.2.0",
          "state": {
            "_model_module": "@jupyter-widgets/base",
            "_model_module_version": "1.2.0",
            "_model_name": "LayoutModel",
            "_view_count": null,
            "_view_module": "@jupyter-widgets/base",
            "_view_module_version": "1.2.0",
            "_view_name": "LayoutView",
            "align_content": null,
            "align_items": null,
            "align_self": null,
            "border": null,
            "bottom": null,
            "display": null,
            "flex": null,
            "flex_flow": null,
            "grid_area": null,
            "grid_auto_columns": null,
            "grid_auto_flow": null,
            "grid_auto_rows": null,
            "grid_column": null,
            "grid_gap": null,
            "grid_row": null,
            "grid_template_areas": null,
            "grid_template_columns": null,
            "grid_template_rows": null,
            "height": null,
            "justify_content": null,
            "justify_items": null,
            "left": null,
            "margin": null,
            "max_height": null,
            "max_width": null,
            "min_height": null,
            "min_width": null,
            "object_fit": null,
            "object_position": null,
            "order": null,
            "overflow": null,
            "overflow_x": null,
            "overflow_y": null,
            "padding": null,
            "right": null,
            "top": null,
            "visibility": null,
            "width": null
          }
        },
        "e9f893ac063f4e86a67ec808b4607b47": {
          "model_module": "@jupyter-widgets/controls",
          "model_name": "DescriptionStyleModel",
          "model_module_version": "1.5.0",
          "state": {
            "_model_module": "@jupyter-widgets/controls",
            "_model_module_version": "1.5.0",
            "_model_name": "DescriptionStyleModel",
            "_view_count": null,
            "_view_module": "@jupyter-widgets/base",
            "_view_module_version": "1.2.0",
            "_view_name": "StyleView",
            "description_width": ""
          }
        },
        "66dc91e8915541f192475e9c6d727e30": {
          "model_module": "@jupyter-widgets/base",
          "model_name": "LayoutModel",
          "model_module_version": "1.2.0",
          "state": {
            "_model_module": "@jupyter-widgets/base",
            "_model_module_version": "1.2.0",
            "_model_name": "LayoutModel",
            "_view_count": null,
            "_view_module": "@jupyter-widgets/base",
            "_view_module_version": "1.2.0",
            "_view_name": "LayoutView",
            "align_content": null,
            "align_items": null,
            "align_self": null,
            "border": null,
            "bottom": null,
            "display": null,
            "flex": null,
            "flex_flow": null,
            "grid_area": null,
            "grid_auto_columns": null,
            "grid_auto_flow": null,
            "grid_auto_rows": null,
            "grid_column": null,
            "grid_gap": null,
            "grid_row": null,
            "grid_template_areas": null,
            "grid_template_columns": null,
            "grid_template_rows": null,
            "height": null,
            "justify_content": null,
            "justify_items": null,
            "left": null,
            "margin": null,
            "max_height": null,
            "max_width": null,
            "min_height": null,
            "min_width": null,
            "object_fit": null,
            "object_position": null,
            "order": null,
            "overflow": null,
            "overflow_x": null,
            "overflow_y": null,
            "padding": null,
            "right": null,
            "top": null,
            "visibility": null,
            "width": null
          }
        },
        "b144ff66a5d24bc2adcc077fec28ba28": {
          "model_module": "@jupyter-widgets/controls",
          "model_name": "ProgressStyleModel",
          "model_module_version": "1.5.0",
          "state": {
            "_model_module": "@jupyter-widgets/controls",
            "_model_module_version": "1.5.0",
            "_model_name": "ProgressStyleModel",
            "_view_count": null,
            "_view_module": "@jupyter-widgets/base",
            "_view_module_version": "1.2.0",
            "_view_name": "StyleView",
            "bar_color": null,
            "description_width": ""
          }
        },
        "8f83b4fb67ff4234ae9375f1e2ee3a4b": {
          "model_module": "@jupyter-widgets/base",
          "model_name": "LayoutModel",
          "model_module_version": "1.2.0",
          "state": {
            "_model_module": "@jupyter-widgets/base",
            "_model_module_version": "1.2.0",
            "_model_name": "LayoutModel",
            "_view_count": null,
            "_view_module": "@jupyter-widgets/base",
            "_view_module_version": "1.2.0",
            "_view_name": "LayoutView",
            "align_content": null,
            "align_items": null,
            "align_self": null,
            "border": null,
            "bottom": null,
            "display": null,
            "flex": null,
            "flex_flow": null,
            "grid_area": null,
            "grid_auto_columns": null,
            "grid_auto_flow": null,
            "grid_auto_rows": null,
            "grid_column": null,
            "grid_gap": null,
            "grid_row": null,
            "grid_template_areas": null,
            "grid_template_columns": null,
            "grid_template_rows": null,
            "height": null,
            "justify_content": null,
            "justify_items": null,
            "left": null,
            "margin": null,
            "max_height": null,
            "max_width": null,
            "min_height": null,
            "min_width": null,
            "object_fit": null,
            "object_position": null,
            "order": null,
            "overflow": null,
            "overflow_x": null,
            "overflow_y": null,
            "padding": null,
            "right": null,
            "top": null,
            "visibility": null,
            "width": null
          }
        },
        "e8121fef8bf344ec9c4f4c476fbe66c9": {
          "model_module": "@jupyter-widgets/controls",
          "model_name": "DescriptionStyleModel",
          "model_module_version": "1.5.0",
          "state": {
            "_model_module": "@jupyter-widgets/controls",
            "_model_module_version": "1.5.0",
            "_model_name": "DescriptionStyleModel",
            "_view_count": null,
            "_view_module": "@jupyter-widgets/base",
            "_view_module_version": "1.2.0",
            "_view_name": "StyleView",
            "description_width": ""
          }
        },
        "1ea40bf1f8434874b0935a320f1d9ed9": {
          "model_module": "@jupyter-widgets/controls",
          "model_name": "HBoxModel",
          "model_module_version": "1.5.0",
          "state": {
            "_dom_classes": [],
            "_model_module": "@jupyter-widgets/controls",
            "_model_module_version": "1.5.0",
            "_model_name": "HBoxModel",
            "_view_count": null,
            "_view_module": "@jupyter-widgets/controls",
            "_view_module_version": "1.5.0",
            "_view_name": "HBoxView",
            "box_style": "",
            "children": [
              "IPY_MODEL_9cb30c212ea941358f3a4e8553de122a",
              "IPY_MODEL_81b1699f92014845b954daa9f2832353",
              "IPY_MODEL_07a5d0f3d30546e6b368ec2d8352a922"
            ],
            "layout": "IPY_MODEL_d819de20940448d99091832bb540c329"
          }
        },
        "9cb30c212ea941358f3a4e8553de122a": {
          "model_module": "@jupyter-widgets/controls",
          "model_name": "HTMLModel",
          "model_module_version": "1.5.0",
          "state": {
            "_dom_classes": [],
            "_model_module": "@jupyter-widgets/controls",
            "_model_module_version": "1.5.0",
            "_model_name": "HTMLModel",
            "_view_count": null,
            "_view_module": "@jupyter-widgets/controls",
            "_view_module_version": "1.5.0",
            "_view_name": "HTMLView",
            "description": "",
            "description_tooltip": null,
            "layout": "IPY_MODEL_d47be724a39842648c095d3036a4c22d",
            "placeholder": "​",
            "style": "IPY_MODEL_67f8e4bc2b6d4164a80c2da75125f6c0",
            "value": "Downloading data files: 100%"
          }
        },
        "81b1699f92014845b954daa9f2832353": {
          "model_module": "@jupyter-widgets/controls",
          "model_name": "FloatProgressModel",
          "model_module_version": "1.5.0",
          "state": {
            "_dom_classes": [],
            "_model_module": "@jupyter-widgets/controls",
            "_model_module_version": "1.5.0",
            "_model_name": "FloatProgressModel",
            "_view_count": null,
            "_view_module": "@jupyter-widgets/controls",
            "_view_module_version": "1.5.0",
            "_view_name": "ProgressView",
            "bar_style": "success",
            "description": "",
            "description_tooltip": null,
            "layout": "IPY_MODEL_739f1198d96845db9b23bec9ed97c814",
            "max": 1,
            "min": 0,
            "orientation": "horizontal",
            "style": "IPY_MODEL_4c2c4df2b4e4424a9069be6f78126296",
            "value": 1
          }
        },
        "07a5d0f3d30546e6b368ec2d8352a922": {
          "model_module": "@jupyter-widgets/controls",
          "model_name": "HTMLModel",
          "model_module_version": "1.5.0",
          "state": {
            "_dom_classes": [],
            "_model_module": "@jupyter-widgets/controls",
            "_model_module_version": "1.5.0",
            "_model_name": "HTMLModel",
            "_view_count": null,
            "_view_module": "@jupyter-widgets/controls",
            "_view_module_version": "1.5.0",
            "_view_name": "HTMLView",
            "description": "",
            "description_tooltip": null,
            "layout": "IPY_MODEL_4c3e414fa80b4a129fa8693dce4a2c66",
            "placeholder": "​",
            "style": "IPY_MODEL_526148478c9142af8f11a2d5a8958bab",
            "value": " 1/1 [00:00&lt;00:00, 24.09it/s]"
          }
        },
        "d819de20940448d99091832bb540c329": {
          "model_module": "@jupyter-widgets/base",
          "model_name": "LayoutModel",
          "model_module_version": "1.2.0",
          "state": {
            "_model_module": "@jupyter-widgets/base",
            "_model_module_version": "1.2.0",
            "_model_name": "LayoutModel",
            "_view_count": null,
            "_view_module": "@jupyter-widgets/base",
            "_view_module_version": "1.2.0",
            "_view_name": "LayoutView",
            "align_content": null,
            "align_items": null,
            "align_self": null,
            "border": null,
            "bottom": null,
            "display": null,
            "flex": null,
            "flex_flow": null,
            "grid_area": null,
            "grid_auto_columns": null,
            "grid_auto_flow": null,
            "grid_auto_rows": null,
            "grid_column": null,
            "grid_gap": null,
            "grid_row": null,
            "grid_template_areas": null,
            "grid_template_columns": null,
            "grid_template_rows": null,
            "height": null,
            "justify_content": null,
            "justify_items": null,
            "left": null,
            "margin": null,
            "max_height": null,
            "max_width": null,
            "min_height": null,
            "min_width": null,
            "object_fit": null,
            "object_position": null,
            "order": null,
            "overflow": null,
            "overflow_x": null,
            "overflow_y": null,
            "padding": null,
            "right": null,
            "top": null,
            "visibility": null,
            "width": null
          }
        },
        "92f0f04bee884a7cb29ac8c8d5641e6b": {
          "model_module": "@jupyter-widgets/controls",
          "model_name": "HBoxModel",
          "model_module_version": "1.5.0",
          "state": {
            "_dom_classes": [],
            "_model_module": "@jupyter-widgets/controls",
            "_model_module_version": "1.5.0",
            "_model_name": "HBoxModel",
            "_view_count": null,
            "_view_module": "@jupyter-widgets/controls",
            "_view_module_version": "1.5.0",
            "_view_name": "HBoxView",
            "box_style": "",
            "children": [
              "IPY_MODEL_c3584e78935e40378e41f70bae2946c2",
              "IPY_MODEL_e59f2acabd764582adcbe55a792bfe6c",
              "IPY_MODEL_084b4d1cec244162b0224f178d0222ae"
            ],
            "layout": "IPY_MODEL_2dece15335334fa88920d70cb899c5fa"
          }
        },
        "d47be724a39842648c095d3036a4c22d": {
          "model_module": "@jupyter-widgets/base",
          "model_name": "LayoutModel",
          "model_module_version": "1.2.0",
          "state": {
            "_model_module": "@jupyter-widgets/base",
            "_model_module_version": "1.2.0",
            "_model_name": "LayoutModel",
            "_view_count": null,
            "_view_module": "@jupyter-widgets/base",
            "_view_module_version": "1.2.0",
            "_view_name": "LayoutView",
            "align_content": null,
            "align_items": null,
            "align_self": null,
            "border": null,
            "bottom": null,
            "display": null,
            "flex": null,
            "flex_flow": null,
            "grid_area": null,
            "grid_auto_columns": null,
            "grid_auto_flow": null,
            "grid_auto_rows": null,
            "grid_column": null,
            "grid_gap": null,
            "grid_row": null,
            "grid_template_areas": null,
            "grid_template_columns": null,
            "grid_template_rows": null,
            "height": null,
            "justify_content": null,
            "justify_items": null,
            "left": null,
            "margin": null,
            "max_height": null,
            "max_width": null,
            "min_height": null,
            "min_width": null,
            "object_fit": null,
            "object_position": null,
            "order": null,
            "overflow": null,
            "overflow_x": null,
            "overflow_y": null,
            "padding": null,
            "right": null,
            "top": null,
            "visibility": null,
            "width": null
          }
        },
        "67f8e4bc2b6d4164a80c2da75125f6c0": {
          "model_module": "@jupyter-widgets/controls",
          "model_name": "DescriptionStyleModel",
          "model_module_version": "1.5.0",
          "state": {
            "_model_module": "@jupyter-widgets/controls",
            "_model_module_version": "1.5.0",
            "_model_name": "DescriptionStyleModel",
            "_view_count": null,
            "_view_module": "@jupyter-widgets/base",
            "_view_module_version": "1.2.0",
            "_view_name": "StyleView",
            "description_width": ""
          }
        },
        "17074b4ff17b44aba5301d80aa0bd166": {
          "model_module": "@jupyter-widgets/controls",
          "model_name": "HBoxModel",
          "model_module_version": "1.5.0",
          "state": {
            "_dom_classes": [],
            "_model_module": "@jupyter-widgets/controls",
            "_model_module_version": "1.5.0",
            "_model_name": "HBoxModel",
            "_view_count": null,
            "_view_module": "@jupyter-widgets/controls",
            "_view_module_version": "1.5.0",
            "_view_name": "HBoxView",
            "box_style": "",
            "children": [
              "IPY_MODEL_c9bbd64b364548c996245a123848a212",
              "IPY_MODEL_76ac764460cd4b5fa6231315013519af",
              "IPY_MODEL_360b13e2f292431888ca7ab9415c6087"
            ],
            "layout": "IPY_MODEL_05dd80c6bc394e4bb857a442e1b87552"
          }
        },
        "739f1198d96845db9b23bec9ed97c814": {
          "model_module": "@jupyter-widgets/base",
          "model_name": "LayoutModel",
          "model_module_version": "1.2.0",
          "state": {
            "_model_module": "@jupyter-widgets/base",
            "_model_module_version": "1.2.0",
            "_model_name": "LayoutModel",
            "_view_count": null,
            "_view_module": "@jupyter-widgets/base",
            "_view_module_version": "1.2.0",
            "_view_name": "LayoutView",
            "align_content": null,
            "align_items": null,
            "align_self": null,
            "border": null,
            "bottom": null,
            "display": null,
            "flex": null,
            "flex_flow": null,
            "grid_area": null,
            "grid_auto_columns": null,
            "grid_auto_flow": null,
            "grid_auto_rows": null,
            "grid_column": null,
            "grid_gap": null,
            "grid_row": null,
            "grid_template_areas": null,
            "grid_template_columns": null,
            "grid_template_rows": null,
            "height": null,
            "justify_content": null,
            "justify_items": null,
            "left": null,
            "margin": null,
            "max_height": null,
            "max_width": null,
            "min_height": null,
            "min_width": null,
            "object_fit": null,
            "object_position": null,
            "order": null,
            "overflow": null,
            "overflow_x": null,
            "overflow_y": null,
            "padding": null,
            "right": null,
            "top": null,
            "visibility": null,
            "width": null
          }
        },
        "4c2c4df2b4e4424a9069be6f78126296": {
          "model_module": "@jupyter-widgets/controls",
          "model_name": "ProgressStyleModel",
          "model_module_version": "1.5.0",
          "state": {
            "_model_module": "@jupyter-widgets/controls",
            "_model_module_version": "1.5.0",
            "_model_name": "ProgressStyleModel",
            "_view_count": null,
            "_view_module": "@jupyter-widgets/base",
            "_view_module_version": "1.2.0",
            "_view_name": "StyleView",
            "bar_color": null,
            "description_width": ""
          }
        },
        "4c3e414fa80b4a129fa8693dce4a2c66": {
          "model_module": "@jupyter-widgets/base",
          "model_name": "LayoutModel",
          "model_module_version": "1.2.0",
          "state": {
            "_model_module": "@jupyter-widgets/base",
            "_model_module_version": "1.2.0",
            "_model_name": "LayoutModel",
            "_view_count": null,
            "_view_module": "@jupyter-widgets/base",
            "_view_module_version": "1.2.0",
            "_view_name": "LayoutView",
            "align_content": null,
            "align_items": null,
            "align_self": null,
            "border": null,
            "bottom": null,
            "display": null,
            "flex": null,
            "flex_flow": null,
            "grid_area": null,
            "grid_auto_columns": null,
            "grid_auto_flow": null,
            "grid_auto_rows": null,
            "grid_column": null,
            "grid_gap": null,
            "grid_row": null,
            "grid_template_areas": null,
            "grid_template_columns": null,
            "grid_template_rows": null,
            "height": null,
            "justify_content": null,
            "justify_items": null,
            "left": null,
            "margin": null,
            "max_height": null,
            "max_width": null,
            "min_height": null,
            "min_width": null,
            "object_fit": null,
            "object_position": null,
            "order": null,
            "overflow": null,
            "overflow_x": null,
            "overflow_y": null,
            "padding": null,
            "right": null,
            "top": null,
            "visibility": null,
            "width": null
          }
        },
        "526148478c9142af8f11a2d5a8958bab": {
          "model_module": "@jupyter-widgets/controls",
          "model_name": "DescriptionStyleModel",
          "model_module_version": "1.5.0",
          "state": {
            "_model_module": "@jupyter-widgets/controls",
            "_model_module_version": "1.5.0",
            "_model_name": "DescriptionStyleModel",
            "_view_count": null,
            "_view_module": "@jupyter-widgets/base",
            "_view_module_version": "1.2.0",
            "_view_name": "StyleView",
            "description_width": ""
          }
        },
        "c3584e78935e40378e41f70bae2946c2": {
          "model_module": "@jupyter-widgets/controls",
          "model_name": "HTMLModel",
          "model_module_version": "1.5.0",
          "state": {
            "_dom_classes": [],
            "_model_module": "@jupyter-widgets/controls",
            "_model_module_version": "1.5.0",
            "_model_name": "HTMLModel",
            "_view_count": null,
            "_view_module": "@jupyter-widgets/controls",
            "_view_module_version": "1.5.0",
            "_view_name": "HTMLView",
            "description": "",
            "description_tooltip": null,
            "layout": "IPY_MODEL_09b12025a82b4a6ba88030887ee5cf6d",
            "placeholder": "​",
            "style": "IPY_MODEL_08fa42d1651a4fb7b75bab15f40f13e4",
            "value": "Extracting data files: 100%"
          }
        },
        "e59f2acabd764582adcbe55a792bfe6c": {
          "model_module": "@jupyter-widgets/controls",
          "model_name": "FloatProgressModel",
          "model_module_version": "1.5.0",
          "state": {
            "_dom_classes": [],
            "_model_module": "@jupyter-widgets/controls",
            "_model_module_version": "1.5.0",
            "_model_name": "FloatProgressModel",
            "_view_count": null,
            "_view_module": "@jupyter-widgets/controls",
            "_view_module_version": "1.5.0",
            "_view_name": "ProgressView",
            "bar_style": "success",
            "description": "",
            "description_tooltip": null,
            "layout": "IPY_MODEL_95562ba4b8fa4e258c18007411ffc2b5",
            "max": 1,
            "min": 0,
            "orientation": "horizontal",
            "style": "IPY_MODEL_a258102e845648d1940ef688b9fc4db2",
            "value": 1
          }
        },
        "084b4d1cec244162b0224f178d0222ae": {
          "model_module": "@jupyter-widgets/controls",
          "model_name": "HTMLModel",
          "model_module_version": "1.5.0",
          "state": {
            "_dom_classes": [],
            "_model_module": "@jupyter-widgets/controls",
            "_model_module_version": "1.5.0",
            "_model_name": "HTMLModel",
            "_view_count": null,
            "_view_module": "@jupyter-widgets/controls",
            "_view_module_version": "1.5.0",
            "_view_name": "HTMLView",
            "description": "",
            "description_tooltip": null,
            "layout": "IPY_MODEL_cba8649c63844eb388cefe226e97b3cb",
            "placeholder": "​",
            "style": "IPY_MODEL_8998125d21424024bf38029fb159ca4b",
            "value": " 1/1 [00:00&lt;00:00, 30.43it/s]"
          }
        },
        "2dece15335334fa88920d70cb899c5fa": {
          "model_module": "@jupyter-widgets/base",
          "model_name": "LayoutModel",
          "model_module_version": "1.2.0",
          "state": {
            "_model_module": "@jupyter-widgets/base",
            "_model_module_version": "1.2.0",
            "_model_name": "LayoutModel",
            "_view_count": null,
            "_view_module": "@jupyter-widgets/base",
            "_view_module_version": "1.2.0",
            "_view_name": "LayoutView",
            "align_content": null,
            "align_items": null,
            "align_self": null,
            "border": null,
            "bottom": null,
            "display": null,
            "flex": null,
            "flex_flow": null,
            "grid_area": null,
            "grid_auto_columns": null,
            "grid_auto_flow": null,
            "grid_auto_rows": null,
            "grid_column": null,
            "grid_gap": null,
            "grid_row": null,
            "grid_template_areas": null,
            "grid_template_columns": null,
            "grid_template_rows": null,
            "height": null,
            "justify_content": null,
            "justify_items": null,
            "left": null,
            "margin": null,
            "max_height": null,
            "max_width": null,
            "min_height": null,
            "min_width": null,
            "object_fit": null,
            "object_position": null,
            "order": null,
            "overflow": null,
            "overflow_x": null,
            "overflow_y": null,
            "padding": null,
            "right": null,
            "top": null,
            "visibility": null,
            "width": null
          }
        },
        "09b12025a82b4a6ba88030887ee5cf6d": {
          "model_module": "@jupyter-widgets/base",
          "model_name": "LayoutModel",
          "model_module_version": "1.2.0",
          "state": {
            "_model_module": "@jupyter-widgets/base",
            "_model_module_version": "1.2.0",
            "_model_name": "LayoutModel",
            "_view_count": null,
            "_view_module": "@jupyter-widgets/base",
            "_view_module_version": "1.2.0",
            "_view_name": "LayoutView",
            "align_content": null,
            "align_items": null,
            "align_self": null,
            "border": null,
            "bottom": null,
            "display": null,
            "flex": null,
            "flex_flow": null,
            "grid_area": null,
            "grid_auto_columns": null,
            "grid_auto_flow": null,
            "grid_auto_rows": null,
            "grid_column": null,
            "grid_gap": null,
            "grid_row": null,
            "grid_template_areas": null,
            "grid_template_columns": null,
            "grid_template_rows": null,
            "height": null,
            "justify_content": null,
            "justify_items": null,
            "left": null,
            "margin": null,
            "max_height": null,
            "max_width": null,
            "min_height": null,
            "min_width": null,
            "object_fit": null,
            "object_position": null,
            "order": null,
            "overflow": null,
            "overflow_x": null,
            "overflow_y": null,
            "padding": null,
            "right": null,
            "top": null,
            "visibility": null,
            "width": null
          }
        },
        "08fa42d1651a4fb7b75bab15f40f13e4": {
          "model_module": "@jupyter-widgets/controls",
          "model_name": "DescriptionStyleModel",
          "model_module_version": "1.5.0",
          "state": {
            "_model_module": "@jupyter-widgets/controls",
            "_model_module_version": "1.5.0",
            "_model_name": "DescriptionStyleModel",
            "_view_count": null,
            "_view_module": "@jupyter-widgets/base",
            "_view_module_version": "1.2.0",
            "_view_name": "StyleView",
            "description_width": ""
          }
        },
        "95562ba4b8fa4e258c18007411ffc2b5": {
          "model_module": "@jupyter-widgets/base",
          "model_name": "LayoutModel",
          "model_module_version": "1.2.0",
          "state": {
            "_model_module": "@jupyter-widgets/base",
            "_model_module_version": "1.2.0",
            "_model_name": "LayoutModel",
            "_view_count": null,
            "_view_module": "@jupyter-widgets/base",
            "_view_module_version": "1.2.0",
            "_view_name": "LayoutView",
            "align_content": null,
            "align_items": null,
            "align_self": null,
            "border": null,
            "bottom": null,
            "display": null,
            "flex": null,
            "flex_flow": null,
            "grid_area": null,
            "grid_auto_columns": null,
            "grid_auto_flow": null,
            "grid_auto_rows": null,
            "grid_column": null,
            "grid_gap": null,
            "grid_row": null,
            "grid_template_areas": null,
            "grid_template_columns": null,
            "grid_template_rows": null,
            "height": null,
            "justify_content": null,
            "justify_items": null,
            "left": null,
            "margin": null,
            "max_height": null,
            "max_width": null,
            "min_height": null,
            "min_width": null,
            "object_fit": null,
            "object_position": null,
            "order": null,
            "overflow": null,
            "overflow_x": null,
            "overflow_y": null,
            "padding": null,
            "right": null,
            "top": null,
            "visibility": null,
            "width": null
          }
        },
        "a258102e845648d1940ef688b9fc4db2": {
          "model_module": "@jupyter-widgets/controls",
          "model_name": "ProgressStyleModel",
          "model_module_version": "1.5.0",
          "state": {
            "_model_module": "@jupyter-widgets/controls",
            "_model_module_version": "1.5.0",
            "_model_name": "ProgressStyleModel",
            "_view_count": null,
            "_view_module": "@jupyter-widgets/base",
            "_view_module_version": "1.2.0",
            "_view_name": "StyleView",
            "bar_color": null,
            "description_width": ""
          }
        },
        "cba8649c63844eb388cefe226e97b3cb": {
          "model_module": "@jupyter-widgets/base",
          "model_name": "LayoutModel",
          "model_module_version": "1.2.0",
          "state": {
            "_model_module": "@jupyter-widgets/base",
            "_model_module_version": "1.2.0",
            "_model_name": "LayoutModel",
            "_view_count": null,
            "_view_module": "@jupyter-widgets/base",
            "_view_module_version": "1.2.0",
            "_view_name": "LayoutView",
            "align_content": null,
            "align_items": null,
            "align_self": null,
            "border": null,
            "bottom": null,
            "display": null,
            "flex": null,
            "flex_flow": null,
            "grid_area": null,
            "grid_auto_columns": null,
            "grid_auto_flow": null,
            "grid_auto_rows": null,
            "grid_column": null,
            "grid_gap": null,
            "grid_row": null,
            "grid_template_areas": null,
            "grid_template_columns": null,
            "grid_template_rows": null,
            "height": null,
            "justify_content": null,
            "justify_items": null,
            "left": null,
            "margin": null,
            "max_height": null,
            "max_width": null,
            "min_height": null,
            "min_width": null,
            "object_fit": null,
            "object_position": null,
            "order": null,
            "overflow": null,
            "overflow_x": null,
            "overflow_y": null,
            "padding": null,
            "right": null,
            "top": null,
            "visibility": null,
            "width": null
          }
        },
        "8998125d21424024bf38029fb159ca4b": {
          "model_module": "@jupyter-widgets/controls",
          "model_name": "DescriptionStyleModel",
          "model_module_version": "1.5.0",
          "state": {
            "_model_module": "@jupyter-widgets/controls",
            "_model_module_version": "1.5.0",
            "_model_name": "DescriptionStyleModel",
            "_view_count": null,
            "_view_module": "@jupyter-widgets/base",
            "_view_module_version": "1.2.0",
            "_view_name": "StyleView",
            "description_width": ""
          }
        },
        "c9bbd64b364548c996245a123848a212": {
          "model_module": "@jupyter-widgets/controls",
          "model_name": "HTMLModel",
          "model_module_version": "1.5.0",
          "state": {
            "_dom_classes": [],
            "_model_module": "@jupyter-widgets/controls",
            "_model_module_version": "1.5.0",
            "_model_name": "HTMLModel",
            "_view_count": null,
            "_view_module": "@jupyter-widgets/controls",
            "_view_module_version": "1.5.0",
            "_view_name": "HTMLView",
            "description": "",
            "description_tooltip": null,
            "layout": "IPY_MODEL_03906c2901f94c21aec1894856d9a317",
            "placeholder": "​",
            "style": "IPY_MODEL_1f1c13aa4a52481c856cbf5e100cd189",
            "value": ""
          }
        },
        "76ac764460cd4b5fa6231315013519af": {
          "model_module": "@jupyter-widgets/controls",
          "model_name": "FloatProgressModel",
          "model_module_version": "1.5.0",
          "state": {
            "_dom_classes": [],
            "_model_module": "@jupyter-widgets/controls",
            "_model_module_version": "1.5.0",
            "_model_name": "FloatProgressModel",
            "_view_count": null,
            "_view_module": "@jupyter-widgets/controls",
            "_view_module_version": "1.5.0",
            "_view_name": "ProgressView",
            "bar_style": "info",
            "description": "",
            "description_tooltip": null,
            "layout": "IPY_MODEL_3ce3b730265640c1b0fc7646f23b2514",
            "max": 1,
            "min": 0,
            "orientation": "horizontal",
            "style": "IPY_MODEL_6e17e77a359b4f9ab3ad8567920690c9",
            "value": 1
          }
        },
        "360b13e2f292431888ca7ab9415c6087": {
          "model_module": "@jupyter-widgets/controls",
          "model_name": "HTMLModel",
          "model_module_version": "1.5.0",
          "state": {
            "_dom_classes": [],
            "_model_module": "@jupyter-widgets/controls",
            "_model_module_version": "1.5.0",
            "_model_name": "HTMLModel",
            "_view_count": null,
            "_view_module": "@jupyter-widgets/controls",
            "_view_module_version": "1.5.0",
            "_view_name": "HTMLView",
            "description": "",
            "description_tooltip": null,
            "layout": "IPY_MODEL_0ec066c1b7474bae84d4da5b3e342fa7",
            "placeholder": "​",
            "style": "IPY_MODEL_e354883b078f48fcab7649216f907cca",
            "value": " 17/? [00:00&lt;00:00, 57.23 tables/s]"
          }
        },
        "05dd80c6bc394e4bb857a442e1b87552": {
          "model_module": "@jupyter-widgets/base",
          "model_name": "LayoutModel",
          "model_module_version": "1.2.0",
          "state": {
            "_model_module": "@jupyter-widgets/base",
            "_model_module_version": "1.2.0",
            "_model_name": "LayoutModel",
            "_view_count": null,
            "_view_module": "@jupyter-widgets/base",
            "_view_module_version": "1.2.0",
            "_view_name": "LayoutView",
            "align_content": null,
            "align_items": null,
            "align_self": null,
            "border": null,
            "bottom": null,
            "display": null,
            "flex": null,
            "flex_flow": null,
            "grid_area": null,
            "grid_auto_columns": null,
            "grid_auto_flow": null,
            "grid_auto_rows": null,
            "grid_column": null,
            "grid_gap": null,
            "grid_row": null,
            "grid_template_areas": null,
            "grid_template_columns": null,
            "grid_template_rows": null,
            "height": null,
            "justify_content": null,
            "justify_items": null,
            "left": null,
            "margin": null,
            "max_height": null,
            "max_width": null,
            "min_height": null,
            "min_width": null,
            "object_fit": null,
            "object_position": null,
            "order": null,
            "overflow": null,
            "overflow_x": null,
            "overflow_y": null,
            "padding": null,
            "right": null,
            "top": null,
            "visibility": "hidden",
            "width": null
          }
        },
        "03906c2901f94c21aec1894856d9a317": {
          "model_module": "@jupyter-widgets/base",
          "model_name": "LayoutModel",
          "model_module_version": "1.2.0",
          "state": {
            "_model_module": "@jupyter-widgets/base",
            "_model_module_version": "1.2.0",
            "_model_name": "LayoutModel",
            "_view_count": null,
            "_view_module": "@jupyter-widgets/base",
            "_view_module_version": "1.2.0",
            "_view_name": "LayoutView",
            "align_content": null,
            "align_items": null,
            "align_self": null,
            "border": null,
            "bottom": null,
            "display": null,
            "flex": null,
            "flex_flow": null,
            "grid_area": null,
            "grid_auto_columns": null,
            "grid_auto_flow": null,
            "grid_auto_rows": null,
            "grid_column": null,
            "grid_gap": null,
            "grid_row": null,
            "grid_template_areas": null,
            "grid_template_columns": null,
            "grid_template_rows": null,
            "height": null,
            "justify_content": null,
            "justify_items": null,
            "left": null,
            "margin": null,
            "max_height": null,
            "max_width": null,
            "min_height": null,
            "min_width": null,
            "object_fit": null,
            "object_position": null,
            "order": null,
            "overflow": null,
            "overflow_x": null,
            "overflow_y": null,
            "padding": null,
            "right": null,
            "top": null,
            "visibility": null,
            "width": null
          }
        },
        "1f1c13aa4a52481c856cbf5e100cd189": {
          "model_module": "@jupyter-widgets/controls",
          "model_name": "DescriptionStyleModel",
          "model_module_version": "1.5.0",
          "state": {
            "_model_module": "@jupyter-widgets/controls",
            "_model_module_version": "1.5.0",
            "_model_name": "DescriptionStyleModel",
            "_view_count": null,
            "_view_module": "@jupyter-widgets/base",
            "_view_module_version": "1.2.0",
            "_view_name": "StyleView",
            "description_width": ""
          }
        },
        "3ce3b730265640c1b0fc7646f23b2514": {
          "model_module": "@jupyter-widgets/base",
          "model_name": "LayoutModel",
          "model_module_version": "1.2.0",
          "state": {
            "_model_module": "@jupyter-widgets/base",
            "_model_module_version": "1.2.0",
            "_model_name": "LayoutModel",
            "_view_count": null,
            "_view_module": "@jupyter-widgets/base",
            "_view_module_version": "1.2.0",
            "_view_name": "LayoutView",
            "align_content": null,
            "align_items": null,
            "align_self": null,
            "border": null,
            "bottom": null,
            "display": null,
            "flex": null,
            "flex_flow": null,
            "grid_area": null,
            "grid_auto_columns": null,
            "grid_auto_flow": null,
            "grid_auto_rows": null,
            "grid_column": null,
            "grid_gap": null,
            "grid_row": null,
            "grid_template_areas": null,
            "grid_template_columns": null,
            "grid_template_rows": null,
            "height": null,
            "justify_content": null,
            "justify_items": null,
            "left": null,
            "margin": null,
            "max_height": null,
            "max_width": null,
            "min_height": null,
            "min_width": null,
            "object_fit": null,
            "object_position": null,
            "order": null,
            "overflow": null,
            "overflow_x": null,
            "overflow_y": null,
            "padding": null,
            "right": null,
            "top": null,
            "visibility": null,
            "width": "20px"
          }
        },
        "6e17e77a359b4f9ab3ad8567920690c9": {
          "model_module": "@jupyter-widgets/controls",
          "model_name": "ProgressStyleModel",
          "model_module_version": "1.5.0",
          "state": {
            "_model_module": "@jupyter-widgets/controls",
            "_model_module_version": "1.5.0",
            "_model_name": "ProgressStyleModel",
            "_view_count": null,
            "_view_module": "@jupyter-widgets/base",
            "_view_module_version": "1.2.0",
            "_view_name": "StyleView",
            "bar_color": null,
            "description_width": ""
          }
        },
        "0ec066c1b7474bae84d4da5b3e342fa7": {
          "model_module": "@jupyter-widgets/base",
          "model_name": "LayoutModel",
          "model_module_version": "1.2.0",
          "state": {
            "_model_module": "@jupyter-widgets/base",
            "_model_module_version": "1.2.0",
            "_model_name": "LayoutModel",
            "_view_count": null,
            "_view_module": "@jupyter-widgets/base",
            "_view_module_version": "1.2.0",
            "_view_name": "LayoutView",
            "align_content": null,
            "align_items": null,
            "align_self": null,
            "border": null,
            "bottom": null,
            "display": null,
            "flex": null,
            "flex_flow": null,
            "grid_area": null,
            "grid_auto_columns": null,
            "grid_auto_flow": null,
            "grid_auto_rows": null,
            "grid_column": null,
            "grid_gap": null,
            "grid_row": null,
            "grid_template_areas": null,
            "grid_template_columns": null,
            "grid_template_rows": null,
            "height": null,
            "justify_content": null,
            "justify_items": null,
            "left": null,
            "margin": null,
            "max_height": null,
            "max_width": null,
            "min_height": null,
            "min_width": null,
            "object_fit": null,
            "object_position": null,
            "order": null,
            "overflow": null,
            "overflow_x": null,
            "overflow_y": null,
            "padding": null,
            "right": null,
            "top": null,
            "visibility": null,
            "width": null
          }
        },
        "e354883b078f48fcab7649216f907cca": {
          "model_module": "@jupyter-widgets/controls",
          "model_name": "DescriptionStyleModel",
          "model_module_version": "1.5.0",
          "state": {
            "_model_module": "@jupyter-widgets/controls",
            "_model_module_version": "1.5.0",
            "_model_name": "DescriptionStyleModel",
            "_view_count": null,
            "_view_module": "@jupyter-widgets/base",
            "_view_module_version": "1.2.0",
            "_view_name": "StyleView",
            "description_width": ""
          }
        },
        "5422b017485e474799974e0db2845812": {
          "model_module": "@jupyter-widgets/controls",
          "model_name": "HBoxModel",
          "model_module_version": "1.5.0",
          "state": {
            "_dom_classes": [],
            "_model_module": "@jupyter-widgets/controls",
            "_model_module_version": "1.5.0",
            "_model_name": "HBoxModel",
            "_view_count": null,
            "_view_module": "@jupyter-widgets/controls",
            "_view_module_version": "1.5.0",
            "_view_name": "HBoxView",
            "box_style": "",
            "children": [
              "IPY_MODEL_217cc88aca474b11a57424df2a347527",
              "IPY_MODEL_ceffc41e883c4809b947e76bacd08287",
              "IPY_MODEL_20d4c21d12ce42ab8998865cfc4d7315"
            ],
            "layout": "IPY_MODEL_7d7f2ef64ac2445e8ea62904707ac531"
          }
        },
        "217cc88aca474b11a57424df2a347527": {
          "model_module": "@jupyter-widgets/controls",
          "model_name": "HTMLModel",
          "model_module_version": "1.5.0",
          "state": {
            "_dom_classes": [],
            "_model_module": "@jupyter-widgets/controls",
            "_model_module_version": "1.5.0",
            "_model_name": "HTMLModel",
            "_view_count": null,
            "_view_module": "@jupyter-widgets/controls",
            "_view_module_version": "1.5.0",
            "_view_name": "HTMLView",
            "description": "",
            "description_tooltip": null,
            "layout": "IPY_MODEL_f4777be7931f4ebbae592bfaf8248d7d",
            "placeholder": "​",
            "style": "IPY_MODEL_d95136abc2914af78e1be60cdcb4b00d",
            "value": "100%"
          }
        },
        "ceffc41e883c4809b947e76bacd08287": {
          "model_module": "@jupyter-widgets/controls",
          "model_name": "FloatProgressModel",
          "model_module_version": "1.5.0",
          "state": {
            "_dom_classes": [],
            "_model_module": "@jupyter-widgets/controls",
            "_model_module_version": "1.5.0",
            "_model_name": "FloatProgressModel",
            "_view_count": null,
            "_view_module": "@jupyter-widgets/controls",
            "_view_module_version": "1.5.0",
            "_view_name": "ProgressView",
            "bar_style": "success",
            "description": "",
            "description_tooltip": null,
            "layout": "IPY_MODEL_d4a26a37571a49e3b319a5d2ab8e08db",
            "max": 1,
            "min": 0,
            "orientation": "horizontal",
            "style": "IPY_MODEL_5e6216e7e49040478666126fa0976502",
            "value": 1
          }
        },
        "20d4c21d12ce42ab8998865cfc4d7315": {
          "model_module": "@jupyter-widgets/controls",
          "model_name": "HTMLModel",
          "model_module_version": "1.5.0",
          "state": {
            "_dom_classes": [],
            "_model_module": "@jupyter-widgets/controls",
            "_model_module_version": "1.5.0",
            "_model_name": "HTMLModel",
            "_view_count": null,
            "_view_module": "@jupyter-widgets/controls",
            "_view_module_version": "1.5.0",
            "_view_name": "HTMLView",
            "description": "",
            "description_tooltip": null,
            "layout": "IPY_MODEL_123631821f1f43b68a33acc509f96099",
            "placeholder": "​",
            "style": "IPY_MODEL_61d669230fe5498aa1c3ef2c498ba3ba",
            "value": " 1/1 [00:00&lt;00:00, 31.14it/s]"
          }
        },
        "7d7f2ef64ac2445e8ea62904707ac531": {
          "model_module": "@jupyter-widgets/base",
          "model_name": "LayoutModel",
          "model_module_version": "1.2.0",
          "state": {
            "_model_module": "@jupyter-widgets/base",
            "_model_module_version": "1.2.0",
            "_model_name": "LayoutModel",
            "_view_count": null,
            "_view_module": "@jupyter-widgets/base",
            "_view_module_version": "1.2.0",
            "_view_name": "LayoutView",
            "align_content": null,
            "align_items": null,
            "align_self": null,
            "border": null,
            "bottom": null,
            "display": null,
            "flex": null,
            "flex_flow": null,
            "grid_area": null,
            "grid_auto_columns": null,
            "grid_auto_flow": null,
            "grid_auto_rows": null,
            "grid_column": null,
            "grid_gap": null,
            "grid_row": null,
            "grid_template_areas": null,
            "grid_template_columns": null,
            "grid_template_rows": null,
            "height": null,
            "justify_content": null,
            "justify_items": null,
            "left": null,
            "margin": null,
            "max_height": null,
            "max_width": null,
            "min_height": null,
            "min_width": null,
            "object_fit": null,
            "object_position": null,
            "order": null,
            "overflow": null,
            "overflow_x": null,
            "overflow_y": null,
            "padding": null,
            "right": null,
            "top": null,
            "visibility": null,
            "width": null
          }
        },
        "f4777be7931f4ebbae592bfaf8248d7d": {
          "model_module": "@jupyter-widgets/base",
          "model_name": "LayoutModel",
          "model_module_version": "1.2.0",
          "state": {
            "_model_module": "@jupyter-widgets/base",
            "_model_module_version": "1.2.0",
            "_model_name": "LayoutModel",
            "_view_count": null,
            "_view_module": "@jupyter-widgets/base",
            "_view_module_version": "1.2.0",
            "_view_name": "LayoutView",
            "align_content": null,
            "align_items": null,
            "align_self": null,
            "border": null,
            "bottom": null,
            "display": null,
            "flex": null,
            "flex_flow": null,
            "grid_area": null,
            "grid_auto_columns": null,
            "grid_auto_flow": null,
            "grid_auto_rows": null,
            "grid_column": null,
            "grid_gap": null,
            "grid_row": null,
            "grid_template_areas": null,
            "grid_template_columns": null,
            "grid_template_rows": null,
            "height": null,
            "justify_content": null,
            "justify_items": null,
            "left": null,
            "margin": null,
            "max_height": null,
            "max_width": null,
            "min_height": null,
            "min_width": null,
            "object_fit": null,
            "object_position": null,
            "order": null,
            "overflow": null,
            "overflow_x": null,
            "overflow_y": null,
            "padding": null,
            "right": null,
            "top": null,
            "visibility": null,
            "width": null
          }
        },
        "d95136abc2914af78e1be60cdcb4b00d": {
          "model_module": "@jupyter-widgets/controls",
          "model_name": "DescriptionStyleModel",
          "model_module_version": "1.5.0",
          "state": {
            "_model_module": "@jupyter-widgets/controls",
            "_model_module_version": "1.5.0",
            "_model_name": "DescriptionStyleModel",
            "_view_count": null,
            "_view_module": "@jupyter-widgets/base",
            "_view_module_version": "1.2.0",
            "_view_name": "StyleView",
            "description_width": ""
          }
        },
        "d4a26a37571a49e3b319a5d2ab8e08db": {
          "model_module": "@jupyter-widgets/base",
          "model_name": "LayoutModel",
          "model_module_version": "1.2.0",
          "state": {
            "_model_module": "@jupyter-widgets/base",
            "_model_module_version": "1.2.0",
            "_model_name": "LayoutModel",
            "_view_count": null,
            "_view_module": "@jupyter-widgets/base",
            "_view_module_version": "1.2.0",
            "_view_name": "LayoutView",
            "align_content": null,
            "align_items": null,
            "align_self": null,
            "border": null,
            "bottom": null,
            "display": null,
            "flex": null,
            "flex_flow": null,
            "grid_area": null,
            "grid_auto_columns": null,
            "grid_auto_flow": null,
            "grid_auto_rows": null,
            "grid_column": null,
            "grid_gap": null,
            "grid_row": null,
            "grid_template_areas": null,
            "grid_template_columns": null,
            "grid_template_rows": null,
            "height": null,
            "justify_content": null,
            "justify_items": null,
            "left": null,
            "margin": null,
            "max_height": null,
            "max_width": null,
            "min_height": null,
            "min_width": null,
            "object_fit": null,
            "object_position": null,
            "order": null,
            "overflow": null,
            "overflow_x": null,
            "overflow_y": null,
            "padding": null,
            "right": null,
            "top": null,
            "visibility": null,
            "width": null
          }
        },
        "5e6216e7e49040478666126fa0976502": {
          "model_module": "@jupyter-widgets/controls",
          "model_name": "ProgressStyleModel",
          "model_module_version": "1.5.0",
          "state": {
            "_model_module": "@jupyter-widgets/controls",
            "_model_module_version": "1.5.0",
            "_model_name": "ProgressStyleModel",
            "_view_count": null,
            "_view_module": "@jupyter-widgets/base",
            "_view_module_version": "1.2.0",
            "_view_name": "StyleView",
            "bar_color": null,
            "description_width": ""
          }
        },
        "123631821f1f43b68a33acc509f96099": {
          "model_module": "@jupyter-widgets/base",
          "model_name": "LayoutModel",
          "model_module_version": "1.2.0",
          "state": {
            "_model_module": "@jupyter-widgets/base",
            "_model_module_version": "1.2.0",
            "_model_name": "LayoutModel",
            "_view_count": null,
            "_view_module": "@jupyter-widgets/base",
            "_view_module_version": "1.2.0",
            "_view_name": "LayoutView",
            "align_content": null,
            "align_items": null,
            "align_self": null,
            "border": null,
            "bottom": null,
            "display": null,
            "flex": null,
            "flex_flow": null,
            "grid_area": null,
            "grid_auto_columns": null,
            "grid_auto_flow": null,
            "grid_auto_rows": null,
            "grid_column": null,
            "grid_gap": null,
            "grid_row": null,
            "grid_template_areas": null,
            "grid_template_columns": null,
            "grid_template_rows": null,
            "height": null,
            "justify_content": null,
            "justify_items": null,
            "left": null,
            "margin": null,
            "max_height": null,
            "max_width": null,
            "min_height": null,
            "min_width": null,
            "object_fit": null,
            "object_position": null,
            "order": null,
            "overflow": null,
            "overflow_x": null,
            "overflow_y": null,
            "padding": null,
            "right": null,
            "top": null,
            "visibility": null,
            "width": null
          }
        },
        "61d669230fe5498aa1c3ef2c498ba3ba": {
          "model_module": "@jupyter-widgets/controls",
          "model_name": "DescriptionStyleModel",
          "model_module_version": "1.5.0",
          "state": {
            "_model_module": "@jupyter-widgets/controls",
            "_model_module_version": "1.5.0",
            "_model_name": "DescriptionStyleModel",
            "_view_count": null,
            "_view_module": "@jupyter-widgets/base",
            "_view_module_version": "1.2.0",
            "_view_name": "StyleView",
            "description_width": ""
          }
        },
        "00684e4abb0740648a9fcbbd4076fa99": {
          "model_module": "@jupyter-widgets/controls",
          "model_name": "HBoxModel",
          "model_module_version": "1.5.0",
          "state": {
            "_dom_classes": [],
            "_model_module": "@jupyter-widgets/controls",
            "_model_module_version": "1.5.0",
            "_model_name": "HBoxModel",
            "_view_count": null,
            "_view_module": "@jupyter-widgets/controls",
            "_view_module_version": "1.5.0",
            "_view_name": "HBoxView",
            "box_style": "",
            "children": [
              "IPY_MODEL_d7a3af2c540449348aac0ef491b5c422",
              "IPY_MODEL_52ab6771db3148cb866e29b78093d1ff",
              "IPY_MODEL_3f853051a8b04642b9fbfc51f25c585f"
            ],
            "layout": "IPY_MODEL_407840bb18a641ac9aebb90db102c0e5"
          }
        },
        "d7a3af2c540449348aac0ef491b5c422": {
          "model_module": "@jupyter-widgets/controls",
          "model_name": "HTMLModel",
          "model_module_version": "1.5.0",
          "state": {
            "_dom_classes": [],
            "_model_module": "@jupyter-widgets/controls",
            "_model_module_version": "1.5.0",
            "_model_name": "HTMLModel",
            "_view_count": null,
            "_view_module": "@jupyter-widgets/controls",
            "_view_module_version": "1.5.0",
            "_view_name": "HTMLView",
            "description": "",
            "description_tooltip": null,
            "layout": "IPY_MODEL_82b8fa3b845a4dcd9a0b96d47e9cb051",
            "placeholder": "​",
            "style": "IPY_MODEL_2a2100a21ffd4cb9b357c451cdd0943d",
            "value": "100%"
          }
        },
        "52ab6771db3148cb866e29b78093d1ff": {
          "model_module": "@jupyter-widgets/controls",
          "model_name": "FloatProgressModel",
          "model_module_version": "1.5.0",
          "state": {
            "_dom_classes": [],
            "_model_module": "@jupyter-widgets/controls",
            "_model_module_version": "1.5.0",
            "_model_name": "FloatProgressModel",
            "_view_count": null,
            "_view_module": "@jupyter-widgets/controls",
            "_view_module_version": "1.5.0",
            "_view_name": "ProgressView",
            "bar_style": "success",
            "description": "",
            "description_tooltip": null,
            "layout": "IPY_MODEL_682f252e09d547ccaf47cb40bf018dc3",
            "max": 180,
            "min": 0,
            "orientation": "horizontal",
            "style": "IPY_MODEL_2394f76aa63946049d05538edd97ec92",
            "value": 180
          }
        },
        "3f853051a8b04642b9fbfc51f25c585f": {
          "model_module": "@jupyter-widgets/controls",
          "model_name": "HTMLModel",
          "model_module_version": "1.5.0",
          "state": {
            "_dom_classes": [],
            "_model_module": "@jupyter-widgets/controls",
            "_model_module_version": "1.5.0",
            "_model_name": "HTMLModel",
            "_view_count": null,
            "_view_module": "@jupyter-widgets/controls",
            "_view_module_version": "1.5.0",
            "_view_name": "HTMLView",
            "description": "",
            "description_tooltip": null,
            "layout": "IPY_MODEL_953ddfb6b2644cab9a262d7379c259e3",
            "placeholder": "​",
            "style": "IPY_MODEL_6f02812790fa430ab2bc3a37a851256c",
            "value": " 180/180 [00:08&lt;00:00, 23.56ba/s]"
          }
        },
        "407840bb18a641ac9aebb90db102c0e5": {
          "model_module": "@jupyter-widgets/base",
          "model_name": "LayoutModel",
          "model_module_version": "1.2.0",
          "state": {
            "_model_module": "@jupyter-widgets/base",
            "_model_module_version": "1.2.0",
            "_model_name": "LayoutModel",
            "_view_count": null,
            "_view_module": "@jupyter-widgets/base",
            "_view_module_version": "1.2.0",
            "_view_name": "LayoutView",
            "align_content": null,
            "align_items": null,
            "align_self": null,
            "border": null,
            "bottom": null,
            "display": null,
            "flex": null,
            "flex_flow": null,
            "grid_area": null,
            "grid_auto_columns": null,
            "grid_auto_flow": null,
            "grid_auto_rows": null,
            "grid_column": null,
            "grid_gap": null,
            "grid_row": null,
            "grid_template_areas": null,
            "grid_template_columns": null,
            "grid_template_rows": null,
            "height": null,
            "justify_content": null,
            "justify_items": null,
            "left": null,
            "margin": null,
            "max_height": null,
            "max_width": null,
            "min_height": null,
            "min_width": null,
            "object_fit": null,
            "object_position": null,
            "order": null,
            "overflow": null,
            "overflow_x": null,
            "overflow_y": null,
            "padding": null,
            "right": null,
            "top": null,
            "visibility": null,
            "width": null
          }
        },
        "82b8fa3b845a4dcd9a0b96d47e9cb051": {
          "model_module": "@jupyter-widgets/base",
          "model_name": "LayoutModel",
          "model_module_version": "1.2.0",
          "state": {
            "_model_module": "@jupyter-widgets/base",
            "_model_module_version": "1.2.0",
            "_model_name": "LayoutModel",
            "_view_count": null,
            "_view_module": "@jupyter-widgets/base",
            "_view_module_version": "1.2.0",
            "_view_name": "LayoutView",
            "align_content": null,
            "align_items": null,
            "align_self": null,
            "border": null,
            "bottom": null,
            "display": null,
            "flex": null,
            "flex_flow": null,
            "grid_area": null,
            "grid_auto_columns": null,
            "grid_auto_flow": null,
            "grid_auto_rows": null,
            "grid_column": null,
            "grid_gap": null,
            "grid_row": null,
            "grid_template_areas": null,
            "grid_template_columns": null,
            "grid_template_rows": null,
            "height": null,
            "justify_content": null,
            "justify_items": null,
            "left": null,
            "margin": null,
            "max_height": null,
            "max_width": null,
            "min_height": null,
            "min_width": null,
            "object_fit": null,
            "object_position": null,
            "order": null,
            "overflow": null,
            "overflow_x": null,
            "overflow_y": null,
            "padding": null,
            "right": null,
            "top": null,
            "visibility": null,
            "width": null
          }
        },
        "2a2100a21ffd4cb9b357c451cdd0943d": {
          "model_module": "@jupyter-widgets/controls",
          "model_name": "DescriptionStyleModel",
          "model_module_version": "1.5.0",
          "state": {
            "_model_module": "@jupyter-widgets/controls",
            "_model_module_version": "1.5.0",
            "_model_name": "DescriptionStyleModel",
            "_view_count": null,
            "_view_module": "@jupyter-widgets/base",
            "_view_module_version": "1.2.0",
            "_view_name": "StyleView",
            "description_width": ""
          }
        },
        "682f252e09d547ccaf47cb40bf018dc3": {
          "model_module": "@jupyter-widgets/base",
          "model_name": "LayoutModel",
          "model_module_version": "1.2.0",
          "state": {
            "_model_module": "@jupyter-widgets/base",
            "_model_module_version": "1.2.0",
            "_model_name": "LayoutModel",
            "_view_count": null,
            "_view_module": "@jupyter-widgets/base",
            "_view_module_version": "1.2.0",
            "_view_name": "LayoutView",
            "align_content": null,
            "align_items": null,
            "align_self": null,
            "border": null,
            "bottom": null,
            "display": null,
            "flex": null,
            "flex_flow": null,
            "grid_area": null,
            "grid_auto_columns": null,
            "grid_auto_flow": null,
            "grid_auto_rows": null,
            "grid_column": null,
            "grid_gap": null,
            "grid_row": null,
            "grid_template_areas": null,
            "grid_template_columns": null,
            "grid_template_rows": null,
            "height": null,
            "justify_content": null,
            "justify_items": null,
            "left": null,
            "margin": null,
            "max_height": null,
            "max_width": null,
            "min_height": null,
            "min_width": null,
            "object_fit": null,
            "object_position": null,
            "order": null,
            "overflow": null,
            "overflow_x": null,
            "overflow_y": null,
            "padding": null,
            "right": null,
            "top": null,
            "visibility": null,
            "width": null
          }
        },
        "2394f76aa63946049d05538edd97ec92": {
          "model_module": "@jupyter-widgets/controls",
          "model_name": "ProgressStyleModel",
          "model_module_version": "1.5.0",
          "state": {
            "_model_module": "@jupyter-widgets/controls",
            "_model_module_version": "1.5.0",
            "_model_name": "ProgressStyleModel",
            "_view_count": null,
            "_view_module": "@jupyter-widgets/base",
            "_view_module_version": "1.2.0",
            "_view_name": "StyleView",
            "bar_color": null,
            "description_width": ""
          }
        },
        "953ddfb6b2644cab9a262d7379c259e3": {
          "model_module": "@jupyter-widgets/base",
          "model_name": "LayoutModel",
          "model_module_version": "1.2.0",
          "state": {
            "_model_module": "@jupyter-widgets/base",
            "_model_module_version": "1.2.0",
            "_model_name": "LayoutModel",
            "_view_count": null,
            "_view_module": "@jupyter-widgets/base",
            "_view_module_version": "1.2.0",
            "_view_name": "LayoutView",
            "align_content": null,
            "align_items": null,
            "align_self": null,
            "border": null,
            "bottom": null,
            "display": null,
            "flex": null,
            "flex_flow": null,
            "grid_area": null,
            "grid_auto_columns": null,
            "grid_auto_flow": null,
            "grid_auto_rows": null,
            "grid_column": null,
            "grid_gap": null,
            "grid_row": null,
            "grid_template_areas": null,
            "grid_template_columns": null,
            "grid_template_rows": null,
            "height": null,
            "justify_content": null,
            "justify_items": null,
            "left": null,
            "margin": null,
            "max_height": null,
            "max_width": null,
            "min_height": null,
            "min_width": null,
            "object_fit": null,
            "object_position": null,
            "order": null,
            "overflow": null,
            "overflow_x": null,
            "overflow_y": null,
            "padding": null,
            "right": null,
            "top": null,
            "visibility": null,
            "width": null
          }
        },
        "6f02812790fa430ab2bc3a37a851256c": {
          "model_module": "@jupyter-widgets/controls",
          "model_name": "DescriptionStyleModel",
          "model_module_version": "1.5.0",
          "state": {
            "_model_module": "@jupyter-widgets/controls",
            "_model_module_version": "1.5.0",
            "_model_name": "DescriptionStyleModel",
            "_view_count": null,
            "_view_module": "@jupyter-widgets/base",
            "_view_module_version": "1.2.0",
            "_view_name": "StyleView",
            "description_width": ""
          }
        },
        "1f025377c3cf4bd1afb1ce66f8ff6e4c": {
          "model_module": "@jupyter-widgets/controls",
          "model_name": "HBoxModel",
          "model_module_version": "1.5.0",
          "state": {
            "_dom_classes": [],
            "_model_module": "@jupyter-widgets/controls",
            "_model_module_version": "1.5.0",
            "_model_name": "HBoxModel",
            "_view_count": null,
            "_view_module": "@jupyter-widgets/controls",
            "_view_module_version": "1.5.0",
            "_view_name": "HBoxView",
            "box_style": "",
            "children": [
              "IPY_MODEL_a0a7958478794edcaf94fb3cf149cb5b",
              "IPY_MODEL_15059079a18e4eea80b3d6d2cf1dea3b",
              "IPY_MODEL_0f466a9157f3448f94d1b56d7b3a5dcd"
            ],
            "layout": "IPY_MODEL_b769f0e1267a496f929200e6075bc534"
          }
        },
        "a0a7958478794edcaf94fb3cf149cb5b": {
          "model_module": "@jupyter-widgets/controls",
          "model_name": "HTMLModel",
          "model_module_version": "1.5.0",
          "state": {
            "_dom_classes": [],
            "_model_module": "@jupyter-widgets/controls",
            "_model_module_version": "1.5.0",
            "_model_name": "HTMLModel",
            "_view_count": null,
            "_view_module": "@jupyter-widgets/controls",
            "_view_module_version": "1.5.0",
            "_view_name": "HTMLView",
            "description": "",
            "description_tooltip": null,
            "layout": "IPY_MODEL_b1aad3ef44d04d9f90f0a31fc007de85",
            "placeholder": "​",
            "style": "IPY_MODEL_9931f01caf534ba5833e221a7d2b7608",
            "value": "100%"
          }
        },
        "15059079a18e4eea80b3d6d2cf1dea3b": {
          "model_module": "@jupyter-widgets/controls",
          "model_name": "FloatProgressModel",
          "model_module_version": "1.5.0",
          "state": {
            "_dom_classes": [],
            "_model_module": "@jupyter-widgets/controls",
            "_model_module_version": "1.5.0",
            "_model_name": "FloatProgressModel",
            "_view_count": null,
            "_view_module": "@jupyter-widgets/controls",
            "_view_module_version": "1.5.0",
            "_view_name": "ProgressView",
            "bar_style": "success",
            "description": "",
            "description_tooltip": null,
            "layout": "IPY_MODEL_fd10df2acc20408c958c0503e7dff354",
            "max": 20,
            "min": 0,
            "orientation": "horizontal",
            "style": "IPY_MODEL_712f8ad70d7e413b90c1714d95548eaf",
            "value": 20
          }
        },
        "0f466a9157f3448f94d1b56d7b3a5dcd": {
          "model_module": "@jupyter-widgets/controls",
          "model_name": "HTMLModel",
          "model_module_version": "1.5.0",
          "state": {
            "_dom_classes": [],
            "_model_module": "@jupyter-widgets/controls",
            "_model_module_version": "1.5.0",
            "_model_name": "HTMLModel",
            "_view_count": null,
            "_view_module": "@jupyter-widgets/controls",
            "_view_module_version": "1.5.0",
            "_view_name": "HTMLView",
            "description": "",
            "description_tooltip": null,
            "layout": "IPY_MODEL_fe8552766c8044af8903b4b1fccb1f2e",
            "placeholder": "​",
            "style": "IPY_MODEL_fc85be4ec68d4af7ad725bef79512bb2",
            "value": " 20/20 [00:01&lt;00:00, 14.92ba/s]"
          }
        },
        "b769f0e1267a496f929200e6075bc534": {
          "model_module": "@jupyter-widgets/base",
          "model_name": "LayoutModel",
          "model_module_version": "1.2.0",
          "state": {
            "_model_module": "@jupyter-widgets/base",
            "_model_module_version": "1.2.0",
            "_model_name": "LayoutModel",
            "_view_count": null,
            "_view_module": "@jupyter-widgets/base",
            "_view_module_version": "1.2.0",
            "_view_name": "LayoutView",
            "align_content": null,
            "align_items": null,
            "align_self": null,
            "border": null,
            "bottom": null,
            "display": null,
            "flex": null,
            "flex_flow": null,
            "grid_area": null,
            "grid_auto_columns": null,
            "grid_auto_flow": null,
            "grid_auto_rows": null,
            "grid_column": null,
            "grid_gap": null,
            "grid_row": null,
            "grid_template_areas": null,
            "grid_template_columns": null,
            "grid_template_rows": null,
            "height": null,
            "justify_content": null,
            "justify_items": null,
            "left": null,
            "margin": null,
            "max_height": null,
            "max_width": null,
            "min_height": null,
            "min_width": null,
            "object_fit": null,
            "object_position": null,
            "order": null,
            "overflow": null,
            "overflow_x": null,
            "overflow_y": null,
            "padding": null,
            "right": null,
            "top": null,
            "visibility": null,
            "width": null
          }
        },
        "b1aad3ef44d04d9f90f0a31fc007de85": {
          "model_module": "@jupyter-widgets/base",
          "model_name": "LayoutModel",
          "model_module_version": "1.2.0",
          "state": {
            "_model_module": "@jupyter-widgets/base",
            "_model_module_version": "1.2.0",
            "_model_name": "LayoutModel",
            "_view_count": null,
            "_view_module": "@jupyter-widgets/base",
            "_view_module_version": "1.2.0",
            "_view_name": "LayoutView",
            "align_content": null,
            "align_items": null,
            "align_self": null,
            "border": null,
            "bottom": null,
            "display": null,
            "flex": null,
            "flex_flow": null,
            "grid_area": null,
            "grid_auto_columns": null,
            "grid_auto_flow": null,
            "grid_auto_rows": null,
            "grid_column": null,
            "grid_gap": null,
            "grid_row": null,
            "grid_template_areas": null,
            "grid_template_columns": null,
            "grid_template_rows": null,
            "height": null,
            "justify_content": null,
            "justify_items": null,
            "left": null,
            "margin": null,
            "max_height": null,
            "max_width": null,
            "min_height": null,
            "min_width": null,
            "object_fit": null,
            "object_position": null,
            "order": null,
            "overflow": null,
            "overflow_x": null,
            "overflow_y": null,
            "padding": null,
            "right": null,
            "top": null,
            "visibility": null,
            "width": null
          }
        },
        "9931f01caf534ba5833e221a7d2b7608": {
          "model_module": "@jupyter-widgets/controls",
          "model_name": "DescriptionStyleModel",
          "model_module_version": "1.5.0",
          "state": {
            "_model_module": "@jupyter-widgets/controls",
            "_model_module_version": "1.5.0",
            "_model_name": "DescriptionStyleModel",
            "_view_count": null,
            "_view_module": "@jupyter-widgets/base",
            "_view_module_version": "1.2.0",
            "_view_name": "StyleView",
            "description_width": ""
          }
        },
        "fd10df2acc20408c958c0503e7dff354": {
          "model_module": "@jupyter-widgets/base",
          "model_name": "LayoutModel",
          "model_module_version": "1.2.0",
          "state": {
            "_model_module": "@jupyter-widgets/base",
            "_model_module_version": "1.2.0",
            "_model_name": "LayoutModel",
            "_view_count": null,
            "_view_module": "@jupyter-widgets/base",
            "_view_module_version": "1.2.0",
            "_view_name": "LayoutView",
            "align_content": null,
            "align_items": null,
            "align_self": null,
            "border": null,
            "bottom": null,
            "display": null,
            "flex": null,
            "flex_flow": null,
            "grid_area": null,
            "grid_auto_columns": null,
            "grid_auto_flow": null,
            "grid_auto_rows": null,
            "grid_column": null,
            "grid_gap": null,
            "grid_row": null,
            "grid_template_areas": null,
            "grid_template_columns": null,
            "grid_template_rows": null,
            "height": null,
            "justify_content": null,
            "justify_items": null,
            "left": null,
            "margin": null,
            "max_height": null,
            "max_width": null,
            "min_height": null,
            "min_width": null,
            "object_fit": null,
            "object_position": null,
            "order": null,
            "overflow": null,
            "overflow_x": null,
            "overflow_y": null,
            "padding": null,
            "right": null,
            "top": null,
            "visibility": null,
            "width": null
          }
        },
        "712f8ad70d7e413b90c1714d95548eaf": {
          "model_module": "@jupyter-widgets/controls",
          "model_name": "ProgressStyleModel",
          "model_module_version": "1.5.0",
          "state": {
            "_model_module": "@jupyter-widgets/controls",
            "_model_module_version": "1.5.0",
            "_model_name": "ProgressStyleModel",
            "_view_count": null,
            "_view_module": "@jupyter-widgets/base",
            "_view_module_version": "1.2.0",
            "_view_name": "StyleView",
            "bar_color": null,
            "description_width": ""
          }
        },
        "fe8552766c8044af8903b4b1fccb1f2e": {
          "model_module": "@jupyter-widgets/base",
          "model_name": "LayoutModel",
          "model_module_version": "1.2.0",
          "state": {
            "_model_module": "@jupyter-widgets/base",
            "_model_module_version": "1.2.0",
            "_model_name": "LayoutModel",
            "_view_count": null,
            "_view_module": "@jupyter-widgets/base",
            "_view_module_version": "1.2.0",
            "_view_name": "LayoutView",
            "align_content": null,
            "align_items": null,
            "align_self": null,
            "border": null,
            "bottom": null,
            "display": null,
            "flex": null,
            "flex_flow": null,
            "grid_area": null,
            "grid_auto_columns": null,
            "grid_auto_flow": null,
            "grid_auto_rows": null,
            "grid_column": null,
            "grid_gap": null,
            "grid_row": null,
            "grid_template_areas": null,
            "grid_template_columns": null,
            "grid_template_rows": null,
            "height": null,
            "justify_content": null,
            "justify_items": null,
            "left": null,
            "margin": null,
            "max_height": null,
            "max_width": null,
            "min_height": null,
            "min_width": null,
            "object_fit": null,
            "object_position": null,
            "order": null,
            "overflow": null,
            "overflow_x": null,
            "overflow_y": null,
            "padding": null,
            "right": null,
            "top": null,
            "visibility": null,
            "width": null
          }
        },
        "fc85be4ec68d4af7ad725bef79512bb2": {
          "model_module": "@jupyter-widgets/controls",
          "model_name": "DescriptionStyleModel",
          "model_module_version": "1.5.0",
          "state": {
            "_model_module": "@jupyter-widgets/controls",
            "_model_module_version": "1.5.0",
            "_model_name": "DescriptionStyleModel",
            "_view_count": null,
            "_view_module": "@jupyter-widgets/base",
            "_view_module_version": "1.2.0",
            "_view_name": "StyleView",
            "description_width": ""
          }
        },
        "ce57c40fb8ee4d87a4e27abaf33c70ee": {
          "model_module": "@jupyter-widgets/controls",
          "model_name": "HBoxModel",
          "model_module_version": "1.5.0",
          "state": {
            "_dom_classes": [],
            "_model_module": "@jupyter-widgets/controls",
            "_model_module_version": "1.5.0",
            "_model_name": "HBoxModel",
            "_view_count": null,
            "_view_module": "@jupyter-widgets/controls",
            "_view_module_version": "1.5.0",
            "_view_name": "HBoxView",
            "box_style": "",
            "children": [
              "IPY_MODEL_3391aabb0fda4f779a2033d36197bdb5",
              "IPY_MODEL_23af3b03628c450995d508f7e05dc701",
              "IPY_MODEL_b8bbb91868ca4b82bed3a20f7ca268a6"
            ],
            "layout": "IPY_MODEL_124a6fce93ab47b1927b778f55cf071b"
          }
        },
        "3391aabb0fda4f779a2033d36197bdb5": {
          "model_module": "@jupyter-widgets/controls",
          "model_name": "HTMLModel",
          "model_module_version": "1.5.0",
          "state": {
            "_dom_classes": [],
            "_model_module": "@jupyter-widgets/controls",
            "_model_module_version": "1.5.0",
            "_model_name": "HTMLModel",
            "_view_count": null,
            "_view_module": "@jupyter-widgets/controls",
            "_view_module_version": "1.5.0",
            "_view_name": "HTMLView",
            "description": "",
            "description_tooltip": null,
            "layout": "IPY_MODEL_c7cc8b0c1652438caa85953c2eb1dd05",
            "placeholder": "​",
            "style": "IPY_MODEL_606aa37d65ba40b489310d351fe16220",
            "value": "Downloading builder script: "
          }
        },
        "23af3b03628c450995d508f7e05dc701": {
          "model_module": "@jupyter-widgets/controls",
          "model_name": "FloatProgressModel",
          "model_module_version": "1.5.0",
          "state": {
            "_dom_classes": [],
            "_model_module": "@jupyter-widgets/controls",
            "_model_module_version": "1.5.0",
            "_model_name": "FloatProgressModel",
            "_view_count": null,
            "_view_module": "@jupyter-widgets/controls",
            "_view_module_version": "1.5.0",
            "_view_name": "ProgressView",
            "bar_style": "success",
            "description": "",
            "description_tooltip": null,
            "layout": "IPY_MODEL_a82f6e1c3b1f46c3b47ec915903b7d9f",
            "max": 1652,
            "min": 0,
            "orientation": "horizontal",
            "style": "IPY_MODEL_655ece83c1dc4483a060ed6d90aabb3f",
            "value": 1652
          }
        },
        "b8bbb91868ca4b82bed3a20f7ca268a6": {
          "model_module": "@jupyter-widgets/controls",
          "model_name": "HTMLModel",
          "model_module_version": "1.5.0",
          "state": {
            "_dom_classes": [],
            "_model_module": "@jupyter-widgets/controls",
            "_model_module_version": "1.5.0",
            "_model_name": "HTMLModel",
            "_view_count": null,
            "_view_module": "@jupyter-widgets/controls",
            "_view_module_version": "1.5.0",
            "_view_name": "HTMLView",
            "description": "",
            "description_tooltip": null,
            "layout": "IPY_MODEL_4923b9e58fec4e45926f76d197d67c28",
            "placeholder": "​",
            "style": "IPY_MODEL_20782a5f5d0148c2b612becc5f22dd11",
            "value": " 4.21k/? [00:00&lt;00:00, 138kB/s]"
          }
        },
        "124a6fce93ab47b1927b778f55cf071b": {
          "model_module": "@jupyter-widgets/base",
          "model_name": "LayoutModel",
          "model_module_version": "1.2.0",
          "state": {
            "_model_module": "@jupyter-widgets/base",
            "_model_module_version": "1.2.0",
            "_model_name": "LayoutModel",
            "_view_count": null,
            "_view_module": "@jupyter-widgets/base",
            "_view_module_version": "1.2.0",
            "_view_name": "LayoutView",
            "align_content": null,
            "align_items": null,
            "align_self": null,
            "border": null,
            "bottom": null,
            "display": null,
            "flex": null,
            "flex_flow": null,
            "grid_area": null,
            "grid_auto_columns": null,
            "grid_auto_flow": null,
            "grid_auto_rows": null,
            "grid_column": null,
            "grid_gap": null,
            "grid_row": null,
            "grid_template_areas": null,
            "grid_template_columns": null,
            "grid_template_rows": null,
            "height": null,
            "justify_content": null,
            "justify_items": null,
            "left": null,
            "margin": null,
            "max_height": null,
            "max_width": null,
            "min_height": null,
            "min_width": null,
            "object_fit": null,
            "object_position": null,
            "order": null,
            "overflow": null,
            "overflow_x": null,
            "overflow_y": null,
            "padding": null,
            "right": null,
            "top": null,
            "visibility": null,
            "width": null
          }
        },
        "c7cc8b0c1652438caa85953c2eb1dd05": {
          "model_module": "@jupyter-widgets/base",
          "model_name": "LayoutModel",
          "model_module_version": "1.2.0",
          "state": {
            "_model_module": "@jupyter-widgets/base",
            "_model_module_version": "1.2.0",
            "_model_name": "LayoutModel",
            "_view_count": null,
            "_view_module": "@jupyter-widgets/base",
            "_view_module_version": "1.2.0",
            "_view_name": "LayoutView",
            "align_content": null,
            "align_items": null,
            "align_self": null,
            "border": null,
            "bottom": null,
            "display": null,
            "flex": null,
            "flex_flow": null,
            "grid_area": null,
            "grid_auto_columns": null,
            "grid_auto_flow": null,
            "grid_auto_rows": null,
            "grid_column": null,
            "grid_gap": null,
            "grid_row": null,
            "grid_template_areas": null,
            "grid_template_columns": null,
            "grid_template_rows": null,
            "height": null,
            "justify_content": null,
            "justify_items": null,
            "left": null,
            "margin": null,
            "max_height": null,
            "max_width": null,
            "min_height": null,
            "min_width": null,
            "object_fit": null,
            "object_position": null,
            "order": null,
            "overflow": null,
            "overflow_x": null,
            "overflow_y": null,
            "padding": null,
            "right": null,
            "top": null,
            "visibility": null,
            "width": null
          }
        },
        "606aa37d65ba40b489310d351fe16220": {
          "model_module": "@jupyter-widgets/controls",
          "model_name": "DescriptionStyleModel",
          "model_module_version": "1.5.0",
          "state": {
            "_model_module": "@jupyter-widgets/controls",
            "_model_module_version": "1.5.0",
            "_model_name": "DescriptionStyleModel",
            "_view_count": null,
            "_view_module": "@jupyter-widgets/base",
            "_view_module_version": "1.2.0",
            "_view_name": "StyleView",
            "description_width": ""
          }
        },
        "a82f6e1c3b1f46c3b47ec915903b7d9f": {
          "model_module": "@jupyter-widgets/base",
          "model_name": "LayoutModel",
          "model_module_version": "1.2.0",
          "state": {
            "_model_module": "@jupyter-widgets/base",
            "_model_module_version": "1.2.0",
            "_model_name": "LayoutModel",
            "_view_count": null,
            "_view_module": "@jupyter-widgets/base",
            "_view_module_version": "1.2.0",
            "_view_name": "LayoutView",
            "align_content": null,
            "align_items": null,
            "align_self": null,
            "border": null,
            "bottom": null,
            "display": null,
            "flex": null,
            "flex_flow": null,
            "grid_area": null,
            "grid_auto_columns": null,
            "grid_auto_flow": null,
            "grid_auto_rows": null,
            "grid_column": null,
            "grid_gap": null,
            "grid_row": null,
            "grid_template_areas": null,
            "grid_template_columns": null,
            "grid_template_rows": null,
            "height": null,
            "justify_content": null,
            "justify_items": null,
            "left": null,
            "margin": null,
            "max_height": null,
            "max_width": null,
            "min_height": null,
            "min_width": null,
            "object_fit": null,
            "object_position": null,
            "order": null,
            "overflow": null,
            "overflow_x": null,
            "overflow_y": null,
            "padding": null,
            "right": null,
            "top": null,
            "visibility": null,
            "width": null
          }
        },
        "655ece83c1dc4483a060ed6d90aabb3f": {
          "model_module": "@jupyter-widgets/controls",
          "model_name": "ProgressStyleModel",
          "model_module_version": "1.5.0",
          "state": {
            "_model_module": "@jupyter-widgets/controls",
            "_model_module_version": "1.5.0",
            "_model_name": "ProgressStyleModel",
            "_view_count": null,
            "_view_module": "@jupyter-widgets/base",
            "_view_module_version": "1.2.0",
            "_view_name": "StyleView",
            "bar_color": null,
            "description_width": ""
          }
        },
        "4923b9e58fec4e45926f76d197d67c28": {
          "model_module": "@jupyter-widgets/base",
          "model_name": "LayoutModel",
          "model_module_version": "1.2.0",
          "state": {
            "_model_module": "@jupyter-widgets/base",
            "_model_module_version": "1.2.0",
            "_model_name": "LayoutModel",
            "_view_count": null,
            "_view_module": "@jupyter-widgets/base",
            "_view_module_version": "1.2.0",
            "_view_name": "LayoutView",
            "align_content": null,
            "align_items": null,
            "align_self": null,
            "border": null,
            "bottom": null,
            "display": null,
            "flex": null,
            "flex_flow": null,
            "grid_area": null,
            "grid_auto_columns": null,
            "grid_auto_flow": null,
            "grid_auto_rows": null,
            "grid_column": null,
            "grid_gap": null,
            "grid_row": null,
            "grid_template_areas": null,
            "grid_template_columns": null,
            "grid_template_rows": null,
            "height": null,
            "justify_content": null,
            "justify_items": null,
            "left": null,
            "margin": null,
            "max_height": null,
            "max_width": null,
            "min_height": null,
            "min_width": null,
            "object_fit": null,
            "object_position": null,
            "order": null,
            "overflow": null,
            "overflow_x": null,
            "overflow_y": null,
            "padding": null,
            "right": null,
            "top": null,
            "visibility": null,
            "width": null
          }
        },
        "20782a5f5d0148c2b612becc5f22dd11": {
          "model_module": "@jupyter-widgets/controls",
          "model_name": "DescriptionStyleModel",
          "model_module_version": "1.5.0",
          "state": {
            "_model_module": "@jupyter-widgets/controls",
            "_model_module_version": "1.5.0",
            "_model_name": "DescriptionStyleModel",
            "_view_count": null,
            "_view_module": "@jupyter-widgets/base",
            "_view_module_version": "1.2.0",
            "_view_name": "StyleView",
            "description_width": ""
          }
        },
        "1a5382cb31ba44c79e756d872b3f0f58": {
          "model_module": "@jupyter-widgets/controls",
          "model_name": "HBoxModel",
          "model_module_version": "1.5.0",
          "state": {
            "_dom_classes": [],
            "_model_module": "@jupyter-widgets/controls",
            "_model_module_version": "1.5.0",
            "_model_name": "HBoxModel",
            "_view_count": null,
            "_view_module": "@jupyter-widgets/controls",
            "_view_module_version": "1.5.0",
            "_view_name": "HBoxView",
            "box_style": "",
            "children": [
              "IPY_MODEL_5cebca4feeef437d861b78cdd55d86a3",
              "IPY_MODEL_18432f1be4674113b9b115e65685388e",
              "IPY_MODEL_44f572ac077647a4af565445874c5e00"
            ],
            "layout": "IPY_MODEL_4213f3efe9104413a9b878c936f1da00"
          }
        },
        "5cebca4feeef437d861b78cdd55d86a3": {
          "model_module": "@jupyter-widgets/controls",
          "model_name": "HTMLModel",
          "model_module_version": "1.5.0",
          "state": {
            "_dom_classes": [],
            "_model_module": "@jupyter-widgets/controls",
            "_model_module_version": "1.5.0",
            "_model_name": "HTMLModel",
            "_view_count": null,
            "_view_module": "@jupyter-widgets/controls",
            "_view_module_version": "1.5.0",
            "_view_name": "HTMLView",
            "description": "",
            "description_tooltip": null,
            "layout": "IPY_MODEL_09b5aac2574e42b38a0ee443db3fbdec",
            "placeholder": "​",
            "style": "IPY_MODEL_4be926b7349c4ec7939f6ae6b4f37d92",
            "value": "Downloading builder script: "
          }
        },
        "18432f1be4674113b9b115e65685388e": {
          "model_module": "@jupyter-widgets/controls",
          "model_name": "FloatProgressModel",
          "model_module_version": "1.5.0",
          "state": {
            "_dom_classes": [],
            "_model_module": "@jupyter-widgets/controls",
            "_model_module_version": "1.5.0",
            "_model_name": "FloatProgressModel",
            "_view_count": null,
            "_view_module": "@jupyter-widgets/controls",
            "_view_module_version": "1.5.0",
            "_view_name": "ProgressView",
            "bar_style": "success",
            "description": "",
            "description_tooltip": null,
            "layout": "IPY_MODEL_6439efc2eb714bd3bf2de3b819a395c2",
            "max": 2575,
            "min": 0,
            "orientation": "horizontal",
            "style": "IPY_MODEL_125dde649c674458a614f1d6ee7a5248",
            "value": 2575
          }
        },
        "44f572ac077647a4af565445874c5e00": {
          "model_module": "@jupyter-widgets/controls",
          "model_name": "HTMLModel",
          "model_module_version": "1.5.0",
          "state": {
            "_dom_classes": [],
            "_model_module": "@jupyter-widgets/controls",
            "_model_module_version": "1.5.0",
            "_model_name": "HTMLModel",
            "_view_count": null,
            "_view_module": "@jupyter-widgets/controls",
            "_view_module_version": "1.5.0",
            "_view_name": "HTMLView",
            "description": "",
            "description_tooltip": null,
            "layout": "IPY_MODEL_886067bb4712415cbd9b200b6b1a02d2",
            "placeholder": "​",
            "style": "IPY_MODEL_b732ace12e4c490d8725da7803620e94",
            "value": " 7.55k/? [00:00&lt;00:00, 214kB/s]"
          }
        },
        "4213f3efe9104413a9b878c936f1da00": {
          "model_module": "@jupyter-widgets/base",
          "model_name": "LayoutModel",
          "model_module_version": "1.2.0",
          "state": {
            "_model_module": "@jupyter-widgets/base",
            "_model_module_version": "1.2.0",
            "_model_name": "LayoutModel",
            "_view_count": null,
            "_view_module": "@jupyter-widgets/base",
            "_view_module_version": "1.2.0",
            "_view_name": "LayoutView",
            "align_content": null,
            "align_items": null,
            "align_self": null,
            "border": null,
            "bottom": null,
            "display": null,
            "flex": null,
            "flex_flow": null,
            "grid_area": null,
            "grid_auto_columns": null,
            "grid_auto_flow": null,
            "grid_auto_rows": null,
            "grid_column": null,
            "grid_gap": null,
            "grid_row": null,
            "grid_template_areas": null,
            "grid_template_columns": null,
            "grid_template_rows": null,
            "height": null,
            "justify_content": null,
            "justify_items": null,
            "left": null,
            "margin": null,
            "max_height": null,
            "max_width": null,
            "min_height": null,
            "min_width": null,
            "object_fit": null,
            "object_position": null,
            "order": null,
            "overflow": null,
            "overflow_x": null,
            "overflow_y": null,
            "padding": null,
            "right": null,
            "top": null,
            "visibility": null,
            "width": null
          }
        },
        "09b5aac2574e42b38a0ee443db3fbdec": {
          "model_module": "@jupyter-widgets/base",
          "model_name": "LayoutModel",
          "model_module_version": "1.2.0",
          "state": {
            "_model_module": "@jupyter-widgets/base",
            "_model_module_version": "1.2.0",
            "_model_name": "LayoutModel",
            "_view_count": null,
            "_view_module": "@jupyter-widgets/base",
            "_view_module_version": "1.2.0",
            "_view_name": "LayoutView",
            "align_content": null,
            "align_items": null,
            "align_self": null,
            "border": null,
            "bottom": null,
            "display": null,
            "flex": null,
            "flex_flow": null,
            "grid_area": null,
            "grid_auto_columns": null,
            "grid_auto_flow": null,
            "grid_auto_rows": null,
            "grid_column": null,
            "grid_gap": null,
            "grid_row": null,
            "grid_template_areas": null,
            "grid_template_columns": null,
            "grid_template_rows": null,
            "height": null,
            "justify_content": null,
            "justify_items": null,
            "left": null,
            "margin": null,
            "max_height": null,
            "max_width": null,
            "min_height": null,
            "min_width": null,
            "object_fit": null,
            "object_position": null,
            "order": null,
            "overflow": null,
            "overflow_x": null,
            "overflow_y": null,
            "padding": null,
            "right": null,
            "top": null,
            "visibility": null,
            "width": null
          }
        },
        "4be926b7349c4ec7939f6ae6b4f37d92": {
          "model_module": "@jupyter-widgets/controls",
          "model_name": "DescriptionStyleModel",
          "model_module_version": "1.5.0",
          "state": {
            "_model_module": "@jupyter-widgets/controls",
            "_model_module_version": "1.5.0",
            "_model_name": "DescriptionStyleModel",
            "_view_count": null,
            "_view_module": "@jupyter-widgets/base",
            "_view_module_version": "1.2.0",
            "_view_name": "StyleView",
            "description_width": ""
          }
        },
        "6439efc2eb714bd3bf2de3b819a395c2": {
          "model_module": "@jupyter-widgets/base",
          "model_name": "LayoutModel",
          "model_module_version": "1.2.0",
          "state": {
            "_model_module": "@jupyter-widgets/base",
            "_model_module_version": "1.2.0",
            "_model_name": "LayoutModel",
            "_view_count": null,
            "_view_module": "@jupyter-widgets/base",
            "_view_module_version": "1.2.0",
            "_view_name": "LayoutView",
            "align_content": null,
            "align_items": null,
            "align_self": null,
            "border": null,
            "bottom": null,
            "display": null,
            "flex": null,
            "flex_flow": null,
            "grid_area": null,
            "grid_auto_columns": null,
            "grid_auto_flow": null,
            "grid_auto_rows": null,
            "grid_column": null,
            "grid_gap": null,
            "grid_row": null,
            "grid_template_areas": null,
            "grid_template_columns": null,
            "grid_template_rows": null,
            "height": null,
            "justify_content": null,
            "justify_items": null,
            "left": null,
            "margin": null,
            "max_height": null,
            "max_width": null,
            "min_height": null,
            "min_width": null,
            "object_fit": null,
            "object_position": null,
            "order": null,
            "overflow": null,
            "overflow_x": null,
            "overflow_y": null,
            "padding": null,
            "right": null,
            "top": null,
            "visibility": null,
            "width": null
          }
        },
        "125dde649c674458a614f1d6ee7a5248": {
          "model_module": "@jupyter-widgets/controls",
          "model_name": "ProgressStyleModel",
          "model_module_version": "1.5.0",
          "state": {
            "_model_module": "@jupyter-widgets/controls",
            "_model_module_version": "1.5.0",
            "_model_name": "ProgressStyleModel",
            "_view_count": null,
            "_view_module": "@jupyter-widgets/base",
            "_view_module_version": "1.2.0",
            "_view_name": "StyleView",
            "bar_color": null,
            "description_width": ""
          }
        },
        "886067bb4712415cbd9b200b6b1a02d2": {
          "model_module": "@jupyter-widgets/base",
          "model_name": "LayoutModel",
          "model_module_version": "1.2.0",
          "state": {
            "_model_module": "@jupyter-widgets/base",
            "_model_module_version": "1.2.0",
            "_model_name": "LayoutModel",
            "_view_count": null,
            "_view_module": "@jupyter-widgets/base",
            "_view_module_version": "1.2.0",
            "_view_name": "LayoutView",
            "align_content": null,
            "align_items": null,
            "align_self": null,
            "border": null,
            "bottom": null,
            "display": null,
            "flex": null,
            "flex_flow": null,
            "grid_area": null,
            "grid_auto_columns": null,
            "grid_auto_flow": null,
            "grid_auto_rows": null,
            "grid_column": null,
            "grid_gap": null,
            "grid_row": null,
            "grid_template_areas": null,
            "grid_template_columns": null,
            "grid_template_rows": null,
            "height": null,
            "justify_content": null,
            "justify_items": null,
            "left": null,
            "margin": null,
            "max_height": null,
            "max_width": null,
            "min_height": null,
            "min_width": null,
            "object_fit": null,
            "object_position": null,
            "order": null,
            "overflow": null,
            "overflow_x": null,
            "overflow_y": null,
            "padding": null,
            "right": null,
            "top": null,
            "visibility": null,
            "width": null
          }
        },
        "b732ace12e4c490d8725da7803620e94": {
          "model_module": "@jupyter-widgets/controls",
          "model_name": "DescriptionStyleModel",
          "model_module_version": "1.5.0",
          "state": {
            "_model_module": "@jupyter-widgets/controls",
            "_model_module_version": "1.5.0",
            "_model_name": "DescriptionStyleModel",
            "_view_count": null,
            "_view_module": "@jupyter-widgets/base",
            "_view_module_version": "1.2.0",
            "_view_name": "StyleView",
            "description_width": ""
          }
        },
        "59f3ab506bc94b1c93d38a8b9fadeaf4": {
          "model_module": "@jupyter-widgets/controls",
          "model_name": "HBoxModel",
          "model_module_version": "1.5.0",
          "state": {
            "_dom_classes": [],
            "_model_module": "@jupyter-widgets/controls",
            "_model_module_version": "1.5.0",
            "_model_name": "HBoxModel",
            "_view_count": null,
            "_view_module": "@jupyter-widgets/controls",
            "_view_module_version": "1.5.0",
            "_view_name": "HBoxView",
            "box_style": "",
            "children": [
              "IPY_MODEL_2aad2e29dd684011886120eaeabbd505",
              "IPY_MODEL_15cc3dfcf06841a18ed27949e9fd61dc",
              "IPY_MODEL_9b93d96991824086a44c048a56b0ba91"
            ],
            "layout": "IPY_MODEL_3db8b9e87dbd4641abb377ff8f9695b3"
          }
        },
        "2aad2e29dd684011886120eaeabbd505": {
          "model_module": "@jupyter-widgets/controls",
          "model_name": "HTMLModel",
          "model_module_version": "1.5.0",
          "state": {
            "_dom_classes": [],
            "_model_module": "@jupyter-widgets/controls",
            "_model_module_version": "1.5.0",
            "_model_name": "HTMLModel",
            "_view_count": null,
            "_view_module": "@jupyter-widgets/controls",
            "_view_module_version": "1.5.0",
            "_view_name": "HTMLView",
            "description": "",
            "description_tooltip": null,
            "layout": "IPY_MODEL_617b28af05ce475481222b1e6b7d96e5",
            "placeholder": "​",
            "style": "IPY_MODEL_f0f825f713424c2f801171bd51efc2ae",
            "value": "Downloading builder script: "
          }
        },
        "15cc3dfcf06841a18ed27949e9fd61dc": {
          "model_module": "@jupyter-widgets/controls",
          "model_name": "FloatProgressModel",
          "model_module_version": "1.5.0",
          "state": {
            "_dom_classes": [],
            "_model_module": "@jupyter-widgets/controls",
            "_model_module_version": "1.5.0",
            "_model_name": "FloatProgressModel",
            "_view_count": null,
            "_view_module": "@jupyter-widgets/controls",
            "_view_module_version": "1.5.0",
            "_view_name": "ProgressView",
            "bar_style": "success",
            "description": "",
            "description_tooltip": null,
            "layout": "IPY_MODEL_1cc7b5b8897d4b7a8b4e95bd558beea1",
            "max": 2524,
            "min": 0,
            "orientation": "horizontal",
            "style": "IPY_MODEL_763cdfc4969d43e1b3bf5bb324876bef",
            "value": 2524
          }
        },
        "9b93d96991824086a44c048a56b0ba91": {
          "model_module": "@jupyter-widgets/controls",
          "model_name": "HTMLModel",
          "model_module_version": "1.5.0",
          "state": {
            "_dom_classes": [],
            "_model_module": "@jupyter-widgets/controls",
            "_model_module_version": "1.5.0",
            "_model_name": "HTMLModel",
            "_view_count": null,
            "_view_module": "@jupyter-widgets/controls",
            "_view_module_version": "1.5.0",
            "_view_name": "HTMLView",
            "description": "",
            "description_tooltip": null,
            "layout": "IPY_MODEL_e16d0d429f8e499aa39a91c01e05e6dc",
            "placeholder": "​",
            "style": "IPY_MODEL_dc404f5af78d4014ac938aa98757efb4",
            "value": " 7.38k/? [00:00&lt;00:00, 229kB/s]"
          }
        },
        "3db8b9e87dbd4641abb377ff8f9695b3": {
          "model_module": "@jupyter-widgets/base",
          "model_name": "LayoutModel",
          "model_module_version": "1.2.0",
          "state": {
            "_model_module": "@jupyter-widgets/base",
            "_model_module_version": "1.2.0",
            "_model_name": "LayoutModel",
            "_view_count": null,
            "_view_module": "@jupyter-widgets/base",
            "_view_module_version": "1.2.0",
            "_view_name": "LayoutView",
            "align_content": null,
            "align_items": null,
            "align_self": null,
            "border": null,
            "bottom": null,
            "display": null,
            "flex": null,
            "flex_flow": null,
            "grid_area": null,
            "grid_auto_columns": null,
            "grid_auto_flow": null,
            "grid_auto_rows": null,
            "grid_column": null,
            "grid_gap": null,
            "grid_row": null,
            "grid_template_areas": null,
            "grid_template_columns": null,
            "grid_template_rows": null,
            "height": null,
            "justify_content": null,
            "justify_items": null,
            "left": null,
            "margin": null,
            "max_height": null,
            "max_width": null,
            "min_height": null,
            "min_width": null,
            "object_fit": null,
            "object_position": null,
            "order": null,
            "overflow": null,
            "overflow_x": null,
            "overflow_y": null,
            "padding": null,
            "right": null,
            "top": null,
            "visibility": null,
            "width": null
          }
        },
        "617b28af05ce475481222b1e6b7d96e5": {
          "model_module": "@jupyter-widgets/base",
          "model_name": "LayoutModel",
          "model_module_version": "1.2.0",
          "state": {
            "_model_module": "@jupyter-widgets/base",
            "_model_module_version": "1.2.0",
            "_model_name": "LayoutModel",
            "_view_count": null,
            "_view_module": "@jupyter-widgets/base",
            "_view_module_version": "1.2.0",
            "_view_name": "LayoutView",
            "align_content": null,
            "align_items": null,
            "align_self": null,
            "border": null,
            "bottom": null,
            "display": null,
            "flex": null,
            "flex_flow": null,
            "grid_area": null,
            "grid_auto_columns": null,
            "grid_auto_flow": null,
            "grid_auto_rows": null,
            "grid_column": null,
            "grid_gap": null,
            "grid_row": null,
            "grid_template_areas": null,
            "grid_template_columns": null,
            "grid_template_rows": null,
            "height": null,
            "justify_content": null,
            "justify_items": null,
            "left": null,
            "margin": null,
            "max_height": null,
            "max_width": null,
            "min_height": null,
            "min_width": null,
            "object_fit": null,
            "object_position": null,
            "order": null,
            "overflow": null,
            "overflow_x": null,
            "overflow_y": null,
            "padding": null,
            "right": null,
            "top": null,
            "visibility": null,
            "width": null
          }
        },
        "f0f825f713424c2f801171bd51efc2ae": {
          "model_module": "@jupyter-widgets/controls",
          "model_name": "DescriptionStyleModel",
          "model_module_version": "1.5.0",
          "state": {
            "_model_module": "@jupyter-widgets/controls",
            "_model_module_version": "1.5.0",
            "_model_name": "DescriptionStyleModel",
            "_view_count": null,
            "_view_module": "@jupyter-widgets/base",
            "_view_module_version": "1.2.0",
            "_view_name": "StyleView",
            "description_width": ""
          }
        },
        "1cc7b5b8897d4b7a8b4e95bd558beea1": {
          "model_module": "@jupyter-widgets/base",
          "model_name": "LayoutModel",
          "model_module_version": "1.2.0",
          "state": {
            "_model_module": "@jupyter-widgets/base",
            "_model_module_version": "1.2.0",
            "_model_name": "LayoutModel",
            "_view_count": null,
            "_view_module": "@jupyter-widgets/base",
            "_view_module_version": "1.2.0",
            "_view_name": "LayoutView",
            "align_content": null,
            "align_items": null,
            "align_self": null,
            "border": null,
            "bottom": null,
            "display": null,
            "flex": null,
            "flex_flow": null,
            "grid_area": null,
            "grid_auto_columns": null,
            "grid_auto_flow": null,
            "grid_auto_rows": null,
            "grid_column": null,
            "grid_gap": null,
            "grid_row": null,
            "grid_template_areas": null,
            "grid_template_columns": null,
            "grid_template_rows": null,
            "height": null,
            "justify_content": null,
            "justify_items": null,
            "left": null,
            "margin": null,
            "max_height": null,
            "max_width": null,
            "min_height": null,
            "min_width": null,
            "object_fit": null,
            "object_position": null,
            "order": null,
            "overflow": null,
            "overflow_x": null,
            "overflow_y": null,
            "padding": null,
            "right": null,
            "top": null,
            "visibility": null,
            "width": null
          }
        },
        "763cdfc4969d43e1b3bf5bb324876bef": {
          "model_module": "@jupyter-widgets/controls",
          "model_name": "ProgressStyleModel",
          "model_module_version": "1.5.0",
          "state": {
            "_model_module": "@jupyter-widgets/controls",
            "_model_module_version": "1.5.0",
            "_model_name": "ProgressStyleModel",
            "_view_count": null,
            "_view_module": "@jupyter-widgets/base",
            "_view_module_version": "1.2.0",
            "_view_name": "StyleView",
            "bar_color": null,
            "description_width": ""
          }
        },
        "e16d0d429f8e499aa39a91c01e05e6dc": {
          "model_module": "@jupyter-widgets/base",
          "model_name": "LayoutModel",
          "model_module_version": "1.2.0",
          "state": {
            "_model_module": "@jupyter-widgets/base",
            "_model_module_version": "1.2.0",
            "_model_name": "LayoutModel",
            "_view_count": null,
            "_view_module": "@jupyter-widgets/base",
            "_view_module_version": "1.2.0",
            "_view_name": "LayoutView",
            "align_content": null,
            "align_items": null,
            "align_self": null,
            "border": null,
            "bottom": null,
            "display": null,
            "flex": null,
            "flex_flow": null,
            "grid_area": null,
            "grid_auto_columns": null,
            "grid_auto_flow": null,
            "grid_auto_rows": null,
            "grid_column": null,
            "grid_gap": null,
            "grid_row": null,
            "grid_template_areas": null,
            "grid_template_columns": null,
            "grid_template_rows": null,
            "height": null,
            "justify_content": null,
            "justify_items": null,
            "left": null,
            "margin": null,
            "max_height": null,
            "max_width": null,
            "min_height": null,
            "min_width": null,
            "object_fit": null,
            "object_position": null,
            "order": null,
            "overflow": null,
            "overflow_x": null,
            "overflow_y": null,
            "padding": null,
            "right": null,
            "top": null,
            "visibility": null,
            "width": null
          }
        },
        "dc404f5af78d4014ac938aa98757efb4": {
          "model_module": "@jupyter-widgets/controls",
          "model_name": "DescriptionStyleModel",
          "model_module_version": "1.5.0",
          "state": {
            "_model_module": "@jupyter-widgets/controls",
            "_model_module_version": "1.5.0",
            "_model_name": "DescriptionStyleModel",
            "_view_count": null,
            "_view_module": "@jupyter-widgets/base",
            "_view_module_version": "1.2.0",
            "_view_name": "StyleView",
            "description_width": ""
          }
        },
        "4fe506f46bb0473db0a1c6f5fbab586d": {
          "model_module": "@jupyter-widgets/controls",
          "model_name": "HBoxModel",
          "model_module_version": "1.5.0",
          "state": {
            "_dom_classes": [],
            "_model_module": "@jupyter-widgets/controls",
            "_model_module_version": "1.5.0",
            "_model_name": "HBoxModel",
            "_view_count": null,
            "_view_module": "@jupyter-widgets/controls",
            "_view_module_version": "1.5.0",
            "_view_name": "HBoxView",
            "box_style": "",
            "children": [
              "IPY_MODEL_c0f180b74a574f4f834a910a5f6c3591",
              "IPY_MODEL_f97e3f9164984045a5280a1ee32737b4",
              "IPY_MODEL_7c6322c69650412caf36286582b8b43a"
            ],
            "layout": "IPY_MODEL_8abf7561062f4863958153dfdd390931"
          }
        },
        "c0f180b74a574f4f834a910a5f6c3591": {
          "model_module": "@jupyter-widgets/controls",
          "model_name": "HTMLModel",
          "model_module_version": "1.5.0",
          "state": {
            "_dom_classes": [],
            "_model_module": "@jupyter-widgets/controls",
            "_model_module_version": "1.5.0",
            "_model_name": "HTMLModel",
            "_view_count": null,
            "_view_module": "@jupyter-widgets/controls",
            "_view_module_version": "1.5.0",
            "_view_name": "HTMLView",
            "description": "",
            "description_tooltip": null,
            "layout": "IPY_MODEL_e9c85350e55a4123925718835d20f287",
            "placeholder": "​",
            "style": "IPY_MODEL_d6c91b45b1fd4c6aba8c87557755c3ea",
            "value": "Downloading builder script: "
          }
        },
        "f97e3f9164984045a5280a1ee32737b4": {
          "model_module": "@jupyter-widgets/controls",
          "model_name": "FloatProgressModel",
          "model_module_version": "1.5.0",
          "state": {
            "_dom_classes": [],
            "_model_module": "@jupyter-widgets/controls",
            "_model_module_version": "1.5.0",
            "_model_name": "FloatProgressModel",
            "_view_count": null,
            "_view_module": "@jupyter-widgets/controls",
            "_view_module_version": "1.5.0",
            "_view_name": "ProgressView",
            "bar_style": "success",
            "description": "",
            "description_tooltip": null,
            "layout": "IPY_MODEL_b034a20c1def4363bb0ee5483a0b178b",
            "max": 2318,
            "min": 0,
            "orientation": "horizontal",
            "style": "IPY_MODEL_cea0eb097b054bbabbb477f84b300d90",
            "value": 2318
          }
        },
        "7c6322c69650412caf36286582b8b43a": {
          "model_module": "@jupyter-widgets/controls",
          "model_name": "HTMLModel",
          "model_module_version": "1.5.0",
          "state": {
            "_dom_classes": [],
            "_model_module": "@jupyter-widgets/controls",
            "_model_module_version": "1.5.0",
            "_model_name": "HTMLModel",
            "_view_count": null,
            "_view_module": "@jupyter-widgets/controls",
            "_view_module_version": "1.5.0",
            "_view_name": "HTMLView",
            "description": "",
            "description_tooltip": null,
            "layout": "IPY_MODEL_f422365030d746de8c11abb049f7e352",
            "placeholder": "​",
            "style": "IPY_MODEL_89fb2a6c3fdb475e8ea16d52b3757998",
            "value": " 6.50k/? [00:00&lt;00:00, 161kB/s]"
          }
        },
        "8abf7561062f4863958153dfdd390931": {
          "model_module": "@jupyter-widgets/base",
          "model_name": "LayoutModel",
          "model_module_version": "1.2.0",
          "state": {
            "_model_module": "@jupyter-widgets/base",
            "_model_module_version": "1.2.0",
            "_model_name": "LayoutModel",
            "_view_count": null,
            "_view_module": "@jupyter-widgets/base",
            "_view_module_version": "1.2.0",
            "_view_name": "LayoutView",
            "align_content": null,
            "align_items": null,
            "align_self": null,
            "border": null,
            "bottom": null,
            "display": null,
            "flex": null,
            "flex_flow": null,
            "grid_area": null,
            "grid_auto_columns": null,
            "grid_auto_flow": null,
            "grid_auto_rows": null,
            "grid_column": null,
            "grid_gap": null,
            "grid_row": null,
            "grid_template_areas": null,
            "grid_template_columns": null,
            "grid_template_rows": null,
            "height": null,
            "justify_content": null,
            "justify_items": null,
            "left": null,
            "margin": null,
            "max_height": null,
            "max_width": null,
            "min_height": null,
            "min_width": null,
            "object_fit": null,
            "object_position": null,
            "order": null,
            "overflow": null,
            "overflow_x": null,
            "overflow_y": null,
            "padding": null,
            "right": null,
            "top": null,
            "visibility": null,
            "width": null
          }
        },
        "e9c85350e55a4123925718835d20f287": {
          "model_module": "@jupyter-widgets/base",
          "model_name": "LayoutModel",
          "model_module_version": "1.2.0",
          "state": {
            "_model_module": "@jupyter-widgets/base",
            "_model_module_version": "1.2.0",
            "_model_name": "LayoutModel",
            "_view_count": null,
            "_view_module": "@jupyter-widgets/base",
            "_view_module_version": "1.2.0",
            "_view_name": "LayoutView",
            "align_content": null,
            "align_items": null,
            "align_self": null,
            "border": null,
            "bottom": null,
            "display": null,
            "flex": null,
            "flex_flow": null,
            "grid_area": null,
            "grid_auto_columns": null,
            "grid_auto_flow": null,
            "grid_auto_rows": null,
            "grid_column": null,
            "grid_gap": null,
            "grid_row": null,
            "grid_template_areas": null,
            "grid_template_columns": null,
            "grid_template_rows": null,
            "height": null,
            "justify_content": null,
            "justify_items": null,
            "left": null,
            "margin": null,
            "max_height": null,
            "max_width": null,
            "min_height": null,
            "min_width": null,
            "object_fit": null,
            "object_position": null,
            "order": null,
            "overflow": null,
            "overflow_x": null,
            "overflow_y": null,
            "padding": null,
            "right": null,
            "top": null,
            "visibility": null,
            "width": null
          }
        },
        "d6c91b45b1fd4c6aba8c87557755c3ea": {
          "model_module": "@jupyter-widgets/controls",
          "model_name": "DescriptionStyleModel",
          "model_module_version": "1.5.0",
          "state": {
            "_model_module": "@jupyter-widgets/controls",
            "_model_module_version": "1.5.0",
            "_model_name": "DescriptionStyleModel",
            "_view_count": null,
            "_view_module": "@jupyter-widgets/base",
            "_view_module_version": "1.2.0",
            "_view_name": "StyleView",
            "description_width": ""
          }
        },
        "b034a20c1def4363bb0ee5483a0b178b": {
          "model_module": "@jupyter-widgets/base",
          "model_name": "LayoutModel",
          "model_module_version": "1.2.0",
          "state": {
            "_model_module": "@jupyter-widgets/base",
            "_model_module_version": "1.2.0",
            "_model_name": "LayoutModel",
            "_view_count": null,
            "_view_module": "@jupyter-widgets/base",
            "_view_module_version": "1.2.0",
            "_view_name": "LayoutView",
            "align_content": null,
            "align_items": null,
            "align_self": null,
            "border": null,
            "bottom": null,
            "display": null,
            "flex": null,
            "flex_flow": null,
            "grid_area": null,
            "grid_auto_columns": null,
            "grid_auto_flow": null,
            "grid_auto_rows": null,
            "grid_column": null,
            "grid_gap": null,
            "grid_row": null,
            "grid_template_areas": null,
            "grid_template_columns": null,
            "grid_template_rows": null,
            "height": null,
            "justify_content": null,
            "justify_items": null,
            "left": null,
            "margin": null,
            "max_height": null,
            "max_width": null,
            "min_height": null,
            "min_width": null,
            "object_fit": null,
            "object_position": null,
            "order": null,
            "overflow": null,
            "overflow_x": null,
            "overflow_y": null,
            "padding": null,
            "right": null,
            "top": null,
            "visibility": null,
            "width": null
          }
        },
        "cea0eb097b054bbabbb477f84b300d90": {
          "model_module": "@jupyter-widgets/controls",
          "model_name": "ProgressStyleModel",
          "model_module_version": "1.5.0",
          "state": {
            "_model_module": "@jupyter-widgets/controls",
            "_model_module_version": "1.5.0",
            "_model_name": "ProgressStyleModel",
            "_view_count": null,
            "_view_module": "@jupyter-widgets/base",
            "_view_module_version": "1.2.0",
            "_view_name": "StyleView",
            "bar_color": null,
            "description_width": ""
          }
        },
        "f422365030d746de8c11abb049f7e352": {
          "model_module": "@jupyter-widgets/base",
          "model_name": "LayoutModel",
          "model_module_version": "1.2.0",
          "state": {
            "_model_module": "@jupyter-widgets/base",
            "_model_module_version": "1.2.0",
            "_model_name": "LayoutModel",
            "_view_count": null,
            "_view_module": "@jupyter-widgets/base",
            "_view_module_version": "1.2.0",
            "_view_name": "LayoutView",
            "align_content": null,
            "align_items": null,
            "align_self": null,
            "border": null,
            "bottom": null,
            "display": null,
            "flex": null,
            "flex_flow": null,
            "grid_area": null,
            "grid_auto_columns": null,
            "grid_auto_flow": null,
            "grid_auto_rows": null,
            "grid_column": null,
            "grid_gap": null,
            "grid_row": null,
            "grid_template_areas": null,
            "grid_template_columns": null,
            "grid_template_rows": null,
            "height": null,
            "justify_content": null,
            "justify_items": null,
            "left": null,
            "margin": null,
            "max_height": null,
            "max_width": null,
            "min_height": null,
            "min_width": null,
            "object_fit": null,
            "object_position": null,
            "order": null,
            "overflow": null,
            "overflow_x": null,
            "overflow_y": null,
            "padding": null,
            "right": null,
            "top": null,
            "visibility": null,
            "width": null
          }
        },
        "89fb2a6c3fdb475e8ea16d52b3757998": {
          "model_module": "@jupyter-widgets/controls",
          "model_name": "DescriptionStyleModel",
          "model_module_version": "1.5.0",
          "state": {
            "_model_module": "@jupyter-widgets/controls",
            "_model_module_version": "1.5.0",
            "_model_name": "DescriptionStyleModel",
            "_view_count": null,
            "_view_module": "@jupyter-widgets/base",
            "_view_module_version": "1.2.0",
            "_view_name": "StyleView",
            "description_width": ""
          }
        }
      }
    }
  },
  "cells": [
    {
      "cell_type": "markdown",
      "metadata": {
        "id": "view-in-github",
        "colab_type": "text"
      },
      "source": [
        "<a href=\"https://colab.research.google.com/github/pfecht/data2day_2022/blob/main/data2day_sentiment_analysis_on_poems.ipynb\" target=\"_parent\"><img src=\"https://colab.research.google.com/assets/colab-badge.svg\" alt=\"Open In Colab\"/></a>"
      ]
    },
    {
      "cell_type": "markdown",
      "source": [
        "# Data2Day 2022 -  Sentiment Analysis on Poems\n",
        "> _Author: Pascal Fecht (pascal.fecht@inovex.de)_\n",
        "\n",
        "\n",
        "This is the Demo for the talk _Large NLP models Transfer Learning vs. Few-Shot Learning_ on the data2day 2022.\n"
      ],
      "metadata": {
        "id": "oQhWu9Mx0Ec1"
      }
    },
    {
      "cell_type": "code",
      "source": [
        "!pip install datasets transformers openprompt"
      ],
      "metadata": {
        "id": "ynrHEtshIo-k"
      },
      "execution_count": null,
      "outputs": []
    },
    {
      "cell_type": "code",
      "source": [
        "from pathlib import Path\n",
        "import numpy as np\n",
        "import pandas as pd"
      ],
      "metadata": {
        "id": "VV-kFaG0sEy1"
      },
      "execution_count": 2,
      "outputs": []
    },
    {
      "cell_type": "code",
      "execution_count": 3,
      "metadata": {
        "id": "XkrZs27aImoT"
      },
      "outputs": [],
      "source": [
        "from datasets import load_dataset, ClassLabel\n",
        "from transformers import AutoTokenizer"
      ]
    },
    {
      "cell_type": "code",
      "source": [
        "from google.colab import drive\n",
        "drive.mount('/content/gdrive')\n",
        "!mkdir -p \"/content/gdrive/My Drive/sentiment-analysis/\"\n",
        "base_path = Path(\"/content/gdrive/My Drive/sentiment-analysis/\")"
      ],
      "metadata": {
        "colab": {
          "base_uri": "https://localhost:8080/"
        },
        "id": "GscCHDjziiEC",
        "outputId": "1b95de84-a51d-432a-cdb6-ba9b70a69c9a"
      },
      "execution_count": 4,
      "outputs": [
        {
          "output_type": "stream",
          "name": "stdout",
          "text": [
            "Drive already mounted at /content/gdrive; to attempt to forcibly remount, call drive.mount(\"/content/gdrive\", force_remount=True).\n"
          ]
        }
      ]
    },
    {
      "cell_type": "markdown",
      "source": [
        "## Dataset Loading and Preparation\n",
        "\n",
        "Load the poem sentiment dataset from `datasets` library and prepare data."
      ],
      "metadata": {
        "id": "DDExKnK24hPD"
      }
    },
    {
      "cell_type": "code",
      "source": [
        "poem_sentiment = load_dataset(\"poem_sentiment\")\n",
        "poem_sentiment = poem_sentiment.rename_column(\"label\", \"labels\")"
      ],
      "metadata": {
        "colab": {
          "base_uri": "https://localhost:8080/",
          "height": 105,
          "referenced_widgets": [
            "e6c02b6d657d48ada25f690393b4b3ff",
            "8e131d1c686e4b52864286ef4085c5c5",
            "70f4fc483e164d938d5a009fa2464c4f",
            "34a9a891198c489d97f40283523bfba3",
            "6e409aa655a845f5a38aef36207bc933",
            "21c316ab6b71421faa108f35e28de35a",
            "fe1e2b4be87841d7a0147456ddff7b38",
            "4bf6426abe034c8db74c719c9c7afd4c",
            "3ebbeb0fa48a461fa65b31874cb1b6d5",
            "a83f8c6b7c184e99a2bd5a6b2729667d",
            "125bc805e6ba4f02ab63f42578733e91"
          ]
        },
        "id": "d6GNrMhSIzdV",
        "outputId": "1e847ecf-0992-4e9d-8818-4342fb38643d"
      },
      "execution_count": 5,
      "outputs": [
        {
          "output_type": "stream",
          "name": "stderr",
          "text": [
            "WARNING:datasets.builder:Using custom data configuration default\n",
            "WARNING:datasets.builder:Reusing dataset poem_sentiment (/root/.cache/huggingface/datasets/poem_sentiment/default/1.0.0/4e44428256d42cdde0be6b3db1baa587195e91847adabf976e4f9454f6a82099)\n"
          ]
        },
        {
          "output_type": "display_data",
          "data": {
            "text/plain": [
              "  0%|          | 0/3 [00:00<?, ?it/s]"
            ],
            "application/vnd.jupyter.widget-view+json": {
              "version_major": 2,
              "version_minor": 0,
              "model_id": "e6c02b6d657d48ada25f690393b4b3ff"
            }
          },
          "metadata": {}
        }
      ]
    },
    {
      "cell_type": "markdown",
      "source": [
        "Remove label 3 (`mixed`) and cast the dataset accordingly"
      ],
      "metadata": {
        "id": "tHKVH9UKbp5c"
      }
    },
    {
      "cell_type": "code",
      "source": [
        "poem_sentiment = poem_sentiment.filter(lambda x: x[\"labels\"] != 3)\n",
        "new_features = poem_sentiment['train'].features.copy()\n",
        "new_features[\"labels\"] = ClassLabel(names=[\"negative\", \"positive\", \"no_impact\"])\n",
        "poem_sentiment = poem_sentiment.cast(new_features)"
      ],
      "metadata": {
        "id": "irD8LQSdu_iW"
      },
      "execution_count": null,
      "outputs": []
    },
    {
      "cell_type": "code",
      "source": [
        "poem_sentiment"
      ],
      "metadata": {
        "colab": {
          "base_uri": "https://localhost:8080/"
        },
        "id": "RPWhaLkYhNf7",
        "outputId": "d7da1370-7799-461f-f19f-48c598935315"
      },
      "execution_count": 7,
      "outputs": [
        {
          "output_type": "execute_result",
          "data": {
            "text/plain": [
              "DatasetDict({\n",
              "    train: Dataset({\n",
              "        features: ['id', 'verse_text', 'labels'],\n",
              "        num_rows: 843\n",
              "    })\n",
              "    validation: Dataset({\n",
              "        features: ['id', 'verse_text', 'labels'],\n",
              "        num_rows: 105\n",
              "    })\n",
              "    test: Dataset({\n",
              "        features: ['id', 'verse_text', 'labels'],\n",
              "        num_rows: 104\n",
              "    })\n",
              "})"
            ]
          },
          "metadata": {},
          "execution_count": 7
        }
      ]
    },
    {
      "cell_type": "code",
      "source": [
        "poem_sentiment['train'].features"
      ],
      "metadata": {
        "colab": {
          "base_uri": "https://localhost:8080/"
        },
        "id": "IxPOnD80I9wQ",
        "outputId": "72265929-4f6a-4448-a369-3a06bef20194"
      },
      "execution_count": 8,
      "outputs": [
        {
          "output_type": "execute_result",
          "data": {
            "text/plain": [
              "{'id': Value(dtype='int32', id=None),\n",
              " 'verse_text': Value(dtype='string', id=None),\n",
              " 'labels': ClassLabel(num_classes=3, names=['negative', 'positive', 'no_impact'], id=None)}"
            ]
          },
          "metadata": {},
          "execution_count": 8
        }
      ]
    },
    {
      "cell_type": "code",
      "source": [
        "id2label = {\n",
        "    0: \"negative\",\n",
        "    1: \"positive\",\n",
        "    2: \"no_impact\",\n",
        "}\n",
        "labels = list(id2label.values())"
      ],
      "metadata": {
        "id": "1F8Wp9_0iVep"
      },
      "execution_count": 12,
      "outputs": []
    },
    {
      "cell_type": "markdown",
      "source": [
        "### Train split distribution"
      ],
      "metadata": {
        "id": "uJ_wDjpnmRMd"
      }
    },
    {
      "cell_type": "code",
      "source": [
        "df = pd.DataFrame.from_dict(poem_sentiment[\"train\"])"
      ],
      "metadata": {
        "id": "qzdYr3momNmg"
      },
      "execution_count": 13,
      "outputs": []
    },
    {
      "cell_type": "code",
      "source": [
        "df['labels'].value_counts().plot.bar(rot=0, sort_columns=True)"
      ],
      "metadata": {
        "colab": {
          "base_uri": "https://localhost:8080/",
          "height": 283
        },
        "id": "96MeI9qDmzl-",
        "outputId": "44864a95-3e67-413e-afad-851ad54e0b59"
      },
      "execution_count": 14,
      "outputs": [
        {
          "output_type": "execute_result",
          "data": {
            "text/plain": [
              "<matplotlib.axes._subplots.AxesSubplot at 0x7f091ec5c1d0>"
            ]
          },
          "metadata": {},
          "execution_count": 14
        },
        {
          "output_type": "display_data",
          "data": {
            "text/plain": [
              "<Figure size 432x288 with 1 Axes>"
            ],
            "image/png": "[encoded data removed]"
          },
          "metadata": {
            "needs_background": "light"
          }
        }
      ]
    },
    {
      "cell_type": "markdown",
      "source": [
        "### Tokenization"
      ],
      "metadata": {
        "id": "4tLBOMCRjZ-v"
      }
    },
    {
      "cell_type": "code",
      "source": [
        "tokenizer_bert = AutoTokenizer.from_pretrained(\"bert-base-uncased\")"
      ],
      "metadata": {
        "id": "8bKy2jG_vgMP"
      },
      "execution_count": 15,
      "outputs": []
    },
    {
      "cell_type": "code",
      "source": [
        "tokenized_poem_sentiment = poem_sentiment.map(lambda example: tokenizer_bert(example[\"verse_text\"], truncation=True), batched=True)\n",
        "tokenized_poem_sentiment['train'] = tokenized_poem_sentiment['train'].remove_columns(['id', 'verse_text'])\n",
        "tokenized_poem_sentiment['validation'] = tokenized_poem_sentiment['validation'].remove_columns(['id', 'verse_text'])"
      ],
      "metadata": {
        "id": "Bt3UNCaMJ0Ws",
        "colab": {
          "base_uri": "https://localhost:8080/",
          "height": 105,
          "referenced_widgets": [
            "ed6d77ab1f664943b6818555717c7165",
            "ab1fe2bdd60048ec82af0d1d0d35e66e",
            "8ba83317a37145a3b948d4ebbb3898aa",
            "0afcaae2165c417cac11d1bb95ba3834",
            "29f8aeba30f24d21b9740c8bb298ff25",
            "ff446f734dd0428782c3997d3cff9afc",
            "8d840f47d32442e8b62e3662ba95e21e",
            "7ba25162b5694cfa88058f902480a199",
            "c5ecaeef2ab44de697181356ac15b72f",
            "a88e2da0f9754969adab99e3d340f44e",
            "ae07c116a5c548b5b0b0657058fe0273"
          ]
        },
        "outputId": "380344d0-6a57-41dd-dc72-a8580a17079d"
      },
      "execution_count": 16,
      "outputs": [
        {
          "output_type": "stream",
          "name": "stderr",
          "text": [
            "WARNING:datasets.arrow_dataset:Loading cached processed dataset at /root/.cache/huggingface/datasets/poem_sentiment/default/1.0.0/4e44428256d42cdde0be6b3db1baa587195e91847adabf976e4f9454f6a82099/cache-78dacb8504073b6b.arrow\n",
            "WARNING:datasets.arrow_dataset:Loading cached processed dataset at /root/.cache/huggingface/datasets/poem_sentiment/default/1.0.0/4e44428256d42cdde0be6b3db1baa587195e91847adabf976e4f9454f6a82099/cache-0e9ee3f7e3c9da8c.arrow\n"
          ]
        },
        {
          "output_type": "display_data",
          "data": {
            "text/plain": [
              "  0%|          | 0/1 [00:00<?, ?ba/s]"
            ],
            "application/vnd.jupyter.widget-view+json": {
              "version_major": 2,
              "version_minor": 0,
              "model_id": "ed6d77ab1f664943b6818555717c7165"
            }
          },
          "metadata": {}
        }
      ]
    },
    {
      "cell_type": "markdown",
      "source": [
        "## Fine- Tuning\n",
        "In this section, we will first train a baseline model using a `roberta-base-uncased` an will use domain adapation and task-specific adapation afterwards. "
      ],
      "metadata": {
        "id": "YG78GkwD4pWn"
      }
    },
    {
      "cell_type": "code",
      "source": [
        "import numpy as np\n",
        "from sklearn.metrics import ConfusionMatrixDisplay, confusion_matrix\n",
        "from datasets import load_metric\n",
        " \n",
        "def compute_metrics(eval_pred):\n",
        "  \"\"\" Computes the metrics given a tuple of (logits, labels) \"\"\"\n",
        "\n",
        "  load_accuracy = load_metric(\"accuracy\")\n",
        "  precision_metric = load_metric('precision')\n",
        "  recall_metric = load_metric('recall')\n",
        "  load_f1 = load_metric(\"f1\")\n",
        "   \n",
        "  logits, labels = eval_pred\n",
        "  predictions = np.argmax(logits, axis=-1)\n",
        "  accuracy = load_accuracy.compute(predictions=predictions, references=labels)[\"accuracy\"]\n",
        "  precision = precision_metric.compute(predictions=predictions, references=labels, average=\"macro\", zero_division=0)[\"precision\"]\n",
        "  recall = recall_metric.compute(predictions=predictions, references=labels, average=\"macro\", zero_division=0)[\"recall\"]\n",
        "  f1 = load_f1.compute(predictions=predictions, references=labels, average=\"macro\")[\"f1\"]\n",
        "   \n",
        "  return {\n",
        "    \"accuracy\": accuracy,\n",
        "    \"f1\": f1,\n",
        "    \"precision\": precision,\n",
        "    \"recall\": recall,\n",
        "  }"
      ],
      "metadata": {
        "id": "LrD2dd9H7quo"
      },
      "execution_count": 17,
      "outputs": []
    },
    {
      "cell_type": "code",
      "source": [
        "def print_confusion_matrix(labels, predictions):\n",
        "  \"\"\" Prints a confusion matrix for given labels and predictions. \"\"\"\n",
        "  cm = confusion_matrix(labels, predictions)\n",
        "  disp = ConfusionMatrixDisplay(confusion_matrix=cm, display_labels=list(id2label.values()))\n",
        "  disp.plot()"
      ],
      "metadata": {
        "id": "kL3miGKSQre7"
      },
      "execution_count": 18,
      "outputs": []
    },
    {
      "cell_type": "code",
      "source": [
        "from transformers import (\n",
        "    AutoModelForSequenceClassification,\n",
        "    DataCollatorWithPadding,\n",
        "    PreTrainedModel, \n",
        "    Trainer,\n",
        "    TrainingArguments, \n",
        "    PreTrainedTokenizerFast\n",
        ")"
      ],
      "metadata": {
        "id": "ejznpUfRJv1W"
      },
      "execution_count": 19,
      "outputs": []
    },
    {
      "cell_type": "code",
      "source": [
        "def setup_trainer_for_finetuning(\n",
        "    model: PreTrainedModel, \n",
        "    tokenizer: PreTrainedTokenizerFast) -> Trainer:\n",
        "  \n",
        "  finetuning_args = TrainingArguments(\n",
        "      output_dir=\"./results\",\n",
        "      learning_rate=1e-5,\n",
        "      per_device_train_batch_size=16,\n",
        "      per_device_eval_batch_size=16,\n",
        "      num_train_epochs=10,\n",
        "      weight_decay=0.01,\n",
        "      warmup_ratio=0.01,\n",
        "      evaluation_strategy=\"epoch\",\n",
        "      save_strategy=\"epoch\",\n",
        "      load_best_model_at_end=True\n",
        "  )\n",
        "  \n",
        "  return Trainer(\n",
        "      model=model,\n",
        "      args=finetuning_args,\n",
        "      train_dataset=tokenized_poem_sentiment[\"train\"],\n",
        "      eval_dataset=tokenized_poem_sentiment[\"validation\"],\n",
        "      tokenizer=tokenizer,\n",
        "      data_collator=DataCollatorWithPadding(tokenizer=tokenizer),\n",
        "      compute_metrics=compute_metrics\n",
        "  )"
      ],
      "metadata": {
        "id": "-hbIZERy50CF"
      },
      "execution_count": 20,
      "outputs": []
    },
    {
      "cell_type": "markdown",
      "source": [
        "### Baseline Model\n",
        "\n",
        "Train a baseline model with `bert-base-uncased` for sentiment analysis."
      ],
      "metadata": {
        "id": "DGm5NArCkMx3"
      }
    },
    {
      "cell_type": "code",
      "source": [
        "bert_model = AutoModelForSequenceClassification.from_pretrained(\"bert-base-uncased\", num_labels=3)"
      ],
      "metadata": {
        "colab": {
          "base_uri": "https://localhost:8080/",
          "height": 158,
          "referenced_widgets": [
            "5f9c5e8d440b485684d8616bd45d85e8",
            "d90450bfaf2d487f9be20edeec7f4da2",
            "928429cde775476094202a20661dd3b5",
            "6ceedd084f0d4baaa74c256fd7725411",
            "c85d0f9303ba452891b4197d51b6517a",
            "140a2537e48c4529b2355f9dc931a50f",
            "e9f893ac063f4e86a67ec808b4607b47",
            "66dc91e8915541f192475e9c6d727e30",
            "b144ff66a5d24bc2adcc077fec28ba28",
            "8f83b4fb67ff4234ae9375f1e2ee3a4b",
            "e8121fef8bf344ec9c4f4c476fbe66c9"
          ]
        },
        "id": "TvzweI4ifrat",
        "outputId": "c206f1e9-3bf3-463b-ea47-d56f0aae4e6e"
      },
      "execution_count": 19,
      "outputs": [
        {
          "output_type": "display_data",
          "data": {
            "text/plain": [
              "Downloading:   0%|          | 0.00/440M [00:00<?, ?B/s]"
            ],
            "application/vnd.jupyter.widget-view+json": {
              "version_major": 2,
              "version_minor": 0,
              "model_id": "5f9c5e8d440b485684d8616bd45d85e8"
            }
          },
          "metadata": {}
        },
        {
          "output_type": "stream",
          "name": "stderr",
          "text": [
            "Some weights of the model checkpoint at bert-base-uncased were not used when initializing BertForSequenceClassification: ['cls.seq_relationship.bias', 'cls.seq_relationship.weight', 'cls.predictions.transform.dense.weight', 'cls.predictions.decoder.weight', 'cls.predictions.transform.dense.bias', 'cls.predictions.transform.LayerNorm.bias', 'cls.predictions.transform.LayerNorm.weight', 'cls.predictions.bias']\n",
            "- This IS expected if you are initializing BertForSequenceClassification from the checkpoint of a model trained on another task or with another architecture (e.g. initializing a BertForSequenceClassification model from a BertForPreTraining model).\n",
            "- This IS NOT expected if you are initializing BertForSequenceClassification from the checkpoint of a model that you expect to be exactly identical (initializing a BertForSequenceClassification model from a BertForSequenceClassification model).\n",
            "Some weights of BertForSequenceClassification were not initialized from the model checkpoint at bert-base-uncased and are newly initialized: ['classifier.bias', 'classifier.weight']\n",
            "You should probably TRAIN this model on a down-stream task to be able to use it for predictions and inference.\n"
          ]
        }
      ]
    },
    {
      "cell_type": "markdown",
      "source": [
        "#### Training"
      ],
      "metadata": {
        "id": "4qzW8J1g3yAO"
      }
    },
    {
      "cell_type": "code",
      "source": [
        "trainer = setup_trainer_for_finetuning(model=bert_model, tokenizer=tokenizer_bert)"
      ],
      "metadata": {
        "id": "4i7utgfcKdqp",
        "colab": {
          "base_uri": "https://localhost:8080/"
        },
        "outputId": "b4392847-d84a-4070-a9f5-54f19f79676b"
      },
      "execution_count": 179,
      "outputs": [
        {
          "output_type": "stream",
          "name": "stderr",
          "text": [
            "PyTorch: setting up devices\n",
            "The default value for the training argument `--report_to` will change in v5 (from all installed integrations to none). In v5, you will need to use `--report_to all` to get the same behavior as now. You should start updating your code and make this info disappear :-).\n"
          ]
        }
      ]
    },
    {
      "cell_type": "code",
      "source": [
        "trainer.train()"
      ],
      "metadata": {
        "id": "kjS4kPdH8QpR",
        "colab": {
          "base_uri": "https://localhost:8080/",
          "height": 1000
        },
        "outputId": "02927310-3bd1-4dbc-ba55-e1f99cbadfb7"
      },
      "execution_count": 180,
      "outputs": [
        {
          "output_type": "stream",
          "name": "stderr",
          "text": [
            "/usr/local/lib/python3.7/dist-packages/transformers/optimization.py:310: FutureWarning: This implementation of AdamW is deprecated and will be removed in a future version. Use the PyTorch implementation torch.optim.AdamW instead, or set `no_deprecation_warning=True` to disable this warning\n",
            "  FutureWarning,\n",
            "***** Running training *****\n",
            "  Num examples = 843\n",
            "  Num Epochs = 10\n",
            "  Instantaneous batch size per device = 16\n",
            "  Total train batch size (w. parallel, distributed & accumulation) = 16\n",
            "  Gradient Accumulation steps = 1\n",
            "  Total optimization steps = 530\n"
          ]
        },
        {
          "output_type": "display_data",
          "data": {
            "text/plain": [
              "<IPython.core.display.HTML object>"
            ],
            "text/html": [
              "\n",
              "    <div>\n",
              "      \n",
              "      <progress value='530' max='530' style='width:300px; height:20px; vertical-align: middle;'></progress>\n",
              "      [530/530 02:25, Epoch 10/10]\n",
              "    </div>\n",
              "    <table border=\"1\" class=\"dataframe\">\n",
              "  <thead>\n",
              " <tr style=\"text-align: left;\">\n",
              "      <th>Epoch</th>\n",
              "      <th>Training Loss</th>\n",
              "      <th>Validation Loss</th>\n",
              "      <th>Accuracy</th>\n",
              "      <th>F1</th>\n",
              "      <th>Precision</th>\n",
              "      <th>Recall</th>\n",
              "    </tr>\n",
              "  </thead>\n",
              "  <tbody>\n",
              "    <tr>\n",
              "      <td>1</td>\n",
              "      <td>No log</td>\n",
              "      <td>0.843155</td>\n",
              "      <td>0.657143</td>\n",
              "      <td>0.264368</td>\n",
              "      <td>0.219048</td>\n",
              "      <td>0.333333</td>\n",
              "    </tr>\n",
              "    <tr>\n",
              "      <td>2</td>\n",
              "      <td>No log</td>\n",
              "      <td>0.690822</td>\n",
              "      <td>0.714286</td>\n",
              "      <td>0.433810</td>\n",
              "      <td>0.565657</td>\n",
              "      <td>0.438596</td>\n",
              "    </tr>\n",
              "    <tr>\n",
              "      <td>3</td>\n",
              "      <td>No log</td>\n",
              "      <td>0.531801</td>\n",
              "      <td>0.790476</td>\n",
              "      <td>0.615740</td>\n",
              "      <td>0.919414</td>\n",
              "      <td>0.583075</td>\n",
              "    </tr>\n",
              "    <tr>\n",
              "      <td>4</td>\n",
              "      <td>No log</td>\n",
              "      <td>0.401996</td>\n",
              "      <td>0.857143</td>\n",
              "      <td>0.765812</td>\n",
              "      <td>0.883266</td>\n",
              "      <td>0.716202</td>\n",
              "    </tr>\n",
              "    <tr>\n",
              "      <td>5</td>\n",
              "      <td>No log</td>\n",
              "      <td>0.425261</td>\n",
              "      <td>0.857143</td>\n",
              "      <td>0.772127</td>\n",
              "      <td>0.902108</td>\n",
              "      <td>0.716202</td>\n",
              "    </tr>\n",
              "    <tr>\n",
              "      <td>6</td>\n",
              "      <td>No log</td>\n",
              "      <td>0.348776</td>\n",
              "      <td>0.904762</td>\n",
              "      <td>0.857244</td>\n",
              "      <td>0.886233</td>\n",
              "      <td>0.837603</td>\n",
              "    </tr>\n",
              "    <tr>\n",
              "      <td>7</td>\n",
              "      <td>No log</td>\n",
              "      <td>0.388984</td>\n",
              "      <td>0.904762</td>\n",
              "      <td>0.850001</td>\n",
              "      <td>0.943020</td>\n",
              "      <td>0.808050</td>\n",
              "    </tr>\n",
              "    <tr>\n",
              "      <td>8</td>\n",
              "      <td>No log</td>\n",
              "      <td>0.423243</td>\n",
              "      <td>0.876190</td>\n",
              "      <td>0.798996</td>\n",
              "      <td>0.918499</td>\n",
              "      <td>0.764003</td>\n",
              "    </tr>\n",
              "    <tr>\n",
              "      <td>9</td>\n",
              "      <td>No log</td>\n",
              "      <td>0.374318</td>\n",
              "      <td>0.923810</td>\n",
              "      <td>0.886613</td>\n",
              "      <td>0.939640</td>\n",
              "      <td>0.859978</td>\n",
              "    </tr>\n",
              "    <tr>\n",
              "      <td>10</td>\n",
              "      <td>0.325700</td>\n",
              "      <td>0.380878</td>\n",
              "      <td>0.923810</td>\n",
              "      <td>0.886613</td>\n",
              "      <td>0.939640</td>\n",
              "      <td>0.859978</td>\n",
              "    </tr>\n",
              "  </tbody>\n",
              "</table><p>"
            ]
          },
          "metadata": {}
        },
        {
          "output_type": "stream",
          "name": "stderr",
          "text": [
            "***** Running Evaluation *****\n",
            "  Num examples = 105\n",
            "  Batch size = 16\n",
            "Saving model checkpoint to ./results/checkpoint-53\n",
            "Configuration saved in ./results/checkpoint-53/config.json\n",
            "Model weights saved in ./results/checkpoint-53/pytorch_model.bin\n",
            "tokenizer config file saved in ./results/checkpoint-53/tokenizer_config.json\n",
            "Special tokens file saved in ./results/checkpoint-53/special_tokens_map.json\n",
            "***** Running Evaluation *****\n",
            "  Num examples = 105\n",
            "  Batch size = 16\n",
            "Saving model checkpoint to ./results/checkpoint-106\n",
            "Configuration saved in ./results/checkpoint-106/config.json\n",
            "Model weights saved in ./results/checkpoint-106/pytorch_model.bin\n",
            "tokenizer config file saved in ./results/checkpoint-106/tokenizer_config.json\n",
            "Special tokens file saved in ./results/checkpoint-106/special_tokens_map.json\n",
            "***** Running Evaluation *****\n",
            "  Num examples = 105\n",
            "  Batch size = 16\n",
            "Saving model checkpoint to ./results/checkpoint-159\n",
            "Configuration saved in ./results/checkpoint-159/config.json\n",
            "Model weights saved in ./results/checkpoint-159/pytorch_model.bin\n",
            "tokenizer config file saved in ./results/checkpoint-159/tokenizer_config.json\n",
            "Special tokens file saved in ./results/checkpoint-159/special_tokens_map.json\n",
            "***** Running Evaluation *****\n",
            "  Num examples = 105\n",
            "  Batch size = 16\n",
            "Saving model checkpoint to ./results/checkpoint-212\n",
            "Configuration saved in ./results/checkpoint-212/config.json\n",
            "Model weights saved in ./results/checkpoint-212/pytorch_model.bin\n",
            "tokenizer config file saved in ./results/checkpoint-212/tokenizer_config.json\n",
            "Special tokens file saved in ./results/checkpoint-212/special_tokens_map.json\n",
            "***** Running Evaluation *****\n",
            "  Num examples = 105\n",
            "  Batch size = 16\n",
            "Saving model checkpoint to ./results/checkpoint-265\n",
            "Configuration saved in ./results/checkpoint-265/config.json\n",
            "Model weights saved in ./results/checkpoint-265/pytorch_model.bin\n",
            "tokenizer config file saved in ./results/checkpoint-265/tokenizer_config.json\n",
            "Special tokens file saved in ./results/checkpoint-265/special_tokens_map.json\n",
            "***** Running Evaluation *****\n",
            "  Num examples = 105\n",
            "  Batch size = 16\n",
            "Saving model checkpoint to ./results/checkpoint-318\n",
            "Configuration saved in ./results/checkpoint-318/config.json\n",
            "Model weights saved in ./results/checkpoint-318/pytorch_model.bin\n",
            "tokenizer config file saved in ./results/checkpoint-318/tokenizer_config.json\n",
            "Special tokens file saved in ./results/checkpoint-318/special_tokens_map.json\n",
            "***** Running Evaluation *****\n",
            "  Num examples = 105\n",
            "  Batch size = 16\n",
            "Saving model checkpoint to ./results/checkpoint-371\n",
            "Configuration saved in ./results/checkpoint-371/config.json\n",
            "Model weights saved in ./results/checkpoint-371/pytorch_model.bin\n",
            "tokenizer config file saved in ./results/checkpoint-371/tokenizer_config.json\n",
            "Special tokens file saved in ./results/checkpoint-371/special_tokens_map.json\n",
            "***** Running Evaluation *****\n",
            "  Num examples = 105\n",
            "  Batch size = 16\n",
            "Saving model checkpoint to ./results/checkpoint-424\n",
            "Configuration saved in ./results/checkpoint-424/config.json\n",
            "Model weights saved in ./results/checkpoint-424/pytorch_model.bin\n",
            "tokenizer config file saved in ./results/checkpoint-424/tokenizer_config.json\n",
            "Special tokens file saved in ./results/checkpoint-424/special_tokens_map.json\n",
            "***** Running Evaluation *****\n",
            "  Num examples = 105\n",
            "  Batch size = 16\n",
            "Saving model checkpoint to ./results/checkpoint-477\n",
            "Configuration saved in ./results/checkpoint-477/config.json\n",
            "Model weights saved in ./results/checkpoint-477/pytorch_model.bin\n",
            "tokenizer config file saved in ./results/checkpoint-477/tokenizer_config.json\n",
            "Special tokens file saved in ./results/checkpoint-477/special_tokens_map.json\n",
            "***** Running Evaluation *****\n",
            "  Num examples = 105\n",
            "  Batch size = 16\n",
            "Saving model checkpoint to ./results/checkpoint-530\n",
            "Configuration saved in ./results/checkpoint-530/config.json\n",
            "Model weights saved in ./results/checkpoint-530/pytorch_model.bin\n",
            "tokenizer config file saved in ./results/checkpoint-530/tokenizer_config.json\n",
            "Special tokens file saved in ./results/checkpoint-530/special_tokens_map.json\n",
            "\n",
            "\n",
            "Training completed. Do not forget to share your model on huggingface.co/models =)\n",
            "\n",
            "\n",
            "Loading best model from ./results/checkpoint-318 (score: 0.3487755060195923).\n"
          ]
        },
        {
          "output_type": "execute_result",
          "data": {
            "text/plain": [
              "TrainOutput(global_step=530, training_loss=0.3091063897564726, metrics={'train_runtime': 145.108, 'train_samples_per_second': 58.095, 'train_steps_per_second': 3.652, 'total_flos': 80740360598310.0, 'train_loss': 0.3091063897564726, 'epoch': 10.0})"
            ]
          },
          "metadata": {},
          "execution_count": 180
        }
      ]
    },
    {
      "cell_type": "markdown",
      "source": [
        "#### Evaluation"
      ],
      "metadata": {
        "id": "O_odA6zd3r9H"
      }
    },
    {
      "cell_type": "code",
      "source": [
        "raw_pred, _, _ = trainer.predict(tokenized_poem_sentiment['test'])\n",
        "print(f\"Total predictions: {len(raw_pred)}\")\n",
        "\n",
        "for text, prediction in zip(tokenized_poem_sentiment['test'], np.argmax(raw_pred, axis=1)):\n",
        "    expected = text['labels']\n",
        "    if expected != prediction: \n",
        "      print(f\"Text: {text['verse_text']} --- Expected: {id2label[expected]} --- Predicted: {id2label[prediction]}\")"
      ],
      "metadata": {
        "colab": {
          "base_uri": "https://localhost:8080/",
          "height": 428
        },
        "id": "GV3w6lp3jYQo",
        "outputId": "aba411b0-683b-45f7-ccf2-5dba85974fca"
      },
      "execution_count": 181,
      "outputs": [
        {
          "output_type": "stream",
          "name": "stderr",
          "text": [
            "The following columns in the test set don't have a corresponding argument in `BertForSequenceClassification.forward` and have been ignored: id, verse_text. If id, verse_text are not expected by `BertForSequenceClassification.forward`,  you can safely ignore this message.\n",
            "***** Running Prediction *****\n",
            "  Num examples = 104\n",
            "  Batch size = 16\n"
          ]
        },
        {
          "output_type": "display_data",
          "data": {
            "text/plain": [
              "<IPython.core.display.HTML object>"
            ],
            "text/html": []
          },
          "metadata": {}
        },
        {
          "output_type": "stream",
          "name": "stdout",
          "text": [
            "Total predictions: 104\n",
            "Text: and be glad in the summer morning when the kindred ride on their way; --- Expected: positive --- Predicted: no_impact\n",
            "Text: if they are hungry, paradise --- Expected: no_impact --- Predicted: positive\n",
            "Text: how hearts were answering to his own, --- Expected: positive --- Predicted: no_impact\n",
            "Text: i cannot tell rude listeners --- Expected: negative --- Predicted: no_impact\n",
            "Text: crouching and sleeping neath its grassy lair, --- Expected: no_impact --- Predicted: negative\n",
            "Text: sings the blackened log a tune --- Expected: no_impact --- Predicted: negative\n",
            "Text: midway the floor (with thatch was it strewn) burned ever the fire-flame --- Expected: no_impact --- Predicted: negative\n",
            "Text: \"i rather should have hewn your limbs away, --- Expected: negative --- Predicted: no_impact\n",
            "Text: a fleecy cloud, --- Expected: no_impact --- Predicted: negative\n",
            "Text: shall dwell in the house of my fathers and the land of the people's praise; --- Expected: positive --- Predicted: no_impact\n",
            "Text: dauntless he rose, and to the fight return’d; --- Expected: positive --- Predicted: no_impact\n",
            "Text: of your strong and pliant branches, --- Expected: positive --- Predicted: no_impact\n",
            "Text: (thy kingdom come) with his revealéd face --- Expected: no_impact --- Predicted: positive\n",
            "Text: i see the thing as clear as light,-- --- Expected: positive --- Predicted: no_impact\n",
            "Text: and, wildly tossed from cheeks and chin, --- Expected: no_impact --- Predicted: negative\n",
            "Text: shall live my highland mary. --- Expected: no_impact --- Predicted: positive\n",
            "Text: daring to ask for naught, and having naught received. --- Expected: no_impact --- Predicted: negative\n"
          ]
        }
      ]
    },
    {
      "cell_type": "code",
      "source": [
        "predictions = np.argmax(raw_pred, axis=-1)\n",
        "labels = list(tokenized_poem_sentiment['test']['labels'])\n",
        "print_confusion_matrix(labels, predictions)"
      ],
      "metadata": {
        "colab": {
          "base_uri": "https://localhost:8080/",
          "height": 284
        },
        "id": "TXI2OfZqQlx1",
        "outputId": "2fe837cf-b07c-430e-bd83-1e2abc4f941a"
      },
      "execution_count": 182,
      "outputs": [
        {
          "output_type": "display_data",
          "data": {
            "text/plain": [
              "<Figure size 432x288 with 2 Axes>"
            ],
            "image/png": "[encoded data removed]"
          },
          "metadata": {
            "needs_background": "light"
          }
        }
      ]
    },
    {
      "cell_type": "markdown",
      "source": [
        "### Domain Adaptation\n",
        "\n",
        "Instead of using a `bert-base-uncased` directly, let's adapt the domain to poem verses by training the MLM on a poem dataset. Afterwards, we fine-tune on `poem_sentiment` again."
      ],
      "metadata": {
        "id": "wWXE3E-TwVS0"
      }
    },
    {
      "cell_type": "markdown",
      "source": [
        "#### Load and prepare dataset"
      ],
      "metadata": {
        "id": "Btn8HJuN4M8B"
      }
    },
    {
      "cell_type": "code",
      "source": [
        "! gdown 1gLzA5qXV40jrmJOSZvWYrCpeLymI-Ui0"
      ],
      "metadata": {
        "colab": {
          "base_uri": "https://localhost:8080/"
        },
        "id": "228Y4GFbwolr",
        "outputId": "49b655e1-e827-4ece-82dd-1500a00482c9"
      },
      "execution_count": 20,
      "outputs": [
        {
          "output_type": "stream",
          "name": "stdout",
          "text": [
            "Downloading...\n",
            "From: https://drive.google.com/uc?id=1gLzA5qXV40jrmJOSZvWYrCpeLymI-Ui0\n",
            "To: /content/merged_data.csv\n",
            "\r  0% 0.00/11.3M [00:00<?, ?B/s]\r 42% 4.72M/11.3M [00:00<00:00, 20.6MB/s]\r100% 11.3M/11.3M [00:00<00:00, 44.8MB/s]\n"
          ]
        }
      ]
    },
    {
      "cell_type": "code",
      "source": [
        "! wc -l /content/merged_data.csv"
      ],
      "metadata": {
        "colab": {
          "base_uri": "https://localhost:8080/"
        },
        "id": "qwAka8QGxJCK",
        "outputId": "05820979-a5f3-4fac-db65-7f338362d77a"
      },
      "execution_count": 204,
      "outputs": [
        {
          "output_type": "stream",
          "name": "stdout",
          "text": [
            "199003 /content/merged_data.csv\n"
          ]
        }
      ]
    },
    {
      "cell_type": "code",
      "source": [
        "! head -n 10 /content/merged_data.csv"
      ],
      "metadata": {
        "colab": {
          "base_uri": "https://localhost:8080/"
        },
        "id": "lVowQZ5txOAW",
        "outputId": "c53f03fa-ff44-4c7e-959f-16394a677189"
      },
      "execution_count": 21,
      "outputs": [
        {
          "output_type": "stream",
          "name": "stdout",
          "text": [
            ",Verse,Meter,char_count\r\n",
            "0,ah why this boding start this sudden pain,iambic,6\r\n",
            "1,that wings my pulse and shoots from vein to vein,iambic,6\r\n",
            "2,what mean regardless of yon midnight bell,iambic,6\r\n",
            "3,these earthborn visions saddening o'er my cell,iambic,6\r\n",
            "4,what strange disorder prompts these thoughts to glow,iambic,6\r\n",
            "5,these sighs to murmur and these tears to flow,iambic,6\r\n",
            "6,'tis she 'tis eloisa's form restor'd,iambic,6\r\n",
            "7,once a pure saint and more than saints ador'd,iambic,6\r\n",
            "8,she comes in all her killing charms confest,iambic,6\r\n"
          ]
        }
      ]
    },
    {
      "cell_type": "code",
      "source": [
        "poem_text_dataset = load_dataset(\"csv\", data_files={\"train\": \"/content/merged_data.csv\"})\n",
        "poem_text_dataset = poem_text_dataset['train'].train_test_split(test_size=0.1)"
      ],
      "metadata": {
        "colab": {
          "base_uri": "https://localhost:8080/",
          "height": 186,
          "referenced_widgets": [
            "1ea40bf1f8434874b0935a320f1d9ed9",
            "9cb30c212ea941358f3a4e8553de122a",
            "81b1699f92014845b954daa9f2832353",
            "07a5d0f3d30546e6b368ec2d8352a922",
            "d819de20940448d99091832bb540c329",
            "92f0f04bee884a7cb29ac8c8d5641e6b",
            "d47be724a39842648c095d3036a4c22d",
            "67f8e4bc2b6d4164a80c2da75125f6c0",
            "17074b4ff17b44aba5301d80aa0bd166",
            "739f1198d96845db9b23bec9ed97c814",
            "4c2c4df2b4e4424a9069be6f78126296",
            "4c3e414fa80b4a129fa8693dce4a2c66",
            "526148478c9142af8f11a2d5a8958bab",
            "c3584e78935e40378e41f70bae2946c2",
            "e59f2acabd764582adcbe55a792bfe6c",
            "084b4d1cec244162b0224f178d0222ae",
            "2dece15335334fa88920d70cb899c5fa",
            "09b12025a82b4a6ba88030887ee5cf6d",
            "08fa42d1651a4fb7b75bab15f40f13e4",
            "95562ba4b8fa4e258c18007411ffc2b5",
            "a258102e845648d1940ef688b9fc4db2",
            "cba8649c63844eb388cefe226e97b3cb",
            "8998125d21424024bf38029fb159ca4b",
            "c9bbd64b364548c996245a123848a212",
            "76ac764460cd4b5fa6231315013519af",
            "360b13e2f292431888ca7ab9415c6087",
            "05dd80c6bc394e4bb857a442e1b87552",
            "03906c2901f94c21aec1894856d9a317",
            "1f1c13aa4a52481c856cbf5e100cd189",
            "3ce3b730265640c1b0fc7646f23b2514",
            "6e17e77a359b4f9ab3ad8567920690c9",
            "0ec066c1b7474bae84d4da5b3e342fa7",
            "e354883b078f48fcab7649216f907cca",
            "5422b017485e474799974e0db2845812",
            "217cc88aca474b11a57424df2a347527",
            "ceffc41e883c4809b947e76bacd08287",
            "20d4c21d12ce42ab8998865cfc4d7315",
            "7d7f2ef64ac2445e8ea62904707ac531",
            "f4777be7931f4ebbae592bfaf8248d7d",
            "d95136abc2914af78e1be60cdcb4b00d",
            "d4a26a37571a49e3b319a5d2ab8e08db",
            "5e6216e7e49040478666126fa0976502",
            "123631821f1f43b68a33acc509f96099",
            "61d669230fe5498aa1c3ef2c498ba3ba"
          ]
        },
        "id": "Oa5-SsJcxXBk",
        "outputId": "a408455b-3f63-40ff-a982-e878f2d755fb"
      },
      "execution_count": 22,
      "outputs": [
        {
          "output_type": "stream",
          "name": "stderr",
          "text": [
            "WARNING:datasets.builder:Using custom data configuration default-37beb62e16cb49ac\n"
          ]
        },
        {
          "output_type": "stream",
          "name": "stdout",
          "text": [
            "Downloading and preparing dataset csv/default to /root/.cache/huggingface/datasets/csv/default-37beb62e16cb49ac/0.0.0/652c3096f041ee27b04d2232d41f10547a8fecda3e284a79a0ec4053c916ef7a...\n"
          ]
        },
        {
          "output_type": "display_data",
          "data": {
            "text/plain": [
              "Downloading data files:   0%|          | 0/1 [00:00<?, ?it/s]"
            ],
            "application/vnd.jupyter.widget-view+json": {
              "version_major": 2,
              "version_minor": 0,
              "model_id": "1ea40bf1f8434874b0935a320f1d9ed9"
            }
          },
          "metadata": {}
        },
        {
          "output_type": "display_data",
          "data": {
            "text/plain": [
              "Extracting data files:   0%|          | 0/1 [00:00<?, ?it/s]"
            ],
            "application/vnd.jupyter.widget-view+json": {
              "version_major": 2,
              "version_minor": 0,
              "model_id": "92f0f04bee884a7cb29ac8c8d5641e6b"
            }
          },
          "metadata": {}
        },
        {
          "output_type": "display_data",
          "data": {
            "text/plain": [
              "0 tables [00:00, ? tables/s]"
            ],
            "application/vnd.jupyter.widget-view+json": {
              "version_major": 2,
              "version_minor": 0,
              "model_id": "17074b4ff17b44aba5301d80aa0bd166"
            }
          },
          "metadata": {}
        },
        {
          "output_type": "stream",
          "name": "stdout",
          "text": [
            "Dataset csv downloaded and prepared to /root/.cache/huggingface/datasets/csv/default-37beb62e16cb49ac/0.0.0/652c3096f041ee27b04d2232d41f10547a8fecda3e284a79a0ec4053c916ef7a. Subsequent calls will reuse this data.\n"
          ]
        },
        {
          "output_type": "display_data",
          "data": {
            "text/plain": [
              "  0%|          | 0/1 [00:00<?, ?it/s]"
            ],
            "application/vnd.jupyter.widget-view+json": {
              "version_major": 2,
              "version_minor": 0,
              "model_id": "5422b017485e474799974e0db2845812"
            }
          },
          "metadata": {}
        }
      ]
    },
    {
      "cell_type": "markdown",
      "source": [
        "#### Tokenization"
      ],
      "metadata": {
        "id": "-qtmXbib4XfY"
      }
    },
    {
      "cell_type": "code",
      "source": [
        "tokenizer = AutoTokenizer.from_pretrained(\"bert-base-uncased\")\n",
        "tokenized_poem_text_dataset = poem_text_dataset.map(lambda examples: tokenizer(examples[\"Verse\"], truncation=True), batched=True)"
      ],
      "metadata": {
        "colab": {
          "base_uri": "https://localhost:8080/",
          "height": 81,
          "referenced_widgets": [
            "00684e4abb0740648a9fcbbd4076fa99",
            "d7a3af2c540449348aac0ef491b5c422",
            "52ab6771db3148cb866e29b78093d1ff",
            "3f853051a8b04642b9fbfc51f25c585f",
            "407840bb18a641ac9aebb90db102c0e5",
            "82b8fa3b845a4dcd9a0b96d47e9cb051",
            "2a2100a21ffd4cb9b357c451cdd0943d",
            "682f252e09d547ccaf47cb40bf018dc3",
            "2394f76aa63946049d05538edd97ec92",
            "953ddfb6b2644cab9a262d7379c259e3",
            "6f02812790fa430ab2bc3a37a851256c",
            "1f025377c3cf4bd1afb1ce66f8ff6e4c",
            "a0a7958478794edcaf94fb3cf149cb5b",
            "15059079a18e4eea80b3d6d2cf1dea3b",
            "0f466a9157f3448f94d1b56d7b3a5dcd",
            "b769f0e1267a496f929200e6075bc534",
            "b1aad3ef44d04d9f90f0a31fc007de85",
            "9931f01caf534ba5833e221a7d2b7608",
            "fd10df2acc20408c958c0503e7dff354",
            "712f8ad70d7e413b90c1714d95548eaf",
            "fe8552766c8044af8903b4b1fccb1f2e",
            "fc85be4ec68d4af7ad725bef79512bb2"
          ]
        },
        "id": "UFkQHT0ux5_N",
        "outputId": "4401015f-35f2-4624-e9c4-af1a5fda162f"
      },
      "execution_count": 25,
      "outputs": [
        {
          "output_type": "display_data",
          "data": {
            "text/plain": [
              "  0%|          | 0/180 [00:00<?, ?ba/s]"
            ],
            "application/vnd.jupyter.widget-view+json": {
              "version_major": 2,
              "version_minor": 0,
              "model_id": "00684e4abb0740648a9fcbbd4076fa99"
            }
          },
          "metadata": {}
        },
        {
          "output_type": "display_data",
          "data": {
            "text/plain": [
              "  0%|          | 0/20 [00:00<?, ?ba/s]"
            ],
            "application/vnd.jupyter.widget-view+json": {
              "version_major": 2,
              "version_minor": 0,
              "model_id": "1f025377c3cf4bd1afb1ce66f8ff6e4c"
            }
          },
          "metadata": {}
        }
      ]
    },
    {
      "cell_type": "code",
      "source": [
        "tokenized_poem_text_dataset = tokenized_poem_text_dataset.remove_columns(['Unnamed: 0', 'Verse', 'Meter', 'char_count'])\n",
        "tokenized_poem_text_dataset"
      ],
      "metadata": {
        "colab": {
          "base_uri": "https://localhost:8080/"
        },
        "id": "Fl5i1CQ9haXP",
        "outputId": "044a4d1d-46a5-4670-bb3e-838380d3f440"
      },
      "execution_count": 26,
      "outputs": [
        {
          "output_type": "execute_result",
          "data": {
            "text/plain": [
              "DatasetDict({\n",
              "    train: Dataset({\n",
              "        features: ['input_ids', 'token_type_ids', 'attention_mask'],\n",
              "        num_rows: 179101\n",
              "    })\n",
              "    test: Dataset({\n",
              "        features: ['input_ids', 'token_type_ids', 'attention_mask'],\n",
              "        num_rows: 19901\n",
              "    })\n",
              "})"
            ]
          },
          "metadata": {},
          "execution_count": 26
        }
      ]
    },
    {
      "cell_type": "markdown",
      "source": [
        "#### MLM Training"
      ],
      "metadata": {
        "id": "8YaIVcLu4gIf"
      }
    },
    {
      "cell_type": "code",
      "source": [
        "from transformers import AutoModelForMaskedLM, DataCollatorForLanguageModeling, Trainer, TrainingArguments"
      ],
      "metadata": {
        "id": "dIr4RiaEwWk6"
      },
      "execution_count": 27,
      "outputs": []
    },
    {
      "cell_type": "code",
      "source": [
        "masked_lm_model = AutoModelForMaskedLM.from_pretrained(\"bert-base-uncased\")"
      ],
      "metadata": {
        "colab": {
          "base_uri": "https://localhost:8080/"
        },
        "id": "-uoZNHAawYop",
        "outputId": "7e3d8a86-84ea-40d1-83ac-420de39953c9"
      },
      "execution_count": 28,
      "outputs": [
        {
          "output_type": "stream",
          "name": "stderr",
          "text": [
            "Some weights of the model checkpoint at bert-base-uncased were not used when initializing BertForMaskedLM: ['cls.seq_relationship.weight', 'cls.seq_relationship.bias']\n",
            "- This IS expected if you are initializing BertForMaskedLM from the checkpoint of a model trained on another task or with another architecture (e.g. initializing a BertForSequenceClassification model from a BertForPreTraining model).\n",
            "- This IS NOT expected if you are initializing BertForMaskedLM from the checkpoint of a model that you expect to be exactly identical (initializing a BertForSequenceClassification model from a BertForSequenceClassification model).\n"
          ]
        }
      ]
    },
    {
      "cell_type": "code",
      "source": [
        "masked_mlm_args = TrainingArguments(\n",
        "    output_dir=base_path / \"masked-lm\",\n",
        "    evaluation_strategy=\"epoch\",\n",
        "    save_strategy=\"epoch\",\n",
        "    learning_rate=1e-5,\n",
        "    num_train_epochs=10,\n",
        "    weight_decay=0.01,\n",
        "    save_steps=10000,\n",
        "    load_best_model_at_end=True,\n",
        "    per_device_train_batch_size=256,\n",
        ")"
      ],
      "metadata": {
        "id": "0Qo0T2iHyanH"
      },
      "execution_count": 29,
      "outputs": []
    },
    {
      "cell_type": "code",
      "source": [
        "trainer = Trainer(\n",
        "    model=masked_lm_model,\n",
        "    args=masked_mlm_args,\n",
        "    train_dataset=tokenized_poem_text_dataset[\"train\"],\n",
        "    eval_dataset=tokenized_poem_text_dataset[\"test\"],\n",
        "    tokenizer=tokenizer,\n",
        "    data_collator=DataCollatorForLanguageModeling(tokenizer=tokenizer, mlm_probability=0.15)\n",
        ")"
      ],
      "metadata": {
        "id": "bGp9VF5LyNPn"
      },
      "execution_count": 30,
      "outputs": []
    },
    {
      "cell_type": "code",
      "source": [
        "trainer.train()"
      ],
      "metadata": {
        "colab": {
          "base_uri": "https://localhost:8080/",
          "height": 1000
        },
        "id": "YC6bHPhczApk",
        "outputId": "d0f0b549-e2c1-4f9d-d562-0b26cd71c0de"
      },
      "execution_count": 31,
      "outputs": [
        {
          "metadata": {
            "tags": null
          },
          "name": "stderr",
          "output_type": "stream",
          "text": [
            "/usr/local/lib/python3.7/dist-packages/transformers/optimization.py:310: FutureWarning: This implementation of AdamW is deprecated and will be removed in a future version. Use the PyTorch implementation torch.optim.AdamW instead, or set `no_deprecation_warning=True` to disable this warning\n",
            "  FutureWarning,\n",
            "***** Running training *****\n",
            "  Num examples = 179101\n",
            "  Num Epochs = 10\n",
            "  Instantaneous batch size per device = 256\n",
            "  Total train batch size (w. parallel, distributed & accumulation) = 256\n",
            "  Gradient Accumulation steps = 1\n",
            "  Total optimization steps = 7000\n",
            "You're using a BertTokenizerFast tokenizer. Please note that with a fast tokenizer, using the `__call__` method is faster than using a method to encode the text followed by a call to the `pad` method to get a padded encoding.\n"
          ]
        },
        {
          "data": {
            "text/html": [
              "\n",
              "    <div>\n",
              "      \n",
              "      <progress value='5265' max='7000' style='width:300px; height:20px; vertical-align: middle;'></progress>\n",
              "      [5265/7000 54:42 < 18:02, 1.60 it/s, Epoch 7.52/10]\n",
              "    </div>\n",
              "    <table border=\"1\" class=\"dataframe\">\n",
              "  <thead>\n",
              " <tr style=\"text-align: left;\">\n",
              "      <th>Epoch</th>\n",
              "      <th>Training Loss</th>\n",
              "      <th>Validation Loss</th>\n",
              "    </tr>\n",
              "  </thead>\n",
              "  <tbody>\n",
              "    <tr>\n",
              "      <td>1</td>\n",
              "      <td>4.201700</td>\n",
              "      <td>3.760043</td>\n",
              "    </tr>\n",
              "    <tr>\n",
              "      <td>2</td>\n",
              "      <td>3.885500</td>\n",
              "      <td>3.644586</td>\n",
              "    </tr>\n",
              "    <tr>\n",
              "      <td>3</td>\n",
              "      <td>3.688800</td>\n",
              "      <td>3.518976</td>\n",
              "    </tr>\n",
              "    <tr>\n",
              "      <td>4</td>\n",
              "      <td>3.618600</td>\n",
              "      <td>3.495467</td>\n",
              "    </tr>\n",
              "    <tr>\n",
              "      <td>5</td>\n",
              "      <td>3.544200</td>\n",
              "      <td>3.449860</td>\n",
              "    </tr>\n",
              "    <tr>\n",
              "      <td>6</td>\n",
              "      <td>3.542600</td>\n",
              "      <td>3.400273</td>\n",
              "    </tr>\n",
              "    <tr>\n",
              "      <td>7</td>\n",
              "      <td>3.502500</td>\n",
              "      <td>3.359077</td>\n",
              "    </tr>\n",
              "  </tbody>\n",
              "</table><p>"
            ],
            "text/plain": [
              "<IPython.core.display.HTML object>"
            ]
          },
          "metadata": {},
          "output_type": "display_data"
        },
        {
          "metadata": {
            "tags": null
          },
          "name": "stderr",
          "output_type": "stream",
          "text": [
            "***** Running Evaluation *****\n",
            "  Num examples = 19901\n",
            "  Batch size = 8\n",
            "Saving model checkpoint to /content/gdrive/My Drive/sentiment-analysis/masked-lm/checkpoint-700\n",
            "Configuration saved in /content/gdrive/My Drive/sentiment-analysis/masked-lm/checkpoint-700/config.json\n",
            "Model weights saved in /content/gdrive/My Drive/sentiment-analysis/masked-lm/checkpoint-700/pytorch_model.bin\n",
            "tokenizer config file saved in /content/gdrive/My Drive/sentiment-analysis/masked-lm/checkpoint-700/tokenizer_config.json\n",
            "Special tokens file saved in /content/gdrive/My Drive/sentiment-analysis/masked-lm/checkpoint-700/special_tokens_map.json\n",
            "***** Running Evaluation *****\n",
            "  Num examples = 19901\n",
            "  Batch size = 8\n",
            "Saving model checkpoint to /content/gdrive/My Drive/sentiment-analysis/masked-lm/checkpoint-1400\n",
            "Configuration saved in /content/gdrive/My Drive/sentiment-analysis/masked-lm/checkpoint-1400/config.json\n",
            "Model weights saved in /content/gdrive/My Drive/sentiment-analysis/masked-lm/checkpoint-1400/pytorch_model.bin\n",
            "tokenizer config file saved in /content/gdrive/My Drive/sentiment-analysis/masked-lm/checkpoint-1400/tokenizer_config.json\n",
            "Special tokens file saved in /content/gdrive/My Drive/sentiment-analysis/masked-lm/checkpoint-1400/special_tokens_map.json\n",
            "***** Running Evaluation *****\n",
            "  Num examples = 19901\n",
            "  Batch size = 8\n",
            "Saving model checkpoint to /content/gdrive/My Drive/sentiment-analysis/masked-lm/checkpoint-2100\n",
            "Configuration saved in /content/gdrive/My Drive/sentiment-analysis/masked-lm/checkpoint-2100/config.json\n",
            "Model weights saved in /content/gdrive/My Drive/sentiment-analysis/masked-lm/checkpoint-2100/pytorch_model.bin\n",
            "tokenizer config file saved in /content/gdrive/My Drive/sentiment-analysis/masked-lm/checkpoint-2100/tokenizer_config.json\n",
            "Special tokens file saved in /content/gdrive/My Drive/sentiment-analysis/masked-lm/checkpoint-2100/special_tokens_map.json\n",
            "***** Running Evaluation *****\n",
            "  Num examples = 19901\n",
            "  Batch size = 8\n",
            "Saving model checkpoint to /content/gdrive/My Drive/sentiment-analysis/masked-lm/checkpoint-2800\n",
            "Configuration saved in /content/gdrive/My Drive/sentiment-analysis/masked-lm/checkpoint-2800/config.json\n",
            "Model weights saved in /content/gdrive/My Drive/sentiment-analysis/masked-lm/checkpoint-2800/pytorch_model.bin\n",
            "tokenizer config file saved in /content/gdrive/My Drive/sentiment-analysis/masked-lm/checkpoint-2800/tokenizer_config.json\n",
            "Special tokens file saved in /content/gdrive/My Drive/sentiment-analysis/masked-lm/checkpoint-2800/special_tokens_map.json\n",
            "***** Running Evaluation *****\n",
            "  Num examples = 19901\n",
            "  Batch size = 8\n",
            "Saving model checkpoint to /content/gdrive/My Drive/sentiment-analysis/masked-lm/checkpoint-3500\n",
            "Configuration saved in /content/gdrive/My Drive/sentiment-analysis/masked-lm/checkpoint-3500/config.json\n",
            "Model weights saved in /content/gdrive/My Drive/sentiment-analysis/masked-lm/checkpoint-3500/pytorch_model.bin\n",
            "tokenizer config file saved in /content/gdrive/My Drive/sentiment-analysis/masked-lm/checkpoint-3500/tokenizer_config.json\n",
            "Special tokens file saved in /content/gdrive/My Drive/sentiment-analysis/masked-lm/checkpoint-3500/special_tokens_map.json\n",
            "***** Running Evaluation *****\n",
            "  Num examples = 19901\n",
            "  Batch size = 8\n",
            "Saving model checkpoint to /content/gdrive/My Drive/sentiment-analysis/masked-lm/checkpoint-4200\n",
            "Configuration saved in /content/gdrive/My Drive/sentiment-analysis/masked-lm/checkpoint-4200/config.json\n",
            "Model weights saved in /content/gdrive/My Drive/sentiment-analysis/masked-lm/checkpoint-4200/pytorch_model.bin\n",
            "tokenizer config file saved in /content/gdrive/My Drive/sentiment-analysis/masked-lm/checkpoint-4200/tokenizer_config.json\n",
            "Special tokens file saved in /content/gdrive/My Drive/sentiment-analysis/masked-lm/checkpoint-4200/special_tokens_map.json\n",
            "***** Running Evaluation *****\n",
            "  Num examples = 19901\n",
            "  Batch size = 8\n",
            "Saving model checkpoint to /content/gdrive/My Drive/sentiment-analysis/masked-lm/checkpoint-4900\n",
            "Configuration saved in /content/gdrive/My Drive/sentiment-analysis/masked-lm/checkpoint-4900/config.json\n",
            "Model weights saved in /content/gdrive/My Drive/sentiment-analysis/masked-lm/checkpoint-4900/pytorch_model.bin\n",
            "tokenizer config file saved in /content/gdrive/My Drive/sentiment-analysis/masked-lm/checkpoint-4900/tokenizer_config.json\n",
            "Special tokens file saved in /content/gdrive/My Drive/sentiment-analysis/masked-lm/checkpoint-4900/special_tokens_map.json\n"
          ]
        },
        {
          "output_type": "display_data",
          "data": {
            "text/plain": [
              "<IPython.core.display.HTML object>"
            ],
            "text/html": [
              "\n",
              "    <div>\n",
              "      \n",
              "      <progress value='7000' max='7000' style='width:300px; height:20px; vertical-align: middle;'></progress>\n",
              "      [7000/7000 1:12:35, Epoch 10/10]\n",
              "    </div>\n",
              "    <table border=\"1\" class=\"dataframe\">\n",
              "  <thead>\n",
              " <tr style=\"text-align: left;\">\n",
              "      <th>Epoch</th>\n",
              "      <th>Training Loss</th>\n",
              "      <th>Validation Loss</th>\n",
              "    </tr>\n",
              "  </thead>\n",
              "  <tbody>\n",
              "    <tr>\n",
              "      <td>1</td>\n",
              "      <td>4.201700</td>\n",
              "      <td>3.760043</td>\n",
              "    </tr>\n",
              "    <tr>\n",
              "      <td>2</td>\n",
              "      <td>3.885500</td>\n",
              "      <td>3.644586</td>\n",
              "    </tr>\n",
              "    <tr>\n",
              "      <td>3</td>\n",
              "      <td>3.688800</td>\n",
              "      <td>3.518976</td>\n",
              "    </tr>\n",
              "    <tr>\n",
              "      <td>4</td>\n",
              "      <td>3.618600</td>\n",
              "      <td>3.495467</td>\n",
              "    </tr>\n",
              "    <tr>\n",
              "      <td>5</td>\n",
              "      <td>3.544200</td>\n",
              "      <td>3.449860</td>\n",
              "    </tr>\n",
              "    <tr>\n",
              "      <td>6</td>\n",
              "      <td>3.542600</td>\n",
              "      <td>3.400273</td>\n",
              "    </tr>\n",
              "    <tr>\n",
              "      <td>7</td>\n",
              "      <td>3.502500</td>\n",
              "      <td>3.359077</td>\n",
              "    </tr>\n",
              "    <tr>\n",
              "      <td>8</td>\n",
              "      <td>3.468100</td>\n",
              "      <td>3.399629</td>\n",
              "    </tr>\n",
              "    <tr>\n",
              "      <td>9</td>\n",
              "      <td>3.461600</td>\n",
              "      <td>3.386003</td>\n",
              "    </tr>\n",
              "    <tr>\n",
              "      <td>10</td>\n",
              "      <td>3.455000</td>\n",
              "      <td>3.366681</td>\n",
              "    </tr>\n",
              "  </tbody>\n",
              "</table><p>"
            ]
          },
          "metadata": {}
        },
        {
          "output_type": "stream",
          "name": "stderr",
          "text": [
            "***** Running Evaluation *****\n",
            "  Num examples = 19901\n",
            "  Batch size = 8\n",
            "Saving model checkpoint to /content/gdrive/My Drive/sentiment-analysis/masked-lm/checkpoint-5600\n",
            "Configuration saved in /content/gdrive/My Drive/sentiment-analysis/masked-lm/checkpoint-5600/config.json\n",
            "Model weights saved in /content/gdrive/My Drive/sentiment-analysis/masked-lm/checkpoint-5600/pytorch_model.bin\n",
            "tokenizer config file saved in /content/gdrive/My Drive/sentiment-analysis/masked-lm/checkpoint-5600/tokenizer_config.json\n",
            "Special tokens file saved in /content/gdrive/My Drive/sentiment-analysis/masked-lm/checkpoint-5600/special_tokens_map.json\n",
            "***** Running Evaluation *****\n",
            "  Num examples = 19901\n",
            "  Batch size = 8\n",
            "Saving model checkpoint to /content/gdrive/My Drive/sentiment-analysis/masked-lm/checkpoint-6300\n",
            "Configuration saved in /content/gdrive/My Drive/sentiment-analysis/masked-lm/checkpoint-6300/config.json\n",
            "Model weights saved in /content/gdrive/My Drive/sentiment-analysis/masked-lm/checkpoint-6300/pytorch_model.bin\n",
            "tokenizer config file saved in /content/gdrive/My Drive/sentiment-analysis/masked-lm/checkpoint-6300/tokenizer_config.json\n",
            "Special tokens file saved in /content/gdrive/My Drive/sentiment-analysis/masked-lm/checkpoint-6300/special_tokens_map.json\n",
            "***** Running Evaluation *****\n",
            "  Num examples = 19901\n",
            "  Batch size = 8\n",
            "Saving model checkpoint to /content/gdrive/My Drive/sentiment-analysis/masked-lm/checkpoint-7000\n",
            "Configuration saved in /content/gdrive/My Drive/sentiment-analysis/masked-lm/checkpoint-7000/config.json\n",
            "Model weights saved in /content/gdrive/My Drive/sentiment-analysis/masked-lm/checkpoint-7000/pytorch_model.bin\n",
            "tokenizer config file saved in /content/gdrive/My Drive/sentiment-analysis/masked-lm/checkpoint-7000/tokenizer_config.json\n",
            "Special tokens file saved in /content/gdrive/My Drive/sentiment-analysis/masked-lm/checkpoint-7000/special_tokens_map.json\n",
            "\n",
            "\n",
            "Training completed. Do not forget to share your model on huggingface.co/models =)\n",
            "\n",
            "\n",
            "Loading best model from /content/gdrive/My Drive/sentiment-analysis/masked-lm/checkpoint-4900 (score: 3.3590774536132812).\n"
          ]
        },
        {
          "output_type": "execute_result",
          "data": {
            "text/plain": [
              "TrainOutput(global_step=7000, training_loss=3.618254220145089, metrics={'train_runtime': 4359.0059, 'train_samples_per_second': 410.876, 'train_steps_per_second': 1.606, 'total_flos': 1.73862365514408e+16, 'train_loss': 3.618254220145089, 'epoch': 10.0})"
            ]
          },
          "metadata": {},
          "execution_count": 31
        }
      ]
    },
    {
      "cell_type": "code",
      "source": [
        "trainer.save_model(base_path / \"final-masked-lm\")"
      ],
      "metadata": {
        "id": "SKzVVkXAzBaX",
        "colab": {
          "base_uri": "https://localhost:8080/"
        },
        "outputId": "0c0391ed-8870-4912-86af-2ec42f96f19d"
      },
      "execution_count": 32,
      "outputs": [
        {
          "output_type": "stream",
          "name": "stderr",
          "text": [
            "Saving model checkpoint to /content/gdrive/My Drive/sentiment-analysis/final-masked-lm\n",
            "Configuration saved in /content/gdrive/My Drive/sentiment-analysis/final-masked-lm/config.json\n",
            "Model weights saved in /content/gdrive/My Drive/sentiment-analysis/final-masked-lm/pytorch_model.bin\n",
            "tokenizer config file saved in /content/gdrive/My Drive/sentiment-analysis/final-masked-lm/tokenizer_config.json\n",
            "Special tokens file saved in /content/gdrive/My Drive/sentiment-analysis/final-masked-lm/special_tokens_map.json\n"
          ]
        }
      ]
    },
    {
      "cell_type": "markdown",
      "source": [
        "#### Fine-Tuning the domain adapted model"
      ],
      "metadata": {
        "id": "2NSOH1Yz0stf"
      }
    },
    {
      "cell_type": "code",
      "source": [
        "adapted_model = AutoModelForSequenceClassification.from_pretrained(base_path / \"final-masked-lm\", num_labels=3)"
      ],
      "metadata": {
        "id": "QBVcTmGj0aW1",
        "colab": {
          "base_uri": "https://localhost:8080/"
        },
        "outputId": "d6433395-fe32-49c8-feca-dfee1902b5d2"
      },
      "execution_count": 33,
      "outputs": [
        {
          "output_type": "stream",
          "name": "stderr",
          "text": [
            "loading configuration file /content/gdrive/My Drive/sentiment-analysis/final-masked-lm/config.json\n",
            "Model config BertConfig {\n",
            "  \"_name_or_path\": \"/content/gdrive/My Drive/sentiment-analysis/final-masked-lm\",\n",
            "  \"architectures\": [\n",
            "    \"BertForMaskedLM\"\n",
            "  ],\n",
            "  \"attention_probs_dropout_prob\": 0.1,\n",
            "  \"classifier_dropout\": null,\n",
            "  \"gradient_checkpointing\": false,\n",
            "  \"hidden_act\": \"gelu\",\n",
            "  \"hidden_dropout_prob\": 0.1,\n",
            "  \"hidden_size\": 768,\n",
            "  \"id2label\": {\n",
            "    \"0\": \"LABEL_0\",\n",
            "    \"1\": \"LABEL_1\",\n",
            "    \"2\": \"LABEL_2\"\n",
            "  },\n",
            "  \"initializer_range\": 0.02,\n",
            "  \"intermediate_size\": 3072,\n",
            "  \"label2id\": {\n",
            "    \"LABEL_0\": 0,\n",
            "    \"LABEL_1\": 1,\n",
            "    \"LABEL_2\": 2\n",
            "  },\n",
            "  \"layer_norm_eps\": 1e-12,\n",
            "  \"max_position_embeddings\": 512,\n",
            "  \"model_type\": \"bert\",\n",
            "  \"num_attention_heads\": 12,\n",
            "  \"num_hidden_layers\": 12,\n",
            "  \"pad_token_id\": 0,\n",
            "  \"position_embedding_type\": \"absolute\",\n",
            "  \"torch_dtype\": \"float32\",\n",
            "  \"transformers_version\": \"4.22.1\",\n",
            "  \"type_vocab_size\": 2,\n",
            "  \"use_cache\": true,\n",
            "  \"vocab_size\": 30522\n",
            "}\n",
            "\n",
            "loading weights file /content/gdrive/My Drive/sentiment-analysis/final-masked-lm/pytorch_model.bin\n",
            "Some weights of the model checkpoint at /content/gdrive/My Drive/sentiment-analysis/final-masked-lm were not used when initializing BertForSequenceClassification: ['cls.predictions.transform.dense.weight', 'cls.predictions.decoder.weight', 'cls.predictions.transform.dense.bias', 'cls.predictions.decoder.bias', 'cls.predictions.transform.LayerNorm.bias', 'cls.predictions.transform.LayerNorm.weight', 'cls.predictions.bias']\n",
            "- This IS expected if you are initializing BertForSequenceClassification from the checkpoint of a model trained on another task or with another architecture (e.g. initializing a BertForSequenceClassification model from a BertForPreTraining model).\n",
            "- This IS NOT expected if you are initializing BertForSequenceClassification from the checkpoint of a model that you expect to be exactly identical (initializing a BertForSequenceClassification model from a BertForSequenceClassification model).\n",
            "Some weights of BertForSequenceClassification were not initialized from the model checkpoint at /content/gdrive/My Drive/sentiment-analysis/final-masked-lm and are newly initialized: ['bert.pooler.dense.bias', 'classifier.bias', 'classifier.weight', 'bert.pooler.dense.weight']\n",
            "You should probably TRAIN this model on a down-stream task to be able to use it for predictions and inference.\n"
          ]
        }
      ]
    },
    {
      "cell_type": "code",
      "source": [
        "trainer = setup_trainer_for_finetuning(model=adapted_model, tokenizer=tokenizer_bert)"
      ],
      "metadata": {
        "colab": {
          "base_uri": "https://localhost:8080/"
        },
        "id": "bIePAE4u9UF8",
        "outputId": "a15fcc27-721e-4b09-802c-36c7fca04c13"
      },
      "execution_count": 34,
      "outputs": [
        {
          "output_type": "stream",
          "name": "stderr",
          "text": [
            "PyTorch: setting up devices\n",
            "The default value for the training argument `--report_to` will change in v5 (from all installed integrations to none). In v5, you will need to use `--report_to all` to get the same behavior as now. You should start updating your code and make this info disappear :-).\n"
          ]
        }
      ]
    },
    {
      "cell_type": "code",
      "source": [
        "trainer.train()"
      ],
      "metadata": {
        "colab": {
          "base_uri": "https://localhost:8080/",
          "height": 1000,
          "referenced_widgets": [
            "ce57c40fb8ee4d87a4e27abaf33c70ee",
            "3391aabb0fda4f779a2033d36197bdb5",
            "23af3b03628c450995d508f7e05dc701",
            "b8bbb91868ca4b82bed3a20f7ca268a6",
            "124a6fce93ab47b1927b778f55cf071b",
            "c7cc8b0c1652438caa85953c2eb1dd05",
            "606aa37d65ba40b489310d351fe16220",
            "a82f6e1c3b1f46c3b47ec915903b7d9f",
            "655ece83c1dc4483a060ed6d90aabb3f",
            "4923b9e58fec4e45926f76d197d67c28",
            "20782a5f5d0148c2b612becc5f22dd11",
            "1a5382cb31ba44c79e756d872b3f0f58",
            "5cebca4feeef437d861b78cdd55d86a3",
            "18432f1be4674113b9b115e65685388e",
            "44f572ac077647a4af565445874c5e00",
            "4213f3efe9104413a9b878c936f1da00",
            "09b5aac2574e42b38a0ee443db3fbdec",
            "4be926b7349c4ec7939f6ae6b4f37d92",
            "6439efc2eb714bd3bf2de3b819a395c2",
            "125dde649c674458a614f1d6ee7a5248",
            "886067bb4712415cbd9b200b6b1a02d2",
            "b732ace12e4c490d8725da7803620e94",
            "59f3ab506bc94b1c93d38a8b9fadeaf4",
            "2aad2e29dd684011886120eaeabbd505",
            "15cc3dfcf06841a18ed27949e9fd61dc",
            "9b93d96991824086a44c048a56b0ba91",
            "3db8b9e87dbd4641abb377ff8f9695b3",
            "617b28af05ce475481222b1e6b7d96e5",
            "f0f825f713424c2f801171bd51efc2ae",
            "1cc7b5b8897d4b7a8b4e95bd558beea1",
            "763cdfc4969d43e1b3bf5bb324876bef",
            "e16d0d429f8e499aa39a91c01e05e6dc",
            "dc404f5af78d4014ac938aa98757efb4",
            "4fe506f46bb0473db0a1c6f5fbab586d",
            "c0f180b74a574f4f834a910a5f6c3591",
            "f97e3f9164984045a5280a1ee32737b4",
            "7c6322c69650412caf36286582b8b43a",
            "8abf7561062f4863958153dfdd390931",
            "e9c85350e55a4123925718835d20f287",
            "d6c91b45b1fd4c6aba8c87557755c3ea",
            "b034a20c1def4363bb0ee5483a0b178b",
            "cea0eb097b054bbabbb477f84b300d90",
            "f422365030d746de8c11abb049f7e352",
            "89fb2a6c3fdb475e8ea16d52b3757998"
          ]
        },
        "id": "su9ufc3q9cPC",
        "outputId": "d03a0110-fc4c-4c24-d2a3-2ff9ebbf2891"
      },
      "execution_count": 35,
      "outputs": [
        {
          "output_type": "stream",
          "name": "stderr",
          "text": [
            "/usr/local/lib/python3.7/dist-packages/transformers/optimization.py:310: FutureWarning: This implementation of AdamW is deprecated and will be removed in a future version. Use the PyTorch implementation torch.optim.AdamW instead, or set `no_deprecation_warning=True` to disable this warning\n",
            "  FutureWarning,\n",
            "***** Running training *****\n",
            "  Num examples = 843\n",
            "  Num Epochs = 10\n",
            "  Instantaneous batch size per device = 16\n",
            "  Total train batch size (w. parallel, distributed & accumulation) = 16\n",
            "  Gradient Accumulation steps = 1\n",
            "  Total optimization steps = 530\n",
            "You're using a BertTokenizerFast tokenizer. Please note that with a fast tokenizer, using the `__call__` method is faster than using a method to encode the text followed by a call to the `pad` method to get a padded encoding.\n"
          ]
        },
        {
          "output_type": "display_data",
          "data": {
            "text/plain": [
              "<IPython.core.display.HTML object>"
            ],
            "text/html": [
              "\n",
              "    <div>\n",
              "      \n",
              "      <progress value='530' max='530' style='width:300px; height:20px; vertical-align: middle;'></progress>\n",
              "      [530/530 01:40, Epoch 10/10]\n",
              "    </div>\n",
              "    <table border=\"1\" class=\"dataframe\">\n",
              "  <thead>\n",
              " <tr style=\"text-align: left;\">\n",
              "      <th>Epoch</th>\n",
              "      <th>Training Loss</th>\n",
              "      <th>Validation Loss</th>\n",
              "      <th>Accuracy</th>\n",
              "      <th>F1</th>\n",
              "      <th>Precision</th>\n",
              "      <th>Recall</th>\n",
              "    </tr>\n",
              "  </thead>\n",
              "  <tbody>\n",
              "    <tr>\n",
              "      <td>1</td>\n",
              "      <td>No log</td>\n",
              "      <td>0.807921</td>\n",
              "      <td>0.657143</td>\n",
              "      <td>0.264368</td>\n",
              "      <td>0.219048</td>\n",
              "      <td>0.333333</td>\n",
              "    </tr>\n",
              "    <tr>\n",
              "      <td>2</td>\n",
              "      <td>No log</td>\n",
              "      <td>0.568924</td>\n",
              "      <td>0.800000</td>\n",
              "      <td>0.678221</td>\n",
              "      <td>0.842172</td>\n",
              "      <td>0.681025</td>\n",
              "    </tr>\n",
              "    <tr>\n",
              "      <td>3</td>\n",
              "      <td>No log</td>\n",
              "      <td>0.466986</td>\n",
              "      <td>0.847619</td>\n",
              "      <td>0.757873</td>\n",
              "      <td>0.918926</td>\n",
              "      <td>0.709307</td>\n",
              "    </tr>\n",
              "    <tr>\n",
              "      <td>4</td>\n",
              "      <td>No log</td>\n",
              "      <td>0.433786</td>\n",
              "      <td>0.866667</td>\n",
              "      <td>0.816611</td>\n",
              "      <td>0.880094</td>\n",
              "      <td>0.790790</td>\n",
              "    </tr>\n",
              "    <tr>\n",
              "      <td>5</td>\n",
              "      <td>No log</td>\n",
              "      <td>0.425222</td>\n",
              "      <td>0.885714</td>\n",
              "      <td>0.848162</td>\n",
              "      <td>0.907368</td>\n",
              "      <td>0.815229</td>\n",
              "    </tr>\n",
              "    <tr>\n",
              "      <td>6</td>\n",
              "      <td>No log</td>\n",
              "      <td>0.423929</td>\n",
              "      <td>0.895238</td>\n",
              "      <td>0.864256</td>\n",
              "      <td>0.911332</td>\n",
              "      <td>0.834836</td>\n",
              "    </tr>\n",
              "    <tr>\n",
              "      <td>7</td>\n",
              "      <td>No log</td>\n",
              "      <td>0.511630</td>\n",
              "      <td>0.857143</td>\n",
              "      <td>0.803124</td>\n",
              "      <td>0.885088</td>\n",
              "      <td>0.771182</td>\n",
              "    </tr>\n",
              "    <tr>\n",
              "      <td>8</td>\n",
              "      <td>No log</td>\n",
              "      <td>0.485007</td>\n",
              "      <td>0.885714</td>\n",
              "      <td>0.854531</td>\n",
              "      <td>0.896804</td>\n",
              "      <td>0.830006</td>\n",
              "    </tr>\n",
              "    <tr>\n",
              "      <td>9</td>\n",
              "      <td>No log</td>\n",
              "      <td>0.506321</td>\n",
              "      <td>0.885714</td>\n",
              "      <td>0.854531</td>\n",
              "      <td>0.896804</td>\n",
              "      <td>0.830006</td>\n",
              "    </tr>\n",
              "    <tr>\n",
              "      <td>10</td>\n",
              "      <td>0.265300</td>\n",
              "      <td>0.507991</td>\n",
              "      <td>0.876190</td>\n",
              "      <td>0.838439</td>\n",
              "      <td>0.892793</td>\n",
              "      <td>0.810398</td>\n",
              "    </tr>\n",
              "  </tbody>\n",
              "</table><p>"
            ]
          },
          "metadata": {}
        },
        {
          "output_type": "stream",
          "name": "stderr",
          "text": [
            "***** Running Evaluation *****\n",
            "  Num examples = 105\n",
            "  Batch size = 16\n"
          ]
        },
        {
          "output_type": "display_data",
          "data": {
            "text/plain": [
              "Downloading builder script:   0%|          | 0.00/1.65k [00:00<?, ?B/s]"
            ],
            "application/vnd.jupyter.widget-view+json": {
              "version_major": 2,
              "version_minor": 0,
              "model_id": "ce57c40fb8ee4d87a4e27abaf33c70ee"
            }
          },
          "metadata": {}
        },
        {
          "output_type": "display_data",
          "data": {
            "text/plain": [
              "Downloading builder script:   0%|          | 0.00/2.58k [00:00<?, ?B/s]"
            ],
            "application/vnd.jupyter.widget-view+json": {
              "version_major": 2,
              "version_minor": 0,
              "model_id": "1a5382cb31ba44c79e756d872b3f0f58"
            }
          },
          "metadata": {}
        },
        {
          "output_type": "display_data",
          "data": {
            "text/plain": [
              "Downloading builder script:   0%|          | 0.00/2.52k [00:00<?, ?B/s]"
            ],
            "application/vnd.jupyter.widget-view+json": {
              "version_major": 2,
              "version_minor": 0,
              "model_id": "59f3ab506bc94b1c93d38a8b9fadeaf4"
            }
          },
          "metadata": {}
        },
        {
          "output_type": "display_data",
          "data": {
            "text/plain": [
              "Downloading builder script:   0%|          | 0.00/2.32k [00:00<?, ?B/s]"
            ],
            "application/vnd.jupyter.widget-view+json": {
              "version_major": 2,
              "version_minor": 0,
              "model_id": "4fe506f46bb0473db0a1c6f5fbab586d"
            }
          },
          "metadata": {}
        },
        {
          "output_type": "stream",
          "name": "stderr",
          "text": [
            "Saving model checkpoint to ./results/checkpoint-53\n",
            "Configuration saved in ./results/checkpoint-53/config.json\n",
            "Model weights saved in ./results/checkpoint-53/pytorch_model.bin\n",
            "tokenizer config file saved in ./results/checkpoint-53/tokenizer_config.json\n",
            "Special tokens file saved in ./results/checkpoint-53/special_tokens_map.json\n",
            "***** Running Evaluation *****\n",
            "  Num examples = 105\n",
            "  Batch size = 16\n",
            "Saving model checkpoint to ./results/checkpoint-106\n",
            "Configuration saved in ./results/checkpoint-106/config.json\n",
            "Model weights saved in ./results/checkpoint-106/pytorch_model.bin\n",
            "tokenizer config file saved in ./results/checkpoint-106/tokenizer_config.json\n",
            "Special tokens file saved in ./results/checkpoint-106/special_tokens_map.json\n",
            "***** Running Evaluation *****\n",
            "  Num examples = 105\n",
            "  Batch size = 16\n",
            "Saving model checkpoint to ./results/checkpoint-159\n",
            "Configuration saved in ./results/checkpoint-159/config.json\n",
            "Model weights saved in ./results/checkpoint-159/pytorch_model.bin\n",
            "tokenizer config file saved in ./results/checkpoint-159/tokenizer_config.json\n",
            "Special tokens file saved in ./results/checkpoint-159/special_tokens_map.json\n",
            "***** Running Evaluation *****\n",
            "  Num examples = 105\n",
            "  Batch size = 16\n",
            "Saving model checkpoint to ./results/checkpoint-212\n",
            "Configuration saved in ./results/checkpoint-212/config.json\n",
            "Model weights saved in ./results/checkpoint-212/pytorch_model.bin\n",
            "tokenizer config file saved in ./results/checkpoint-212/tokenizer_config.json\n",
            "Special tokens file saved in ./results/checkpoint-212/special_tokens_map.json\n",
            "***** Running Evaluation *****\n",
            "  Num examples = 105\n",
            "  Batch size = 16\n",
            "Saving model checkpoint to ./results/checkpoint-265\n",
            "Configuration saved in ./results/checkpoint-265/config.json\n",
            "Model weights saved in ./results/checkpoint-265/pytorch_model.bin\n",
            "tokenizer config file saved in ./results/checkpoint-265/tokenizer_config.json\n",
            "Special tokens file saved in ./results/checkpoint-265/special_tokens_map.json\n",
            "***** Running Evaluation *****\n",
            "  Num examples = 105\n",
            "  Batch size = 16\n",
            "Saving model checkpoint to ./results/checkpoint-318\n",
            "Configuration saved in ./results/checkpoint-318/config.json\n",
            "Model weights saved in ./results/checkpoint-318/pytorch_model.bin\n",
            "tokenizer config file saved in ./results/checkpoint-318/tokenizer_config.json\n",
            "Special tokens file saved in ./results/checkpoint-318/special_tokens_map.json\n",
            "***** Running Evaluation *****\n",
            "  Num examples = 105\n",
            "  Batch size = 16\n",
            "Saving model checkpoint to ./results/checkpoint-371\n",
            "Configuration saved in ./results/checkpoint-371/config.json\n",
            "Model weights saved in ./results/checkpoint-371/pytorch_model.bin\n",
            "tokenizer config file saved in ./results/checkpoint-371/tokenizer_config.json\n",
            "Special tokens file saved in ./results/checkpoint-371/special_tokens_map.json\n",
            "***** Running Evaluation *****\n",
            "  Num examples = 105\n",
            "  Batch size = 16\n",
            "Saving model checkpoint to ./results/checkpoint-424\n",
            "Configuration saved in ./results/checkpoint-424/config.json\n",
            "Model weights saved in ./results/checkpoint-424/pytorch_model.bin\n",
            "tokenizer config file saved in ./results/checkpoint-424/tokenizer_config.json\n",
            "Special tokens file saved in ./results/checkpoint-424/special_tokens_map.json\n",
            "***** Running Evaluation *****\n",
            "  Num examples = 105\n",
            "  Batch size = 16\n",
            "Saving model checkpoint to ./results/checkpoint-477\n",
            "Configuration saved in ./results/checkpoint-477/config.json\n",
            "Model weights saved in ./results/checkpoint-477/pytorch_model.bin\n",
            "tokenizer config file saved in ./results/checkpoint-477/tokenizer_config.json\n",
            "Special tokens file saved in ./results/checkpoint-477/special_tokens_map.json\n",
            "***** Running Evaluation *****\n",
            "  Num examples = 105\n",
            "  Batch size = 16\n",
            "Saving model checkpoint to ./results/checkpoint-530\n",
            "Configuration saved in ./results/checkpoint-530/config.json\n",
            "Model weights saved in ./results/checkpoint-530/pytorch_model.bin\n",
            "tokenizer config file saved in ./results/checkpoint-530/tokenizer_config.json\n",
            "Special tokens file saved in ./results/checkpoint-530/special_tokens_map.json\n",
            "\n",
            "\n",
            "Training completed. Do not forget to share your model on huggingface.co/models =)\n",
            "\n",
            "\n",
            "Loading best model from ./results/checkpoint-318 (score: 0.42392945289611816).\n"
          ]
        },
        {
          "output_type": "execute_result",
          "data": {
            "text/plain": [
              "TrainOutput(global_step=530, training_loss=0.2513004558266334, metrics={'train_runtime': 101.1122, 'train_samples_per_second': 83.373, 'train_steps_per_second': 5.242, 'total_flos': 80740360598310.0, 'train_loss': 0.2513004558266334, 'epoch': 10.0})"
            ]
          },
          "metadata": {},
          "execution_count": 35
        }
      ]
    },
    {
      "cell_type": "markdown",
      "source": [
        "#### Evaluation"
      ],
      "metadata": {
        "id": "R_r9469S4t4X"
      }
    },
    {
      "cell_type": "code",
      "source": [
        "raw_pred, _, _ = trainer.predict(tokenized_poem_sentiment['test'])\n",
        "print(f\"Total predictions: {len(raw_pred)}\")\n",
        "\n",
        "for text, prediction in zip(tokenized_poem_sentiment['test'], np.argmax(raw_pred, axis=1)):\n",
        "    expected = text['labels']\n",
        "    if expected != prediction: \n",
        "      print(f\"Text: {text['verse_text']} --- Expected: {id2label[expected]} --- Predicted: {id2label[prediction]}\")"
      ],
      "metadata": {
        "id": "g1ipZzmc1Psh",
        "colab": {
          "base_uri": "https://localhost:8080/",
          "height": 339
        },
        "outputId": "a6b625f2-86a0-4bfb-890f-5b93d69f4829"
      },
      "execution_count": 36,
      "outputs": [
        {
          "output_type": "stream",
          "name": "stderr",
          "text": [
            "The following columns in the test set don't have a corresponding argument in `BertForSequenceClassification.forward` and have been ignored: verse_text, id. If verse_text, id are not expected by `BertForSequenceClassification.forward`,  you can safely ignore this message.\n",
            "***** Running Prediction *****\n",
            "  Num examples = 104\n",
            "  Batch size = 16\n"
          ]
        },
        {
          "output_type": "display_data",
          "data": {
            "text/plain": [
              "<IPython.core.display.HTML object>"
            ],
            "text/html": []
          },
          "metadata": {}
        },
        {
          "output_type": "stream",
          "name": "stdout",
          "text": [
            "Total predictions: 104\n",
            "Text: lo now, o daughter of kings, let us rise in the face of the day, --- Expected: positive --- Predicted: no_impact\n",
            "Text: for penance, by a saintly styrian monk --- Expected: no_impact --- Predicted: positive\n",
            "Text: how hearts were answering to his own, --- Expected: positive --- Predicted: no_impact\n",
            "Text: midway the floor (with thatch was it strewn) burned ever the fire-flame --- Expected: no_impact --- Predicted: negative\n",
            "Text: \"i rather should have hewn your limbs away, --- Expected: negative --- Predicted: no_impact\n",
            "Text: shall dwell in the house of my fathers and the land of the people's praise; --- Expected: positive --- Predicted: no_impact\n",
            "Text: dauntless he rose, and to the fight return’d; --- Expected: positive --- Predicted: no_impact\n",
            "Text: of your strong and pliant branches, --- Expected: positive --- Predicted: no_impact\n",
            "Text: (thy kingdom come) with his revealéd face --- Expected: no_impact --- Predicted: positive\n",
            "Text: i see the thing as clear as light,-- --- Expected: positive --- Predicted: no_impact\n",
            "Text: and, wildly tossed from cheeks and chin, --- Expected: no_impact --- Predicted: negative\n",
            "Text: daring to ask for naught, and having naught received. --- Expected: no_impact --- Predicted: negative\n"
          ]
        }
      ]
    },
    {
      "cell_type": "code",
      "source": [
        "predictions = np.argmax(raw_pred, axis=-1)\n",
        "labels = list(tokenized_poem_sentiment['test']['labels'])\n",
        "print_confusion_matrix(labels, predictions)"
      ],
      "metadata": {
        "colab": {
          "base_uri": "https://localhost:8080/",
          "height": 280
        },
        "id": "Z29qbyS8jYrU",
        "outputId": "3297c126-9dc9-48f4-a735-04051eabdd70"
      },
      "execution_count": 37,
      "outputs": [
        {
          "output_type": "display_data",
          "data": {
            "text/plain": [
              "<Figure size 432x288 with 2 Axes>"
            ],
            "image/png": "[encoded data removed]"
          },
          "metadata": {
            "needs_background": "light"
          }
        }
      ]
    },
    {
      "cell_type": "markdown",
      "source": [
        "### Intermediate Task-Training\n",
        "Using a pre-trainend sentiment model"
      ],
      "metadata": {
        "id": "2mTytLEojhgS"
      }
    },
    {
      "cell_type": "code",
      "source": [
        "sst2_model = AutoModelForSequenceClassification.from_pretrained(\n",
        "    \"echarlaix/bert-base-uncased-sst2-acc91.1-d37-hybrid\", \n",
        "    num_labels=3, \n",
        "    ignore_mismatched_sizes=True\n",
        ")"
      ],
      "metadata": {
        "id": "7TsD7jAgjgzq",
        "colab": {
          "base_uri": "https://localhost:8080/"
        },
        "outputId": "eedf62fb-55b0-405b-d2d4-2388fcea4819"
      },
      "execution_count": 38,
      "outputs": [
        {
          "output_type": "stream",
          "name": "stderr",
          "text": [
            "loading weights file pytorch_model.bin from cache at /root/.cache/huggingface/hub/models--echarlaix--bert-base-uncased-sst2-acc91.1-d37-hybrid/snapshots/f9c8e9f03396500a107dbe97024d7efa23f57e69/pytorch_model.bin\n",
            "All model checkpoint weights were used when initializing BertForSequenceClassification.\n",
            "\n",
            "Some weights of BertForSequenceClassification were not initialized from the model checkpoint at echarlaix/bert-base-uncased-sst2-acc91.1-d37-hybrid and are newly initialized because the shapes did not match:\n",
            "- classifier.weight: found shape torch.Size([2, 768]) in the checkpoint and torch.Size([3, 768]) in the model instantiated\n",
            "- classifier.bias: found shape torch.Size([2]) in the checkpoint and torch.Size([3]) in the model instantiated\n",
            "You should probably TRAIN this model on a down-stream task to be able to use it for predictions and inference.\n"
          ]
        }
      ]
    },
    {
      "cell_type": "code",
      "source": [
        "trainer = setup_trainer_for_finetuning(\n",
        "    model=sst2_model, \n",
        "    tokenizer=tokenizer_bert\n",
        ")"
      ],
      "metadata": {
        "id": "zrNXRnA6rUQb",
        "colab": {
          "base_uri": "https://localhost:8080/"
        },
        "outputId": "8fdcc787-7186-4042-cbb4-c25e83692085"
      },
      "execution_count": 39,
      "outputs": [
        {
          "output_type": "stream",
          "name": "stderr",
          "text": [
            "PyTorch: setting up devices\n",
            "The default value for the training argument `--report_to` will change in v5 (from all installed integrations to none). In v5, you will need to use `--report_to all` to get the same behavior as now. You should start updating your code and make this info disappear :-).\n"
          ]
        }
      ]
    },
    {
      "cell_type": "code",
      "source": [
        "trainer.train()"
      ],
      "metadata": {
        "id": "FQaq229krzO1",
        "colab": {
          "base_uri": "https://localhost:8080/",
          "height": 1000
        },
        "outputId": "59a30523-261f-4a1e-adfa-7893b38c6f6b"
      },
      "execution_count": 40,
      "outputs": [
        {
          "output_type": "stream",
          "name": "stderr",
          "text": [
            "/usr/local/lib/python3.7/dist-packages/transformers/optimization.py:310: FutureWarning: This implementation of AdamW is deprecated and will be removed in a future version. Use the PyTorch implementation torch.optim.AdamW instead, or set `no_deprecation_warning=True` to disable this warning\n",
            "  FutureWarning,\n",
            "***** Running training *****\n",
            "  Num examples = 843\n",
            "  Num Epochs = 10\n",
            "  Instantaneous batch size per device = 16\n",
            "  Total train batch size (w. parallel, distributed & accumulation) = 16\n",
            "  Gradient Accumulation steps = 1\n",
            "  Total optimization steps = 530\n"
          ]
        },
        {
          "output_type": "display_data",
          "data": {
            "text/plain": [
              "<IPython.core.display.HTML object>"
            ],
            "text/html": [
              "\n",
              "    <div>\n",
              "      \n",
              "      <progress value='530' max='530' style='width:300px; height:20px; vertical-align: middle;'></progress>\n",
              "      [530/530 01:25, Epoch 10/10]\n",
              "    </div>\n",
              "    <table border=\"1\" class=\"dataframe\">\n",
              "  <thead>\n",
              " <tr style=\"text-align: left;\">\n",
              "      <th>Epoch</th>\n",
              "      <th>Training Loss</th>\n",
              "      <th>Validation Loss</th>\n",
              "      <th>Accuracy</th>\n",
              "      <th>F1</th>\n",
              "      <th>Precision</th>\n",
              "      <th>Recall</th>\n",
              "    </tr>\n",
              "  </thead>\n",
              "  <tbody>\n",
              "    <tr>\n",
              "      <td>1</td>\n",
              "      <td>No log</td>\n",
              "      <td>0.680374</td>\n",
              "      <td>0.723810</td>\n",
              "      <td>0.488314</td>\n",
              "      <td>0.510316</td>\n",
              "      <td>0.500142</td>\n",
              "    </tr>\n",
              "    <tr>\n",
              "      <td>2</td>\n",
              "      <td>No log</td>\n",
              "      <td>0.526745</td>\n",
              "      <td>0.800000</td>\n",
              "      <td>0.698872</td>\n",
              "      <td>0.818632</td>\n",
              "      <td>0.657334</td>\n",
              "    </tr>\n",
              "    <tr>\n",
              "      <td>3</td>\n",
              "      <td>No log</td>\n",
              "      <td>0.447283</td>\n",
              "      <td>0.847619</td>\n",
              "      <td>0.784168</td>\n",
              "      <td>0.847985</td>\n",
              "      <td>0.742989</td>\n",
              "    </tr>\n",
              "    <tr>\n",
              "      <td>4</td>\n",
              "      <td>No log</td>\n",
              "      <td>0.395195</td>\n",
              "      <td>0.838095</td>\n",
              "      <td>0.793126</td>\n",
              "      <td>0.789329</td>\n",
              "      <td>0.803787</td>\n",
              "    </tr>\n",
              "    <tr>\n",
              "      <td>5</td>\n",
              "      <td>No log</td>\n",
              "      <td>0.356975</td>\n",
              "      <td>0.885714</td>\n",
              "      <td>0.842133</td>\n",
              "      <td>0.861076</td>\n",
              "      <td>0.827942</td>\n",
              "    </tr>\n",
              "    <tr>\n",
              "      <td>6</td>\n",
              "      <td>No log</td>\n",
              "      <td>0.353548</td>\n",
              "      <td>0.895238</td>\n",
              "      <td>0.852725</td>\n",
              "      <td>0.878089</td>\n",
              "      <td>0.832772</td>\n",
              "    </tr>\n",
              "    <tr>\n",
              "      <td>7</td>\n",
              "      <td>No log</td>\n",
              "      <td>0.388116</td>\n",
              "      <td>0.857143</td>\n",
              "      <td>0.820001</td>\n",
              "      <td>0.807692</td>\n",
              "      <td>0.840939</td>\n",
              "    </tr>\n",
              "    <tr>\n",
              "      <td>8</td>\n",
              "      <td>No log</td>\n",
              "      <td>0.387435</td>\n",
              "      <td>0.876190</td>\n",
              "      <td>0.825648</td>\n",
              "      <td>0.857915</td>\n",
              "      <td>0.808334</td>\n",
              "    </tr>\n",
              "    <tr>\n",
              "      <td>9</td>\n",
              "      <td>No log</td>\n",
              "      <td>0.396180</td>\n",
              "      <td>0.857143</td>\n",
              "      <td>0.805556</td>\n",
              "      <td>0.822026</td>\n",
              "      <td>0.798672</td>\n",
              "    </tr>\n",
              "    <tr>\n",
              "      <td>10</td>\n",
              "      <td>0.283700</td>\n",
              "      <td>0.400221</td>\n",
              "      <td>0.876190</td>\n",
              "      <td>0.825648</td>\n",
              "      <td>0.857915</td>\n",
              "      <td>0.808334</td>\n",
              "    </tr>\n",
              "  </tbody>\n",
              "</table><p>"
            ]
          },
          "metadata": {}
        },
        {
          "output_type": "stream",
          "name": "stderr",
          "text": [
            "***** Running Evaluation *****\n",
            "  Num examples = 105\n",
            "  Batch size = 16\n",
            "Saving model checkpoint to ./results/checkpoint-53\n",
            "Configuration saved in ./results/checkpoint-53/config.json\n",
            "Model weights saved in ./results/checkpoint-53/pytorch_model.bin\n",
            "tokenizer config file saved in ./results/checkpoint-53/tokenizer_config.json\n",
            "Special tokens file saved in ./results/checkpoint-53/special_tokens_map.json\n",
            "***** Running Evaluation *****\n",
            "  Num examples = 105\n",
            "  Batch size = 16\n",
            "Saving model checkpoint to ./results/checkpoint-106\n",
            "Configuration saved in ./results/checkpoint-106/config.json\n",
            "Model weights saved in ./results/checkpoint-106/pytorch_model.bin\n",
            "tokenizer config file saved in ./results/checkpoint-106/tokenizer_config.json\n",
            "Special tokens file saved in ./results/checkpoint-106/special_tokens_map.json\n",
            "***** Running Evaluation *****\n",
            "  Num examples = 105\n",
            "  Batch size = 16\n",
            "Saving model checkpoint to ./results/checkpoint-159\n",
            "Configuration saved in ./results/checkpoint-159/config.json\n",
            "Model weights saved in ./results/checkpoint-159/pytorch_model.bin\n",
            "tokenizer config file saved in ./results/checkpoint-159/tokenizer_config.json\n",
            "Special tokens file saved in ./results/checkpoint-159/special_tokens_map.json\n",
            "***** Running Evaluation *****\n",
            "  Num examples = 105\n",
            "  Batch size = 16\n",
            "Saving model checkpoint to ./results/checkpoint-212\n",
            "Configuration saved in ./results/checkpoint-212/config.json\n",
            "Model weights saved in ./results/checkpoint-212/pytorch_model.bin\n",
            "tokenizer config file saved in ./results/checkpoint-212/tokenizer_config.json\n",
            "Special tokens file saved in ./results/checkpoint-212/special_tokens_map.json\n",
            "***** Running Evaluation *****\n",
            "  Num examples = 105\n",
            "  Batch size = 16\n",
            "Saving model checkpoint to ./results/checkpoint-265\n",
            "Configuration saved in ./results/checkpoint-265/config.json\n",
            "Model weights saved in ./results/checkpoint-265/pytorch_model.bin\n",
            "tokenizer config file saved in ./results/checkpoint-265/tokenizer_config.json\n",
            "Special tokens file saved in ./results/checkpoint-265/special_tokens_map.json\n",
            "***** Running Evaluation *****\n",
            "  Num examples = 105\n",
            "  Batch size = 16\n",
            "Saving model checkpoint to ./results/checkpoint-318\n",
            "Configuration saved in ./results/checkpoint-318/config.json\n",
            "Model weights saved in ./results/checkpoint-318/pytorch_model.bin\n",
            "tokenizer config file saved in ./results/checkpoint-318/tokenizer_config.json\n",
            "Special tokens file saved in ./results/checkpoint-318/special_tokens_map.json\n",
            "***** Running Evaluation *****\n",
            "  Num examples = 105\n",
            "  Batch size = 16\n",
            "Saving model checkpoint to ./results/checkpoint-371\n",
            "Configuration saved in ./results/checkpoint-371/config.json\n",
            "Model weights saved in ./results/checkpoint-371/pytorch_model.bin\n",
            "tokenizer config file saved in ./results/checkpoint-371/tokenizer_config.json\n",
            "Special tokens file saved in ./results/checkpoint-371/special_tokens_map.json\n",
            "***** Running Evaluation *****\n",
            "  Num examples = 105\n",
            "  Batch size = 16\n",
            "Saving model checkpoint to ./results/checkpoint-424\n",
            "Configuration saved in ./results/checkpoint-424/config.json\n",
            "Model weights saved in ./results/checkpoint-424/pytorch_model.bin\n",
            "tokenizer config file saved in ./results/checkpoint-424/tokenizer_config.json\n",
            "Special tokens file saved in ./results/checkpoint-424/special_tokens_map.json\n",
            "***** Running Evaluation *****\n",
            "  Num examples = 105\n",
            "  Batch size = 16\n",
            "Saving model checkpoint to ./results/checkpoint-477\n",
            "Configuration saved in ./results/checkpoint-477/config.json\n",
            "Model weights saved in ./results/checkpoint-477/pytorch_model.bin\n",
            "tokenizer config file saved in ./results/checkpoint-477/tokenizer_config.json\n",
            "Special tokens file saved in ./results/checkpoint-477/special_tokens_map.json\n",
            "***** Running Evaluation *****\n",
            "  Num examples = 105\n",
            "  Batch size = 16\n",
            "Saving model checkpoint to ./results/checkpoint-530\n",
            "Configuration saved in ./results/checkpoint-530/config.json\n",
            "Model weights saved in ./results/checkpoint-530/pytorch_model.bin\n",
            "tokenizer config file saved in ./results/checkpoint-530/tokenizer_config.json\n",
            "Special tokens file saved in ./results/checkpoint-530/special_tokens_map.json\n",
            "\n",
            "\n",
            "Training completed. Do not forget to share your model on huggingface.co/models =)\n",
            "\n",
            "\n",
            "Loading best model from ./results/checkpoint-318 (score: 0.3535476624965668).\n"
          ]
        },
        {
          "output_type": "execute_result",
          "data": {
            "text/plain": [
              "TrainOutput(global_step=530, training_loss=0.27170356534562023, metrics={'train_runtime': 85.443, 'train_samples_per_second': 98.662, 'train_steps_per_second': 6.203, 'total_flos': 64414478102310.0, 'train_loss': 0.27170356534562023, 'epoch': 10.0})"
            ]
          },
          "metadata": {},
          "execution_count": 40
        }
      ]
    },
    {
      "cell_type": "code",
      "source": [
        "raw_pred, _, _ = trainer.predict(tokenized_poem_sentiment['test'])\n",
        "print(f\"Total predictions: {len(raw_pred)}\")\n",
        "\n",
        "for text, prediction in zip(tokenized_poem_sentiment['test'], np.argmax(raw_pred, axis=1)):\n",
        "    expected = text['labels']\n",
        "    if expected != prediction: \n",
        "      print(f\"Text: {text['verse_text']} --- Expected: {id2label[expected]} --- Predicted: {id2label[prediction]}\")"
      ],
      "metadata": {
        "colab": {
          "base_uri": "https://localhost:8080/",
          "height": 357
        },
        "id": "fWi8WRi6r0Hg",
        "outputId": "e95e23a1-e130-4b5c-cd4a-83bd2c7cfad8"
      },
      "execution_count": 41,
      "outputs": [
        {
          "output_type": "stream",
          "name": "stderr",
          "text": [
            "The following columns in the test set don't have a corresponding argument in `BertForSequenceClassification.forward` and have been ignored: verse_text, id. If verse_text, id are not expected by `BertForSequenceClassification.forward`,  you can safely ignore this message.\n",
            "***** Running Prediction *****\n",
            "  Num examples = 104\n",
            "  Batch size = 16\n"
          ]
        },
        {
          "output_type": "display_data",
          "data": {
            "text/plain": [
              "<IPython.core.display.HTML object>"
            ],
            "text/html": []
          },
          "metadata": {}
        },
        {
          "output_type": "stream",
          "name": "stdout",
          "text": [
            "Total predictions: 104\n",
            "Text: if they are hungry, paradise --- Expected: no_impact --- Predicted: positive\n",
            "Text: lo now, o daughter of kings, let us rise in the face of the day, --- Expected: positive --- Predicted: no_impact\n",
            "Text: for penance, by a saintly styrian monk --- Expected: no_impact --- Predicted: negative\n",
            "Text: how hearts were answering to his own, --- Expected: positive --- Predicted: no_impact\n",
            "Text: sings the blackened log a tune --- Expected: no_impact --- Predicted: negative\n",
            "Text: the moon hath veiled her face, --- Expected: no_impact --- Predicted: negative\n",
            "Text: midway the floor (with thatch was it strewn) burned ever the fire-flame --- Expected: no_impact --- Predicted: negative\n",
            "Text: \"i rather should have hewn your limbs away, --- Expected: negative --- Predicted: no_impact\n",
            "Text: dauntless he rose, and to the fight return’d; --- Expected: positive --- Predicted: no_impact\n",
            "Text: o graves of men who lived and died --- Expected: no_impact --- Predicted: negative\n",
            "Text: i see the thing as clear as light,-- --- Expected: positive --- Predicted: no_impact\n",
            "Text: of my wit or in my mind --- Expected: no_impact --- Predicted: positive\n",
            "Text: daring to ask for naught, and having naught received. --- Expected: no_impact --- Predicted: negative\n"
          ]
        }
      ]
    },
    {
      "cell_type": "code",
      "source": [
        "predictions = np.argmax(raw_pred, axis=-1)\n",
        "labels = list(tokenized_poem_sentiment['test']['labels'])\n",
        "print_confusion_matrix(labels, predictions)"
      ],
      "metadata": {
        "colab": {
          "base_uri": "https://localhost:8080/",
          "height": 281
        },
        "id": "WZMlKiuVj5MU",
        "outputId": "57968941-89c4-4ea4-8577-f74f140370da"
      },
      "execution_count": 42,
      "outputs": [
        {
          "output_type": "display_data",
          "data": {
            "text/plain": [
              "<Figure size 432x288 with 2 Axes>"
            ],
            "image/png": "[encoded data removed]"
          },
          "metadata": {
            "needs_background": "light"
          }
        }
      ]
    },
    {
      "cell_type": "markdown",
      "source": [
        "## Prompting\n",
        "\n",
        "In this section, we will use `OpenPrompt` with a BERT model to classify zero-shot / few-shot."
      ],
      "metadata": {
        "id": "sW0kdbR49k0z"
      }
    },
    {
      "cell_type": "code",
      "source": [
        "from openprompt import PromptDataLoader, PromptForClassification\n",
        "from openprompt.data_utils import InputExample\n",
        "from openprompt.plms import load_plm\n",
        "from openprompt.prompts import ManualTemplate, ManualVerbalizer, ManualTemplate\n",
        "from tqdm import tqdm\n",
        "import torch"
      ],
      "metadata": {
        "id": "xld-T2JBzWVl"
      },
      "execution_count": 74,
      "outputs": []
    },
    {
      "cell_type": "code",
      "source": [
        "torch.cuda.empty_cache()"
      ],
      "metadata": {
        "id": "VAWDJEL0Qw0p"
      },
      "execution_count": 75,
      "outputs": []
    },
    {
      "cell_type": "markdown",
      "source": [
        "### Model and Data Preparation"
      ],
      "metadata": {
        "id": "ZasccMSC5qGa"
      }
    },
    {
      "cell_type": "code",
      "source": [
        "plm, tokenizer, model_config, WrapperClass = load_plm(\"bert\", \"bert-base-uncased\")"
      ],
      "metadata": {
        "colab": {
          "base_uri": "https://localhost:8080/"
        },
        "id": "ylmU4p-P0nmT",
        "outputId": "10e10283-f39c-4027-96e5-1788d50d5880"
      },
      "execution_count": 76,
      "outputs": [
        {
          "output_type": "stream",
          "name": "stderr",
          "text": [
            "Some weights of the model checkpoint at bert-base-uncased were not used when initializing BertForMaskedLM: ['cls.seq_relationship.weight', 'cls.seq_relationship.bias']\n",
            "- This IS expected if you are initializing BertForMaskedLM from the checkpoint of a model trained on another task or with another architecture (e.g. initializing a BertForSequenceClassification model from a BertForPreTraining model).\n",
            "- This IS NOT expected if you are initializing BertForMaskedLM from the checkpoint of a model that you expect to be exactly identical (initializing a BertForSequenceClassification model from a BertForSequenceClassification model).\n"
          ]
        }
      ]
    },
    {
      "cell_type": "markdown",
      "source": [
        "Map the `poem_sentiment` dataset to a prompt dataset."
      ],
      "metadata": {
        "id": "gAqSCOEH5yV4"
      }
    },
    {
      "cell_type": "code",
      "source": [
        "from openprompt.data_utils import InputExample\n",
        "\n",
        "dataset = {}\n",
        "for split in ['train', 'validation', 'test']:\n",
        "    dataset[split] = []\n",
        "    for data in poem_sentiment[split]:\n",
        "      dataset[split].append(\n",
        "          InputExample(text_a = data['verse_text'], \n",
        "              label=int(data['labels']), \n",
        "              guid=data['id']\n",
        "          )\n",
        "      )"
      ],
      "metadata": {
        "id": "LryKDoWO1sSN"
      },
      "execution_count": 77,
      "outputs": []
    },
    {
      "cell_type": "markdown",
      "source": [
        "Define a method for a `PromptDataLoader` for a specific dataset split and template (see below)"
      ],
      "metadata": {
        "id": "5IdC6oIyd8PY"
      }
    },
    {
      "cell_type": "code",
      "source": [
        "def get_dataloader(dataset_split, template, shuffle = False, batch_size=32):\n",
        "  \"\"\" Returns a prompt data load for a given dataset split and template \"\"\"\n",
        "\n",
        "  return PromptDataLoader(\n",
        "    dataset=dataset_split,\n",
        "    template=template, \n",
        "    tokenizer=tokenizer,\n",
        "    tokenizer_wrapper_class=WrapperClass, \n",
        "    shuffle=shuffle,\n",
        "    truncate_method=\"head\",\n",
        "    decoder_max_length=3,\n",
        "    batch_size=batch_size,\n",
        "    teacher_forcing=False,\n",
        "    predict_eos_token=False,\n",
        "    max_seq_length=64,\n",
        "  )"
      ],
      "metadata": {
        "id": "8GQwpskD1iKV"
      },
      "execution_count": 79,
      "outputs": []
    },
    {
      "cell_type": "markdown",
      "source": [
        "### Zero-Shot &  Learning\n",
        "\n",
        "In zero-shot learning, we test the performance of the model without an additional information"
      ],
      "metadata": {
        "id": "C3BgzTJ8c28R"
      }
    },
    {
      "cell_type": "markdown",
      "source": [
        "#### Template\n",
        "Define a manual template and test the it."
      ],
      "metadata": {
        "id": "2wDXWHXE56tK"
      }
    },
    {
      "cell_type": "code",
      "source": [
        "from openprompt.prompts import ManualTemplate\n",
        "template = ManualTemplate(\n",
        "    text = '{\"placeholder\":\"text_a\"} It was a {\"mask\"} feeling.',\n",
        "    tokenizer = tokenizer,\n",
        ")"
      ],
      "metadata": {
        "id": "3ESjMqiA0KzF"
      },
      "execution_count": 80,
      "outputs": []
    },
    {
      "cell_type": "code",
      "source": [
        "wrapped_example = template.wrap_one_example(dataset['train'][0])\n",
        "print(wrapped_example)"
      ],
      "metadata": {
        "colab": {
          "base_uri": "https://localhost:8080/"
        },
        "id": "DMHcKIcTw_m4",
        "outputId": "0bf18679-7485-4036-d760-64cce536977b"
      },
      "execution_count": 81,
      "outputs": [
        {
          "output_type": "stream",
          "name": "stdout",
          "text": [
            "[[{'text': 'with pale blue berries. in these peaceful shades--', 'loss_ids': 0, 'shortenable_ids': 1}, {'text': ' It was a', 'loss_ids': 0, 'shortenable_ids': 0}, {'text': '<mask>', 'loss_ids': 1, 'shortenable_ids': 0}, {'text': ' feeling.', 'loss_ids': 0, 'shortenable_ids': 0}], {'guid': 0, 'label': 1}]\n"
          ]
        }
      ]
    },
    {
      "cell_type": "markdown",
      "source": [
        "#### Verbalizer"
      ],
      "metadata": {
        "id": "m76twUiydmJz"
      }
    },
    {
      "cell_type": "markdown",
      "source": [
        "Define manual words / terms that refer to each class."
      ],
      "metadata": {
        "id": "l4xM0ThZDoZU"
      }
    },
    {
      "cell_type": "code",
      "source": [
        "# It was a ... feeling.\n",
        "label2answer = {\n",
        "  0: [\"bad\", \"horrible\"], # \"negative\", \"nasty\", \"poor\", \"guilty\"],\n",
        "  1: [\"fantastic\", \"good\"], # , \"wonderful\", \"terrific\", \"great\"],\n",
        "  2: [\"neutral\", \"common\"] # , \"regular\", \"habitual\", \"usual\"],\n",
        "}"
      ],
      "metadata": {
        "cellView": "code",
        "id": "5-lAnzQhKI0U"
      },
      "execution_count": 82,
      "outputs": []
    },
    {
      "cell_type": "code",
      "source": [
        "verbalizer = ManualVerbalizer(\n",
        "    classes=[0, 1, 2],\n",
        "    label_words=label2answer,\n",
        "    tokenizer=tokenizer\n",
        ")"
      ],
      "metadata": {
        "id": "K_X6aX_U9khr"
      },
      "execution_count": 83,
      "outputs": []
    },
    {
      "cell_type": "markdown",
      "source": [
        "#### Evaluation\n",
        "\n"
      ],
      "metadata": {
        "id": "lnm7HeTpy3py"
      }
    },
    {
      "cell_type": "code",
      "source": [
        "prompt_model = PromptForClassification(\n",
        "    template=template,\n",
        "    plm=plm,\n",
        "    verbalizer=verbalizer,\n",
        "    freeze_plm = False\n",
        ")\n",
        "prompt_model = prompt_model.cuda()"
      ],
      "metadata": {
        "id": "5iGkyBu32vYd"
      },
      "execution_count": 84,
      "outputs": []
    },
    {
      "cell_type": "code",
      "source": [
        "test_dataloader = get_dataloader(dataset[\"test\"], template)"
      ],
      "metadata": {
        "colab": {
          "base_uri": "https://localhost:8080/"
        },
        "id": "_PzxsC3a2AKg",
        "outputId": "8975b35a-c441-4f2e-fd5d-14df0f7dfb46"
      },
      "execution_count": 85,
      "outputs": [
        {
          "output_type": "stream",
          "name": "stderr",
          "text": [
            "tokenizing: 104it [00:00, 1212.73it/s]\n"
          ]
        }
      ]
    },
    {
      "cell_type": "code",
      "source": [
        "def evaluate(data_loader, prompt_model, desc=\"Validation\"):\n",
        "  prompt_model.eval()\n",
        "  all_logits = []\n",
        "  all_labels = []\n",
        "  with torch.no_grad():\n",
        "    for inputs in tqdm(data_loader, desc=\"Validation\"):\n",
        "        inputs = inputs.cuda()\n",
        "        logits = prompt_model(inputs)\n",
        "        all_logits.extend(logits.cpu().tolist())\n",
        "        all_labels.extend(inputs['label'].cpu().tolist())\n",
        "  return (all_logits, all_labels)"
      ],
      "metadata": {
        "id": "zDnPZ5yu5fS5"
      },
      "execution_count": 86,
      "outputs": []
    },
    {
      "cell_type": "code",
      "source": [
        "eval_pred = evaluate(test_dataloader, prompt_model)\n",
        "logits, labels = eval_pred"
      ],
      "metadata": {
        "colab": {
          "base_uri": "https://localhost:8080/"
        },
        "id": "Q_nbNFY8y_Xg",
        "outputId": "75bf9dd1-7f13-4032-a567-84904e054c5a"
      },
      "execution_count": 87,
      "outputs": [
        {
          "output_type": "stream",
          "name": "stderr",
          "text": [
            "Validation: 100%|██████████| 4/4 [00:00<00:00, 15.29it/s]\n"
          ]
        }
      ]
    },
    {
      "cell_type": "code",
      "source": [
        "compute_metrics(eval_pred)"
      ],
      "metadata": {
        "colab": {
          "base_uri": "https://localhost:8080/"
        },
        "id": "YqTw7U7V2wnn",
        "outputId": "73363b0d-165e-4cd0-d621-b37191733590"
      },
      "execution_count": 88,
      "outputs": [
        {
          "output_type": "execute_result",
          "data": {
            "text/plain": [
              "{'accuracy': 0.3076923076923077,\n",
              " 'f1': 0.3390262172284644,\n",
              " 'precision': 0.25128884960966263,\n",
              " 'recall': 0.6107456140350878}"
            ]
          },
          "metadata": {},
          "execution_count": 88
        }
      ]
    },
    {
      "cell_type": "code",
      "source": [
        "print_confusion_matrix(labels, np.argmax(logits, axis=-1))"
      ],
      "metadata": {
        "colab": {
          "base_uri": "https://localhost:8080/",
          "height": 280
        },
        "id": "yuy62Y_SEycU",
        "outputId": "42ec18d5-560a-41f3-c78e-e231408f51b6"
      },
      "execution_count": 89,
      "outputs": [
        {
          "output_type": "display_data",
          "data": {
            "text/plain": [
              "<Figure size 432x288 with 2 Axes>"
            ],
            "image/png": "[encoded data removed]"
          },
          "metadata": {
            "needs_background": "light"
          }
        }
      ]
    },
    {
      "cell_type": "markdown",
      "source": [
        "### Prompt-Based Fine-Tuning"
      ],
      "metadata": {
        "id": "PUw9WynNejOh"
      }
    },
    {
      "cell_type": "code",
      "source": [
        "epochs = 3"
      ],
      "metadata": {
        "id": "lk4kh2Gj64ep"
      },
      "execution_count": 90,
      "outputs": []
    },
    {
      "cell_type": "code",
      "source": [
        "train_dataloader = get_dataloader(dataset['train'], template, shuffle=True)\n",
        "validation_dataloader = get_dataloader(dataset['validation'], template, shuffle=False)"
      ],
      "metadata": {
        "colab": {
          "base_uri": "https://localhost:8080/"
        },
        "id": "AZ1i6GW7ymMn",
        "outputId": "9ae10e86-4513-4590-dcf0-7453dfa1e369"
      },
      "execution_count": 91,
      "outputs": [
        {
          "output_type": "stream",
          "name": "stderr",
          "text": [
            "tokenizing: 843it [00:00, 1140.94it/s]\n",
            "tokenizing: 105it [00:00, 1274.18it/s]\n"
          ]
        }
      ]
    },
    {
      "cell_type": "code",
      "source": [
        "from transformers import  AdamW, get_linear_schedule_with_warmup\n",
        "loss_func = torch.nn.CrossEntropyLoss()\n",
        "no_decay = ['bias', 'LayerNorm.weight']\n",
        "\n",
        "# it's always good practice to set no decay to biase and LayerNorm parameters\n",
        "optimizer_grouped_parameters = [\n",
        "    {'params': [p for n, p in prompt_model.named_parameters() if not any(nd in n for nd in no_decay)], 'weight_decay': 0.01},\n",
        "    {'params': [p for n, p in prompt_model.named_parameters() if any(nd in n for nd in no_decay)], 'weight_decay': 0.0}\n",
        "]\n",
        "\n",
        "optimizer = AdamW(optimizer_grouped_parameters, lr=3e-5)\n",
        "\n",
        "for epoch in range(epochs):\n",
        "    tot_loss = 0\n",
        "    for inputs in tqdm(train_dataloader, desc=f\"Epoch {epoch}\\t\"):\n",
        "        inputs = inputs.cuda()\n",
        "        logits = prompt_model(inputs)\n",
        "        labels = inputs['label']\n",
        "        loss = loss_func(logits, labels)\n",
        "        loss.backward()\n",
        "        tot_loss += loss.item()\n",
        "        optimizer.step()\n",
        "        optimizer.zero_grad()\n",
        "    \n",
        "    eval_pred = evaluate(validation_dataloader, prompt_model, desc=f\"Val epoch {epoch}\")\n",
        "    f1 = compute_metrics(eval_pred)['f1']\n",
        "    print(f\"\\nEpoch {epoch+1}, train loss: {tot_loss/(len(train_dataloader)+1)}, val f1: {f1}\\n\", flush=True)"
      ],
      "metadata": {
        "colab": {
          "base_uri": "https://localhost:8080/"
        },
        "id": "pRcMPWNNyRcs",
        "outputId": "25dc5f2f-dcc0-4167-cf6c-92a6998ff951"
      },
      "execution_count": 92,
      "outputs": [
        {
          "output_type": "stream",
          "name": "stderr",
          "text": [
            "/usr/local/lib/python3.7/dist-packages/transformers/optimization.py:310: FutureWarning: This implementation of AdamW is deprecated and will be removed in a future version. Use the PyTorch implementation torch.optim.AdamW instead, or set `no_deprecation_warning=True` to disable this warning\n",
            "  FutureWarning,\n",
            "Epoch 0\t: 100%|██████████| 27/27 [00:06<00:00,  4.38it/s]\n",
            "Validation: 100%|██████████| 4/4 [00:00<00:00, 16.44it/s]\n"
          ]
        },
        {
          "output_type": "stream",
          "name": "stdout",
          "text": [
            "\n",
            "Epoch 1, train loss: 0.7437421594347272, val f1: 0.7321132767941277\n",
            "\n"
          ]
        },
        {
          "output_type": "stream",
          "name": "stderr",
          "text": [
            "Epoch 1\t: 100%|██████████| 27/27 [00:06<00:00,  4.39it/s]\n",
            "Validation: 100%|██████████| 4/4 [00:00<00:00, 16.19it/s]\n"
          ]
        },
        {
          "output_type": "stream",
          "name": "stdout",
          "text": [
            "\n",
            "Epoch 2, train loss: 0.18516549162034476, val f1: 0.7802252816020024\n",
            "\n"
          ]
        },
        {
          "output_type": "stream",
          "name": "stderr",
          "text": [
            "Epoch 2\t: 100%|██████████| 27/27 [00:06<00:00,  4.39it/s]\n",
            "Validation: 100%|██████████| 4/4 [00:00<00:00, 16.10it/s]\n"
          ]
        },
        {
          "output_type": "stream",
          "name": "stdout",
          "text": [
            "\n",
            "Epoch 3, train loss: 0.03742532921023667, val f1: 0.7822222222222223\n",
            "\n"
          ]
        }
      ]
    },
    {
      "cell_type": "markdown",
      "source": [
        "#### Evaluation"
      ],
      "metadata": {
        "id": "dKil7tUD6_U2"
      }
    },
    {
      "cell_type": "code",
      "source": [
        "eval_pred = evaluate(test_dataloader, prompt_model)\n",
        "logits, labels = eval_pred"
      ],
      "metadata": {
        "id": "LIOhWnXI6-Vr",
        "colab": {
          "base_uri": "https://localhost:8080/"
        },
        "outputId": "e3a78d64-d27f-4b3b-b5dd-8e7d04788325"
      },
      "execution_count": 93,
      "outputs": [
        {
          "output_type": "stream",
          "name": "stderr",
          "text": [
            "Validation: 100%|██████████| 4/4 [00:00<00:00, 14.93it/s]\n"
          ]
        }
      ]
    },
    {
      "cell_type": "code",
      "source": [
        "compute_metrics(eval_pred)"
      ],
      "metadata": {
        "id": "SWfP_GIj7CXv",
        "colab": {
          "base_uri": "https://localhost:8080/"
        },
        "outputId": "ff795625-3c5e-4c5e-e182-023c51a3b5c2"
      },
      "execution_count": 94,
      "outputs": [
        {
          "output_type": "execute_result",
          "data": {
            "text/plain": [
              "{'accuracy': 0.8942307692307693,\n",
              " 'f1': 0.8542421854478591,\n",
              " 'precision': 0.8896705146705147,\n",
              " 'recall': 0.8381324688532926}"
            ]
          },
          "metadata": {},
          "execution_count": 94
        }
      ]
    },
    {
      "cell_type": "code",
      "source": [
        "print_confusion_matrix(labels, np.argmax(logits, axis=-1))"
      ],
      "metadata": {
        "id": "tS4zMvAM7Ncw",
        "colab": {
          "base_uri": "https://localhost:8080/",
          "height": 280
        },
        "outputId": "c0531937-047c-4b0a-bfa1-e29e7a54b852"
      },
      "execution_count": 95,
      "outputs": [
        {
          "output_type": "display_data",
          "data": {
            "text/plain": [
              "<Figure size 432x288 with 2 Axes>"
            ],
            "image/png": "[encoded data removed]"
          },
          "metadata": {
            "needs_background": "light"
          }
        }
      ]
    },
    {
      "cell_type": "markdown",
      "source": [
        "### Soft Verbalizer"
      ],
      "metadata": {
        "id": "83hJA26AL1R0"
      }
    },
    {
      "cell_type": "code",
      "source": [
        "from openprompt.prompts import SoftVerbalizer"
      ],
      "metadata": {
        "id": "dxvwlGf5L-uT"
      },
      "execution_count": 111,
      "outputs": []
    },
    {
      "cell_type": "code",
      "source": [
        "soft_verbalizer = SoftVerbalizer(tokenizer, plm, num_classes=3)"
      ],
      "metadata": {
        "id": "s9cejC6aLgrg"
      },
      "execution_count": 112,
      "outputs": []
    },
    {
      "cell_type": "code",
      "source": [
        "plm, tokenizer, model_config, WrapperClass = load_plm(\"bert\", \"bert-base-uncased\")\n",
        "prompt_model = PromptForClassification(plm=plm,template=template, verbalizer=soft_verbalizer, freeze_plm=False)"
      ],
      "metadata": {
        "colab": {
          "base_uri": "https://localhost:8080/"
        },
        "id": "ZfvTCq3dMEoa",
        "outputId": "7fbd4aff-e868-41ad-9784-368b1a13fce1"
      },
      "execution_count": 113,
      "outputs": [
        {
          "output_type": "stream",
          "name": "stderr",
          "text": [
            "Some weights of the model checkpoint at bert-base-uncased were not used when initializing BertForMaskedLM: ['cls.seq_relationship.weight', 'cls.seq_relationship.bias']\n",
            "- This IS expected if you are initializing BertForMaskedLM from the checkpoint of a model trained on another task or with another architecture (e.g. initializing a BertForSequenceClassification model from a BertForPreTraining model).\n",
            "- This IS NOT expected if you are initializing BertForMaskedLM from the checkpoint of a model that you expect to be exactly identical (initializing a BertForSequenceClassification model from a BertForSequenceClassification model).\n"
          ]
        }
      ]
    },
    {
      "cell_type": "code",
      "source": [
        "epochs = 5"
      ],
      "metadata": {
        "id": "xAhrj9XdTHzd"
      },
      "execution_count": 114,
      "outputs": []
    },
    {
      "cell_type": "markdown",
      "source": [
        "#### Training"
      ],
      "metadata": {
        "id": "jxSTf6eSM7tD"
      }
    },
    {
      "cell_type": "code",
      "source": [
        "prompt_model = prompt_model.cuda()"
      ],
      "metadata": {
        "id": "0FdiV03FV-kD"
      },
      "execution_count": 115,
      "outputs": []
    },
    {
      "cell_type": "code",
      "source": [
        "from transformers import  AdamW, get_linear_schedule_with_warmup\n",
        "loss_func = torch.nn.CrossEntropyLoss()\n",
        "\n",
        "no_decay = ['bias', 'LayerNorm.weight']\n",
        "\n",
        "# it's always good practice to set no decay to biase and LayerNorm parameters\n",
        "optimizer_grouped_parameters1 = [\n",
        "    {'params': [p for n, p in prompt_model.plm.named_parameters() if not any(nd in n for nd in no_decay)], 'weight_decay': 0.01},\n",
        "    {'params': [p for n, p in prompt_model.plm.named_parameters() if any(nd in n for nd in no_decay)], 'weight_decay': 0.0}\n",
        "]\n",
        "\n",
        "# Using different optimizer for prompt parameters and model parameters\n",
        "\n",
        "optimizer_grouped_parameters2 = [\n",
        "    {'params': prompt_model.verbalizer.group_parameters_1, \"lr\":3e-5},\n",
        "    {'params': prompt_model.verbalizer.group_parameters_2, \"lr\":3e-4},\n",
        "]\n",
        "\n",
        "\n",
        "optimizer1 = AdamW(optimizer_grouped_parameters1, lr=3e-5)\n",
        "optimizer2 = AdamW(optimizer_grouped_parameters2)\n",
        "\n",
        "for epoch in range(epochs):\n",
        "    tot_loss = 0\n",
        "    for inputs in tqdm(train_dataloader, desc=f\"Epoch {epoch}\\t\"):\n",
        "        inputs = inputs.cuda()\n",
        "        logits = prompt_model(inputs)\n",
        "        labels = inputs['label']\n",
        "        loss = loss_func(logits, labels)\n",
        "        loss.backward()\n",
        "        tot_loss += loss.item()\n",
        "        optimizer1.step()\n",
        "        optimizer1.zero_grad()\n",
        "        optimizer2.step()\n",
        "        optimizer2.zero_grad()\n",
        "  \n",
        "    eval_pred = evaluate(validation_dataloader, prompt_model, desc=f\"Val epoch {epoch}\")\n",
        "    f1 = compute_metrics(eval_pred)['f1']\n",
        "    print(f\"\\nEpoch {epoch+1}, train loss: {tot_loss/(len(train_dataloader)+1)}, val f1: {f1}\\n\", flush=True)"
      ],
      "metadata": {
        "colab": {
          "base_uri": "https://localhost:8080/"
        },
        "id": "gYFWn0jWMcL_",
        "outputId": "39104ec6-81aa-4a89-8671-d2048650a58f"
      },
      "execution_count": 116,
      "outputs": [
        {
          "output_type": "stream",
          "name": "stderr",
          "text": [
            "/usr/local/lib/python3.7/dist-packages/transformers/optimization.py:310: FutureWarning: This implementation of AdamW is deprecated and will be removed in a future version. Use the PyTorch implementation torch.optim.AdamW instead, or set `no_deprecation_warning=True` to disable this warning\n",
            "  FutureWarning,\n",
            "Epoch 0\t: 100%|██████████| 27/27 [00:05<00:00,  4.91it/s]\n",
            "Validation: 100%|██████████| 4/4 [00:00<00:00, 16.24it/s]\n"
          ]
        },
        {
          "output_type": "stream",
          "name": "stdout",
          "text": [
            "\n",
            "Epoch 1, train loss: 0.578514713793993, val f1: 0.7650897528330837\n",
            "\n"
          ]
        },
        {
          "output_type": "stream",
          "name": "stderr",
          "text": [
            "Epoch 1\t: 100%|██████████| 27/27 [00:05<00:00,  4.93it/s]\n",
            "Validation: 100%|██████████| 4/4 [00:00<00:00, 16.27it/s]\n"
          ]
        },
        {
          "output_type": "stream",
          "name": "stdout",
          "text": [
            "\n",
            "Epoch 2, train loss: 0.1714011180613722, val f1: 0.8497560595205021\n",
            "\n"
          ]
        },
        {
          "output_type": "stream",
          "name": "stderr",
          "text": [
            "Epoch 2\t: 100%|██████████| 27/27 [00:05<00:00,  4.92it/s]\n",
            "Validation: 100%|██████████| 4/4 [00:00<00:00, 16.07it/s]\n"
          ]
        },
        {
          "output_type": "stream",
          "name": "stdout",
          "text": [
            "\n",
            "Epoch 3, train loss: 0.037235209452254434, val f1: 0.7195767195767195\n",
            "\n"
          ]
        },
        {
          "output_type": "stream",
          "name": "stderr",
          "text": [
            "Epoch 3\t: 100%|██████████| 27/27 [00:05<00:00,  4.91it/s]\n",
            "Validation: 100%|██████████| 4/4 [00:00<00:00, 16.42it/s]\n"
          ]
        },
        {
          "output_type": "stream",
          "name": "stdout",
          "text": [
            "\n",
            "Epoch 4, train loss: 0.003987500390524344, val f1: 0.8229123943409659\n",
            "\n"
          ]
        },
        {
          "output_type": "stream",
          "name": "stderr",
          "text": [
            "Epoch 4\t: 100%|██████████| 27/27 [00:05<00:00,  4.92it/s]\n",
            "Validation: 100%|██████████| 4/4 [00:00<00:00, 16.29it/s]\n"
          ]
        },
        {
          "output_type": "stream",
          "name": "stdout",
          "text": [
            "\n",
            "Epoch 5, train loss: 0.0004599549572178928, val f1: 0.8229123943409659\n",
            "\n"
          ]
        }
      ]
    },
    {
      "cell_type": "markdown",
      "source": [
        "#### Evaluation"
      ],
      "metadata": {
        "id": "TrYmYKylM-3O"
      }
    },
    {
      "cell_type": "code",
      "source": [
        "eval_pred = evaluate(test_dataloader, prompt_model)\n",
        "logits, labels = eval_pred"
      ],
      "metadata": {
        "colab": {
          "base_uri": "https://localhost:8080/"
        },
        "id": "_0JWip1-MgAy",
        "outputId": "e48489f5-7114-45c3-8cfb-ac332a374c5a"
      },
      "execution_count": 117,
      "outputs": [
        {
          "output_type": "stream",
          "name": "stderr",
          "text": [
            "Validation: 100%|██████████| 4/4 [00:00<00:00, 15.39it/s]\n"
          ]
        }
      ]
    },
    {
      "cell_type": "code",
      "source": [
        "compute_metrics(eval_pred)"
      ],
      "metadata": {
        "colab": {
          "base_uri": "https://localhost:8080/"
        },
        "id": "vYH1OWCYNKX8",
        "outputId": "7f695e31-e353-447b-c364-b66124d9d41c"
      },
      "execution_count": 118,
      "outputs": [
        {
          "output_type": "execute_result",
          "data": {
            "text/plain": [
              "{'accuracy': 0.8653846153846154,\n",
              " 'f1': 0.8042997450892188,\n",
              " 'precision': 0.8538011695906432,\n",
              " 'recall': 0.7789219425375032}"
            ]
          },
          "metadata": {},
          "execution_count": 118
        }
      ]
    },
    {
      "cell_type": "code",
      "source": [
        "print_confusion_matrix(labels, np.argmax(logits, axis=-1))"
      ],
      "metadata": {
        "colab": {
          "base_uri": "https://localhost:8080/",
          "height": 280
        },
        "id": "UxypbpxZNK3j",
        "outputId": "b3532357-6daf-402d-b8fd-935925cb0d61"
      },
      "execution_count": 119,
      "outputs": [
        {
          "output_type": "display_data",
          "data": {
            "text/plain": [
              "<Figure size 432x288 with 2 Axes>"
            ],
            "image/png": "[encoded data removed]"
          },
          "metadata": {
            "needs_background": "light"
          }
        }
      ]
    }
  ]
}